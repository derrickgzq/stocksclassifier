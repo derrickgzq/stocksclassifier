{
  "nbformat": 4,
  "nbformat_minor": 0,
  "metadata": {
    "colab": {
      "provenance": [],
      "collapsed_sections": []
    },
    "kernelspec": {
      "name": "python3",
      "display_name": "Python 3"
    },
    "language_info": {
      "name": "python"
    }
  },
  "cells": [
    {
      "cell_type": "code",
      "source": [
        "!pip install yahoo_fin\n",
        "!pip install yfinance"
      ],
      "metadata": {
        "id": "ReOayYFvvnMh"
      },
      "execution_count": null,
      "outputs": []
    },
    {
      "cell_type": "code",
      "execution_count": null,
      "metadata": {
        "id": "cnrbv-0LvEvE"
      },
      "outputs": [],
      "source": [
        "import pandas as pd\n",
        "import numpy as np\n",
        "import seaborn as sns\n",
        "import matplotlib.pyplot as plt\n",
        "import requests\n",
        "from bs4 import BeautifulSoup\n",
        "import yahoo_fin.stock_info as si\n",
        "import plotly.graph_objects as go\n",
        "import plotly.express as px\n",
        "%matplotlib inline"
      ]
    },
    {
      "cell_type": "code",
      "source": [
        "df_ndq100 = pd.read_html('https://en.wikipedia.org/wiki/Nasdaq-100')[4]"
      ],
      "metadata": {
        "id": "CO6ix4QpeUDq"
      },
      "execution_count": null,
      "outputs": []
    },
    {
      "cell_type": "code",
      "source": [
        "list_ndq100 = df_ndq100['Ticker'].to_list()"
      ],
      "metadata": {
        "id": "uydpNyxbepL5"
      },
      "execution_count": null,
      "outputs": []
    },
    {
      "cell_type": "code",
      "source": [
        "stock_list = ['a','aal','aapl','abbv','abt','adbe','adi','aig','amat','amc','amd','amgn','amkr','avgo','axp','ba','baba',\n",
        "              'bac','bbby','bj','c','cah','cat','ccl','cpe','crm','csco','cvx','ddog','dis','dow','dks','ed','fb','fsly',\n",
        "              'gfs','gme','goog','grab','gs','hd','hlt','hon','hsbc','ibkr','ibm',\n",
        "              'intc','jnj','jpm','k','ko','lin','lly','lrcx','low','ma','mcd','merc','mmm','msft','ms','mu','nke','nvda','on',\n",
        "              'orcl','pcg','pep','pfe','pg','plug','qcom','ride','rtx','sbux','schw','se','snap','sndl','snow','sofi','stm',\n",
        "              'stx','trv','tsem','tsla','tsm','txn','u','ubs','uctt','umc','unh','ups','upst','v','vz','wfc','wmt','xom']"
      ],
      "metadata": {
        "id": "JWYNfj7QpEtl"
      },
      "execution_count": null,
      "outputs": []
    },
    {
      "cell_type": "code",
      "source": [
        "#print(len(stock_list))\n",
        "print(len(list_ndq100))"
      ],
      "metadata": {
        "colab": {
          "base_uri": "https://localhost:8080/"
        },
        "id": "jcpkmaIHAFq3",
        "outputId": "4dd991c8-9a84-4da5-8aaf-959c637aade1"
      },
      "execution_count": null,
      "outputs": [
        {
          "output_type": "stream",
          "name": "stdout",
          "text": [
            "102\n"
          ]
        }
      ]
    },
    {
      "cell_type": "markdown",
      "source": [
        "# CLUSTERING"
      ],
      "metadata": {
        "id": "1CQYaQHoxNGD"
      }
    },
    {
      "cell_type": "markdown",
      "source": [
        "Cluster companies based on their cashflows"
      ],
      "metadata": {
        "id": "tyHO_FaKP0GR"
      }
    },
    {
      "cell_type": "code",
      "source": [
        "si.get_cash_flow('5168.KL')"
      ],
      "metadata": {
        "id": "mREUXCRO_aEr"
      },
      "execution_count": null,
      "outputs": []
    },
    {
      "cell_type": "code",
      "source": [
        "for i in list_ndq100:\n",
        "  si.get_cash_flow(i)\n",
        "  print(i,' ok')\n"
      ],
      "metadata": {
        "id": "4ztS9Fl6meE7"
      },
      "execution_count": null,
      "outputs": []
    },
    {
      "cell_type": "code",
      "source": [
        "list_investing_cashflow = []\n",
        "for i in stock_list:\n",
        "  meanivcashflow = si.get_cash_flow(i).transpose()['totalCashflowsFromInvestingActivities'].mean()\n",
        "  list_investing_cashflow.append(meanivcashflow)\n",
        "  print(i,'done')"
      ],
      "metadata": {
        "id": "sig2bl3LAlnr"
      },
      "execution_count": null,
      "outputs": []
    },
    {
      "cell_type": "code",
      "source": [
        "list_operating_cashflow = []\n",
        "for i in list_ndq100:\n",
        "  meanopcashflow = si.get_cash_flow(i).transpose()['totalCashFromOperatingActivities'][0]\n",
        "  list_operating_cashflow.append(meanopcashflow)\n",
        "  print(i,'done')"
      ],
      "metadata": {
        "id": "Uxt2fprS5UCm"
      },
      "execution_count": null,
      "outputs": []
    },
    {
      "cell_type": "code",
      "source": [
        "list_financing_cashflow = []\n",
        "for i in list_snp500:\n",
        "  meanficashflow = si.get_cash_flow(i).transpose()['totalCashFromFinancingActivities'][0]\n",
        "  list_financing_cashflow.append(meanficashflow)\n",
        "  print(i,'done')\n"
      ],
      "metadata": {
        "id": "zroQWTRe5Y0D"
      },
      "execution_count": null,
      "outputs": []
    },
    {
      "cell_type": "code",
      "source": [
        "x = np.arange(len(stock_list))"
      ],
      "metadata": {
        "id": "8hwIQmFAG5vX"
      },
      "execution_count": null,
      "outputs": []
    },
    {
      "cell_type": "code",
      "source": [
        "x"
      ],
      "metadata": {
        "colab": {
          "base_uri": "https://localhost:8080/"
        },
        "id": "k9lnagnWHEIo",
        "outputId": "28ccf2c9-5f31-48e3-92ba-23b354aad563"
      },
      "execution_count": null,
      "outputs": [
        {
          "output_type": "execute_result",
          "data": {
            "text/plain": [
              "array([ 0,  1,  2,  3,  4,  5,  6,  7,  8,  9, 10, 11, 12, 13, 14, 15, 16,\n",
              "       17, 18, 19])"
            ]
          },
          "metadata": {},
          "execution_count": 54
        }
      ]
    },
    {
      "cell_type": "code",
      "source": [
        "fig, ax = plt.subplots(figsize = (12,7))\n",
        "b1 = ax.bar(x,listt, width = 0.4)\n",
        "b2 = ax.bar(x + 0.4, list_operating_cashflow, width = 0.4)\n",
        "\n",
        "ax.set_xticks(x + 0.4 / 2)\n",
        "ax.set_xticklabels(stock_list)\n",
        "\n",
        "ax.legend()\n",
        "ax.spines['top'].set_visible(False)\n",
        "ax.spines['right'].set_visible(False)\n",
        "ax.spines['left'].set_visible(False)\n",
        "ax.spines['bottom'].set_color('#DDDDDD')\n",
        "ax.tick_params(bottom=False, left=False)\n",
        "ax.set_axisbelow(True)\n",
        "ax.yaxis.grid(True, color='#EEEEEE')\n",
        "ax.xaxis.grid(False)\n",
        "\n",
        "ax.set_xlabel('Stocks', labelpad=15)\n",
        "ax.set_ylabel('Cash flow', labelpad=15)\n",
        "ax.set_title('Average operating and financing cashflow for each company', pad=15)\n",
        "\n",
        "for bar in ax.patches:\n",
        "  # The text annotation for each bar should be its height.\n",
        "  bar_value = bar.get_height()\n",
        "  # Format the text with commas to separate thousands. You can do\n",
        "  # any type of formatting here though.\n",
        "  text = f'{bar_value:,}'\n",
        "  # This will give the middle of each bar on the x-axis.\n",
        "  text_x = bar.get_x() + bar.get_width() / 2\n",
        "  # get_y() is where the bar starts so we add the height to it.\n",
        "  text_y = bar.get_y() + bar_value\n",
        "  # If we want the text to be the same color as the bar, we can\n",
        "  # get the color like so:\n",
        "  bar_color = bar.get_facecolor()\n",
        "  # If you want a consistent color, you can just set it as a constant, e.g. #222222\n",
        "  ax.text(text_x, text_y, text, ha='center', va='bottom', color=bar_color,\n",
        "          size=12)\n",
        "\n",
        "fig.tight_layout()"
      ],
      "metadata": {
        "colab": {
          "base_uri": "https://localhost:8080/",
          "height": 530
        },
        "id": "2ZEZu8o_CuhL",
        "outputId": "291b632b-35a3-4022-9e85-b97632090e42"
      },
      "execution_count": null,
      "outputs": [
        {
          "output_type": "stream",
          "name": "stderr",
          "text": [
            "WARNING:matplotlib.legend:No handles with labels found to put in legend.\n"
          ]
        },
        {
          "output_type": "display_data",
          "data": {
            "text/plain": [
              "<Figure size 864x504 with 1 Axes>"
            ],
            "image/png": "[encoded data removed]"
          },
          "metadata": {
            "needs_background": "light"
          }
        }
      ]
    },
    {
      "cell_type": "code",
      "source": [
        "import plotly.express as px"
      ],
      "metadata": {
        "id": "uluoW6_JRYvi"
      },
      "execution_count": null,
      "outputs": []
    },
    {
      "cell_type": "code",
      "source": [
        "df = pd.DataFrame(\n",
        "    {'Stock':stock_list,\n",
        "     'Mean financing cashflow':list_financing_cashflow,\n",
        "     'Mean operating cashflow':list_operating_cashflow,\n",
        "     'Mean investing cashflow':list_investing_cashflow})"
      ],
      "metadata": {
        "id": "63hThZQuRbP7"
      },
      "execution_count": null,
      "outputs": []
    },
    {
      "cell_type": "code",
      "source": [
        "df.duplicated().sum()"
      ],
      "metadata": {
        "colab": {
          "base_uri": "https://localhost:8080/"
        },
        "id": "enZvJmMPB12w",
        "outputId": "87d4f2ad-9f4a-417b-93ba-99db61849e68"
      },
      "execution_count": null,
      "outputs": [
        {
          "output_type": "execute_result",
          "data": {
            "text/plain": [
              "0"
            ]
          },
          "metadata": {},
          "execution_count": 16
        }
      ]
    },
    {
      "cell_type": "code",
      "source": [
        "df = df.drop_duplicates()"
      ],
      "metadata": {
        "id": "1KkDPH-YCHgl"
      },
      "execution_count": null,
      "outputs": []
    },
    {
      "cell_type": "code",
      "source": [
        "fig = px.scatter_3d(df, x = df['Mean financing cashflow'], y = df['Mean operating cashflow'],z = df['Mean investing cashflow'],\n",
        "                    custom_data = ['Stock'])\n",
        "fig.update_traces(textposition = 'top center')\n",
        "\n",
        "fig.update_layout(\n",
        "    height = 800,\n",
        "    title_text = 'Average operating and financing cashflow for each company')\n",
        "temp1 = fig.data[0].hovertemplate\n",
        "fig.update_traces(hovertemplate = temp1 + '<br>' + 'Stock: %{customdata[0]}')\n",
        "fig.show()"
      ],
      "metadata": {
        "colab": {
          "base_uri": "https://localhost:8080/",
          "height": 817
        },
        "id": "r1kgW1p0STS3",
        "outputId": "0a18e16a-673c-43c8-99ac-ed06415f9a95"
      },
      "execution_count": null,
      "outputs": [
        {
          "output_type": "display_data",
          "data": {
            "text/html": [
              "<html>\n",
              "<head><meta charset=\"utf-8\" /></head>\n",
              "<body>\n",
              "    <div>            <script src=\"https://cdnjs.cloudflare.com/ajax/libs/mathjax/2.7.5/MathJax.js?config=TeX-AMS-MML_SVG\"></script><script type=\"text/javascript\">if (window.MathJax) {MathJax.Hub.Config({SVG: {font: \"STIX-Web\"}});}</script>                <script type=\"text/javascript\">window.PlotlyConfig = {MathJaxConfig: 'local'};</script>\n",
              "        <script src=\"https://cdn.plot.ly/plotly-2.8.3.min.js\"></script>                <div id=\"4d0cd9e3-20e3-4c99-81cc-d7483c4b6252\" class=\"plotly-graph-div\" style=\"height:800px; width:100%;\"></div>            <script type=\"text/javascript\">                                    window.PLOTLYENV=window.PLOTLYENV || {};                                    if (document.getElementById(\"4d0cd9e3-20e3-4c99-81cc-d7483c4b6252\")) {                    Plotly.newPlot(                        \"4d0cd9e3-20e3-4c99-81cc-d7483c4b6252\",                        [{\"customdata\":[[\"a\"],[\"aal\"],[\"aapl\"],[\"abbv\"],[\"abt\"],[\"adbe\"],[\"adi\"],[\"aig\"],[\"amat\"],[\"amc\"],[\"amd\"],[\"amgn\"],[\"amkr\"],[\"avgo\"],[\"axp\"],[\"ba\"],[\"baba\"],[\"bac\"],[\"bbby\"],[\"bj\"],[\"c\"],[\"cah\"],[\"cat\"],[\"ccl\"],[\"cpe\"],[\"crm\"],[\"csco\"],[\"cvx\"],[\"ddog\"],[\"dis\"],[\"dow\"],[\"dks\"],[\"ed\"],[\"fb\"],[\"fsly\"],[\"gfs\"],[\"gme\"],[\"goog\"],[\"grab\"],[\"gs\"],[\"hd\"],[\"hlt\"],[\"hon\"],[\"hsbc\"],[\"ibkr\"],[\"ibm\"],[\"intc\"],[\"jnj\"],[\"jpm\"],[\"k\"],[\"ko\"],[\"lin\"],[\"lly\"],[\"lrcx\"],[\"low\"],[\"ma\"],[\"mcd\"],[\"merc\"],[\"mmm\"],[\"msft\"],[\"ms\"],[\"mu\"],[\"nke\"],[\"nvda\"],[\"on\"],[\"orcl\"],[\"pcg\"],[\"pep\"],[\"pfe\"],[\"pg\"],[\"plug\"],[\"qcom\"],[\"ride\"],[\"rtx\"],[\"sbux\"],[\"schw\"],[\"se\"],[\"snap\"],[\"sndl\"],[\"snow\"],[\"sofi\"],[\"stm\"],[\"stx\"],[\"trv\"],[\"tsem\"],[\"tsla\"],[\"tsm\"],[\"txn\"],[\"u\"],[\"ubs\"],[\"uctt\"],[\"umc\"],[\"unh\"],[\"ups\"],[\"upst\"],[\"v\"],[\"vz\"],[\"wfc\"],[\"wmt\"],[\"xom\"]],\"hovertemplate\":\"Mean financing cashflow=%{x}<br>Mean operating cashflow=%{y}<br>Mean investing cashflow=%{z}<extra></extra><br>Stock: %{customdata[0]}\",\"legendgroup\":\"\",\"marker\":{\"color\":\"#636efa\",\"symbol\":\"circle\"},\"mode\":\"markers\",\"name\":\"\",\"scene\":\"scene\",\"showlegend\":false,\"x\":[-696000000.0,5288000000.0,-93353000000.0,-19039000000.0,-5494000000.0,-4301000000.0,-3959664000.0,-3735000000.0,-4591000000.0,1990700000.0,-1895000000.0,-8271000000.0,-30102000.0,-8974000000.0,-14933000000.0,-5600000000.0,-64449000000.0,291650000000.0,-606018000.0,-525226000.0,17272000000.0,-1317000000.0,-4188000000.0,6949000000.0,-108097000.0,7838000000.0,-12039000000.0,-23113000000.0,34940000.0,-4385000000.0,-6071000000.0,-287722000.0,461000000.0,-50728000000.0,936551000.0,650440000.0,1200600000.0,-61362000000.0,6566000000.0,134738000000.0,-19120000000.0,-1793000000.0,-8254000000.0,84909000000.0,-523000000.0,-13354000000.0,-5862000000.0,-14047000000.0,275993000000.0,-1306000000.0,-6786000000.0,-7588000000.0,-4131300000.0,-4578937000.0,-12016000000.0,-6555000000.0,-5595600000.0,-9504000.0,-6145000000.0,-58876000000.0,41547000000.0,-1781000000.0,-4836000000.0,1865000000.0,-569400000.0,-29126000000.0,4323000000.0,-10780000000.0,-9816000000.0,-14876000000.0,3597779000.0,-6798000000.0,287759000.0,-6685000000.0,-3651000000.0,96323000000.0,7401589000.0,1065073000.0,1149601000.0,178198000.0,684987000.0,-1314000000.0,-1899000000.0,-2037000000.0,-76857000.0,-5203000000.0,136608438000.0,-3137000000.0,1721002000.0,40170000000.0,460800000.0,12490107000.0,-7455000000.0,-6823000000.0,855432000.0,-14410000000.0,8277000000.0,-11238000000.0,-22828000000.0,-35423000000.0],\"y\":[1485000000.0,704000000.0,104038000000.0,22777000000.0,10533000000.0,7230000000.0,2735069000.0,6279000000.0,5442000000.0,-614100000.0,3521000000.0,9261000000.0,1121295000.0,13764000000.0,14645000000.0,-3416000000.0,142759000000.0,-7193000000.0,17854000.0,831655000.0,61249000000.0,2429000000.0,7198000000.0,-4109000000.0,974143000.0,6000000000.0,15454000000.0,29187000000.0,286545000.0,5567000000.0,7009000000.0,1616872000.0,2733000000.0,57683000000.0,-38482000.0,2839030000.0,-434300000.0,91652000000.0,-938000000.0,921000000.0,16571000000.0,109000000.0,6038000000.0,8609000000.0,5896000000.0,12796000000.0,29991000000.0,23410000000.0,78084000000.0,1701000000.0,12625000000.0,9725000000.0,7260700000.0,3099674000.0,10113000000.0,9463000000.0,9141500000.0,182214000.0,7454000000.0,89035000000.0,33971000000.0,12468000000.0,5188000000.0,9108000000.0,1782000000.0,9539000000.0,2262000000.0,11616000000.0,32580000000.0,16723000000.0,-358176000.0,10536000000.0,-387990000.0,7071000000.0,5989100000.0,2118000000.0,208649000.0,292880000.0,-155437000.0,110179000.0,-1350217000.0,3060000000.0,1657000000.0,7274000000.0,421293000.0,11497000000.0,1112160722000.0,8756000000.0,-111449000.0,1600000000.0,211600000.0,90351891000.0,22343000000.0,15007000000.0,168353000.0,15227000000.0,39539000000.0,-11525000000.0,24181000000.0,48129000000.0],\"z\":[-749000000.0,-5983000000.0,-14545000000.0,-2344000000.0,-2008000000.0,-3537000000.0,2143525000.0,-3280000000.0,-1216000000.0,-68200000.0,-686000000.0,733000000.0,-943879000.0,-245000000.0,-10529000000.0,9324000000.0,-198592000000.0,-313291000000.0,-349182000.0,-304511000.0,-124905000000.0,-378000000.0,-3084000000.0,-3543000000.0,-876400000.0,-14536000000.0,-5285000000.0,-5865000000.0,-273740000.0,-3163000000.0,-2914000000.0,-343979000.0,-3484000000.0,-7570000000.0,-794511000.0,-1450286000.0,-64800000.0,-35523000000.0,-2757000000.0,-30465000000.0,-2969000000.0,-57000000.0,-1061000000.0,27536000000.0,-188000000.0,-5975000000.0,-25167000000.0,-8683000000.0,-129344000000.0,-528000000.0,-2765000000.0,-3007000000.0,-2762300000.0,612275000.0,-1646000000.0,-5272000000.0,-2165700000.0,-187127000.0,-1317000000.0,-30311000000.0,-49897000000.0,-10589000000.0,-1524000000.0,-9830000000.0,-915100000.0,11220000000.0,-6905000000.0,-3269000000.0,-22546000000.0,-4424000000.0,-1740891000.0,-3356000000.0,-285514000.0,-1364000000.0,-319500000.0,-75663000000.0,-3767273000.0,90227000.0,-496280000.0,-20800000.0,110193000.0,-1518000000.0,-352000000.0,-5196000000.0,-338944000.0,-7868000000.0,-836365863000.0,-4095000000.0,-1837360000.0,-2119000000.0,-404800000.0,-62163400000.0,-10372000000.0,-3818000000.0,-143877000.0,-152000000.0,-67153000000.0,-7619000000.0,-6015000000.0,-10235000000.0],\"type\":\"scatter3d\",\"textposition\":\"top center\"}],                        {\"template\":{\"data\":{\"bar\":[{\"error_x\":{\"color\":\"#2a3f5f\"},\"error_y\":{\"color\":\"#2a3f5f\"},\"marker\":{\"line\":{\"color\":\"#E5ECF6\",\"width\":0.5},\"pattern\":{\"fillmode\":\"overlay\",\"size\":10,\"solidity\":0.2}},\"type\":\"bar\"}],\"barpolar\":[{\"marker\":{\"line\":{\"color\":\"#E5ECF6\",\"width\":0.5},\"pattern\":{\"fillmode\":\"overlay\",\"size\":10,\"solidity\":0.2}},\"type\":\"barpolar\"}],\"carpet\":[{\"aaxis\":{\"endlinecolor\":\"#2a3f5f\",\"gridcolor\":\"white\",\"linecolor\":\"white\",\"minorgridcolor\":\"white\",\"startlinecolor\":\"#2a3f5f\"},\"baxis\":{\"endlinecolor\":\"#2a3f5f\",\"gridcolor\":\"white\",\"linecolor\":\"white\",\"minorgridcolor\":\"white\",\"startlinecolor\":\"#2a3f5f\"},\"type\":\"carpet\"}],\"choropleth\":[{\"colorbar\":{\"outlinewidth\":0,\"ticks\":\"\"},\"type\":\"choropleth\"}],\"contour\":[{\"colorbar\":{\"outlinewidth\":0,\"ticks\":\"\"},\"colorscale\":[[0.0,\"#0d0887\"],[0.1111111111111111,\"#46039f\"],[0.2222222222222222,\"#7201a8\"],[0.3333333333333333,\"#9c179e\"],[0.4444444444444444,\"#bd3786\"],[0.5555555555555556,\"#d8576b\"],[0.6666666666666666,\"#ed7953\"],[0.7777777777777778,\"#fb9f3a\"],[0.8888888888888888,\"#fdca26\"],[1.0,\"#f0f921\"]],\"type\":\"contour\"}],\"contourcarpet\":[{\"colorbar\":{\"outlinewidth\":0,\"ticks\":\"\"},\"type\":\"contourcarpet\"}],\"heatmap\":[{\"colorbar\":{\"outlinewidth\":0,\"ticks\":\"\"},\"colorscale\":[[0.0,\"#0d0887\"],[0.1111111111111111,\"#46039f\"],[0.2222222222222222,\"#7201a8\"],[0.3333333333333333,\"#9c179e\"],[0.4444444444444444,\"#bd3786\"],[0.5555555555555556,\"#d8576b\"],[0.6666666666666666,\"#ed7953\"],[0.7777777777777778,\"#fb9f3a\"],[0.8888888888888888,\"#fdca26\"],[1.0,\"#f0f921\"]],\"type\":\"heatmap\"}],\"heatmapgl\":[{\"colorbar\":{\"outlinewidth\":0,\"ticks\":\"\"},\"colorscale\":[[0.0,\"#0d0887\"],[0.1111111111111111,\"#46039f\"],[0.2222222222222222,\"#7201a8\"],[0.3333333333333333,\"#9c179e\"],[0.4444444444444444,\"#bd3786\"],[0.5555555555555556,\"#d8576b\"],[0.6666666666666666,\"#ed7953\"],[0.7777777777777778,\"#fb9f3a\"],[0.8888888888888888,\"#fdca26\"],[1.0,\"#f0f921\"]],\"type\":\"heatmapgl\"}],\"histogram\":[{\"marker\":{\"pattern\":{\"fillmode\":\"overlay\",\"size\":10,\"solidity\":0.2}},\"type\":\"histogram\"}],\"histogram2d\":[{\"colorbar\":{\"outlinewidth\":0,\"ticks\":\"\"},\"colorscale\":[[0.0,\"#0d0887\"],[0.1111111111111111,\"#46039f\"],[0.2222222222222222,\"#7201a8\"],[0.3333333333333333,\"#9c179e\"],[0.4444444444444444,\"#bd3786\"],[0.5555555555555556,\"#d8576b\"],[0.6666666666666666,\"#ed7953\"],[0.7777777777777778,\"#fb9f3a\"],[0.8888888888888888,\"#fdca26\"],[1.0,\"#f0f921\"]],\"type\":\"histogram2d\"}],\"histogram2dcontour\":[{\"colorbar\":{\"outlinewidth\":0,\"ticks\":\"\"},\"colorscale\":[[0.0,\"#0d0887\"],[0.1111111111111111,\"#46039f\"],[0.2222222222222222,\"#7201a8\"],[0.3333333333333333,\"#9c179e\"],[0.4444444444444444,\"#bd3786\"],[0.5555555555555556,\"#d8576b\"],[0.6666666666666666,\"#ed7953\"],[0.7777777777777778,\"#fb9f3a\"],[0.8888888888888888,\"#fdca26\"],[1.0,\"#f0f921\"]],\"type\":\"histogram2dcontour\"}],\"mesh3d\":[{\"colorbar\":{\"outlinewidth\":0,\"ticks\":\"\"},\"type\":\"mesh3d\"}],\"parcoords\":[{\"line\":{\"colorbar\":{\"outlinewidth\":0,\"ticks\":\"\"}},\"type\":\"parcoords\"}],\"pie\":[{\"automargin\":true,\"type\":\"pie\"}],\"scatter\":[{\"marker\":{\"colorbar\":{\"outlinewidth\":0,\"ticks\":\"\"}},\"type\":\"scatter\"}],\"scatter3d\":[{\"line\":{\"colorbar\":{\"outlinewidth\":0,\"ticks\":\"\"}},\"marker\":{\"colorbar\":{\"outlinewidth\":0,\"ticks\":\"\"}},\"type\":\"scatter3d\"}],\"scattercarpet\":[{\"marker\":{\"colorbar\":{\"outlinewidth\":0,\"ticks\":\"\"}},\"type\":\"scattercarpet\"}],\"scattergeo\":[{\"marker\":{\"colorbar\":{\"outlinewidth\":0,\"ticks\":\"\"}},\"type\":\"scattergeo\"}],\"scattergl\":[{\"marker\":{\"colorbar\":{\"outlinewidth\":0,\"ticks\":\"\"}},\"type\":\"scattergl\"}],\"scattermapbox\":[{\"marker\":{\"colorbar\":{\"outlinewidth\":0,\"ticks\":\"\"}},\"type\":\"scattermapbox\"}],\"scatterpolar\":[{\"marker\":{\"colorbar\":{\"outlinewidth\":0,\"ticks\":\"\"}},\"type\":\"scatterpolar\"}],\"scatterpolargl\":[{\"marker\":{\"colorbar\":{\"outlinewidth\":0,\"ticks\":\"\"}},\"type\":\"scatterpolargl\"}],\"scatterternary\":[{\"marker\":{\"colorbar\":{\"outlinewidth\":0,\"ticks\":\"\"}},\"type\":\"scatterternary\"}],\"surface\":[{\"colorbar\":{\"outlinewidth\":0,\"ticks\":\"\"},\"colorscale\":[[0.0,\"#0d0887\"],[0.1111111111111111,\"#46039f\"],[0.2222222222222222,\"#7201a8\"],[0.3333333333333333,\"#9c179e\"],[0.4444444444444444,\"#bd3786\"],[0.5555555555555556,\"#d8576b\"],[0.6666666666666666,\"#ed7953\"],[0.7777777777777778,\"#fb9f3a\"],[0.8888888888888888,\"#fdca26\"],[1.0,\"#f0f921\"]],\"type\":\"surface\"}],\"table\":[{\"cells\":{\"fill\":{\"color\":\"#EBF0F8\"},\"line\":{\"color\":\"white\"}},\"header\":{\"fill\":{\"color\":\"#C8D4E3\"},\"line\":{\"color\":\"white\"}},\"type\":\"table\"}]},\"layout\":{\"annotationdefaults\":{\"arrowcolor\":\"#2a3f5f\",\"arrowhead\":0,\"arrowwidth\":1},\"autotypenumbers\":\"strict\",\"coloraxis\":{\"colorbar\":{\"outlinewidth\":0,\"ticks\":\"\"}},\"colorscale\":{\"diverging\":[[0,\"#8e0152\"],[0.1,\"#c51b7d\"],[0.2,\"#de77ae\"],[0.3,\"#f1b6da\"],[0.4,\"#fde0ef\"],[0.5,\"#f7f7f7\"],[0.6,\"#e6f5d0\"],[0.7,\"#b8e186\"],[0.8,\"#7fbc41\"],[0.9,\"#4d9221\"],[1,\"#276419\"]],\"sequential\":[[0.0,\"#0d0887\"],[0.1111111111111111,\"#46039f\"],[0.2222222222222222,\"#7201a8\"],[0.3333333333333333,\"#9c179e\"],[0.4444444444444444,\"#bd3786\"],[0.5555555555555556,\"#d8576b\"],[0.6666666666666666,\"#ed7953\"],[0.7777777777777778,\"#fb9f3a\"],[0.8888888888888888,\"#fdca26\"],[1.0,\"#f0f921\"]],\"sequentialminus\":[[0.0,\"#0d0887\"],[0.1111111111111111,\"#46039f\"],[0.2222222222222222,\"#7201a8\"],[0.3333333333333333,\"#9c179e\"],[0.4444444444444444,\"#bd3786\"],[0.5555555555555556,\"#d8576b\"],[0.6666666666666666,\"#ed7953\"],[0.7777777777777778,\"#fb9f3a\"],[0.8888888888888888,\"#fdca26\"],[1.0,\"#f0f921\"]]},\"colorway\":[\"#636efa\",\"#EF553B\",\"#00cc96\",\"#ab63fa\",\"#FFA15A\",\"#19d3f3\",\"#FF6692\",\"#B6E880\",\"#FF97FF\",\"#FECB52\"],\"font\":{\"color\":\"#2a3f5f\"},\"geo\":{\"bgcolor\":\"white\",\"lakecolor\":\"white\",\"landcolor\":\"#E5ECF6\",\"showlakes\":true,\"showland\":true,\"subunitcolor\":\"white\"},\"hoverlabel\":{\"align\":\"left\"},\"hovermode\":\"closest\",\"mapbox\":{\"style\":\"light\"},\"paper_bgcolor\":\"white\",\"plot_bgcolor\":\"#E5ECF6\",\"polar\":{\"angularaxis\":{\"gridcolor\":\"white\",\"linecolor\":\"white\",\"ticks\":\"\"},\"bgcolor\":\"#E5ECF6\",\"radialaxis\":{\"gridcolor\":\"white\",\"linecolor\":\"white\",\"ticks\":\"\"}},\"scene\":{\"xaxis\":{\"backgroundcolor\":\"#E5ECF6\",\"gridcolor\":\"white\",\"gridwidth\":2,\"linecolor\":\"white\",\"showbackground\":true,\"ticks\":\"\",\"zerolinecolor\":\"white\"},\"yaxis\":{\"backgroundcolor\":\"#E5ECF6\",\"gridcolor\":\"white\",\"gridwidth\":2,\"linecolor\":\"white\",\"showbackground\":true,\"ticks\":\"\",\"zerolinecolor\":\"white\"},\"zaxis\":{\"backgroundcolor\":\"#E5ECF6\",\"gridcolor\":\"white\",\"gridwidth\":2,\"linecolor\":\"white\",\"showbackground\":true,\"ticks\":\"\",\"zerolinecolor\":\"white\"}},\"shapedefaults\":{\"line\":{\"color\":\"#2a3f5f\"}},\"ternary\":{\"aaxis\":{\"gridcolor\":\"white\",\"linecolor\":\"white\",\"ticks\":\"\"},\"baxis\":{\"gridcolor\":\"white\",\"linecolor\":\"white\",\"ticks\":\"\"},\"bgcolor\":\"#E5ECF6\",\"caxis\":{\"gridcolor\":\"white\",\"linecolor\":\"white\",\"ticks\":\"\"}},\"title\":{\"x\":0.05},\"xaxis\":{\"automargin\":true,\"gridcolor\":\"white\",\"linecolor\":\"white\",\"ticks\":\"\",\"title\":{\"standoff\":15},\"zerolinecolor\":\"white\",\"zerolinewidth\":2},\"yaxis\":{\"automargin\":true,\"gridcolor\":\"white\",\"linecolor\":\"white\",\"ticks\":\"\",\"title\":{\"standoff\":15},\"zerolinecolor\":\"white\",\"zerolinewidth\":2}}},\"scene\":{\"domain\":{\"x\":[0.0,1.0],\"y\":[0.0,1.0]},\"xaxis\":{\"title\":{\"text\":\"Mean financing cashflow\"}},\"yaxis\":{\"title\":{\"text\":\"Mean operating cashflow\"}},\"zaxis\":{\"title\":{\"text\":\"Mean investing cashflow\"}}},\"legend\":{\"tracegroupgap\":0},\"margin\":{\"t\":60},\"title\":{\"text\":\"Average operating and financing cashflow for each company\"},\"height\":800},                        {\"responsive\": true}                    ).then(function(){\n",
              "                            \n",
              "var gd = document.getElementById('4d0cd9e3-20e3-4c99-81cc-d7483c4b6252');\n",
              "var x = new MutationObserver(function (mutations, observer) {{\n",
              "        var display = window.getComputedStyle(gd).display;\n",
              "        if (!display || display === 'none') {{\n",
              "            console.log([gd, 'removed!']);\n",
              "            Plotly.purge(gd);\n",
              "            observer.disconnect();\n",
              "        }}\n",
              "}});\n",
              "\n",
              "// Listen for the removal of the full notebook cells\n",
              "var notebookContainer = gd.closest('#notebook-container');\n",
              "if (notebookContainer) {{\n",
              "    x.observe(notebookContainer, {childList: true});\n",
              "}}\n",
              "\n",
              "// Listen for the clearing of the current output cell\n",
              "var outputEl = gd.closest('.output');\n",
              "if (outputEl) {{\n",
              "    x.observe(outputEl, {childList: true});\n",
              "}}\n",
              "\n",
              "                        })                };                            </script>        </div>\n",
              "</body>\n",
              "</html>"
            ]
          },
          "metadata": {}
        }
      ]
    },
    {
      "cell_type": "markdown",
      "source": [
        "Clustering"
      ],
      "metadata": {
        "id": "lNowK4-I05ZN"
      }
    },
    {
      "cell_type": "code",
      "source": [
        "from sklearn.decomposition import PCA\n",
        "from sklearn.preprocessing import MinMaxScaler\n",
        "import sklearn.cluster as cluster\n",
        "import sklearn.metrics as metrics"
      ],
      "metadata": {
        "id": "_oJywYCu1I3f"
      },
      "execution_count": null,
      "outputs": []
    },
    {
      "cell_type": "code",
      "source": [
        "df.head()"
      ],
      "metadata": {
        "colab": {
          "base_uri": "https://localhost:8080/",
          "height": 206
        },
        "id": "DZZn-2Z1z4u7",
        "outputId": "ef632c95-ea0d-4ba5-851a-01fe526f385c"
      },
      "execution_count": null,
      "outputs": [
        {
          "output_type": "execute_result",
          "data": {
            "text/plain": [
              "  Stock  Mean financing cashflow  Mean operating cashflow  \\\n",
              "0     a            -6.960000e+08             1.485000e+09   \n",
              "1   aal             5.288000e+09             7.040000e+08   \n",
              "2  aapl            -9.335300e+10             1.040380e+11   \n",
              "3  abbv            -1.903900e+10             2.277700e+10   \n",
              "4   abt            -5.494000e+09             1.053300e+10   \n",
              "\n",
              "   Mean investing cashflow  \n",
              "0            -7.490000e+08  \n",
              "1            -5.983000e+09  \n",
              "2            -1.454500e+10  \n",
              "3            -2.344000e+09  \n",
              "4            -2.008000e+09  "
            ],
            "text/html": [
              "\n",
              "  <div id=\"df-1e96667c-7539-4e83-b49a-4a9da5716f13\">\n",
              "    <div class=\"colab-df-container\">\n",
              "      <div>\n",
              "<style scoped>\n",
              "    .dataframe tbody tr th:only-of-type {\n",
              "        vertical-align: middle;\n",
              "    }\n",
              "\n",
              "    .dataframe tbody tr th {\n",
              "        vertical-align: top;\n",
              "    }\n",
              "\n",
              "    .dataframe thead th {\n",
              "        text-align: right;\n",
              "    }\n",
              "</style>\n",
              "<table border=\"1\" class=\"dataframe\">\n",
              "  <thead>\n",
              "    <tr style=\"text-align: right;\">\n",
              "      <th></th>\n",
              "      <th>Stock</th>\n",
              "      <th>Mean financing cashflow</th>\n",
              "      <th>Mean operating cashflow</th>\n",
              "      <th>Mean investing cashflow</th>\n",
              "    </tr>\n",
              "  </thead>\n",
              "  <tbody>\n",
              "    <tr>\n",
              "      <th>0</th>\n",
              "      <td>a</td>\n",
              "      <td>-6.960000e+08</td>\n",
              "      <td>1.485000e+09</td>\n",
              "      <td>-7.490000e+08</td>\n",
              "    </tr>\n",
              "    <tr>\n",
              "      <th>1</th>\n",
              "      <td>aal</td>\n",
              "      <td>5.288000e+09</td>\n",
              "      <td>7.040000e+08</td>\n",
              "      <td>-5.983000e+09</td>\n",
              "    </tr>\n",
              "    <tr>\n",
              "      <th>2</th>\n",
              "      <td>aapl</td>\n",
              "      <td>-9.335300e+10</td>\n",
              "      <td>1.040380e+11</td>\n",
              "      <td>-1.454500e+10</td>\n",
              "    </tr>\n",
              "    <tr>\n",
              "      <th>3</th>\n",
              "      <td>abbv</td>\n",
              "      <td>-1.903900e+10</td>\n",
              "      <td>2.277700e+10</td>\n",
              "      <td>-2.344000e+09</td>\n",
              "    </tr>\n",
              "    <tr>\n",
              "      <th>4</th>\n",
              "      <td>abt</td>\n",
              "      <td>-5.494000e+09</td>\n",
              "      <td>1.053300e+10</td>\n",
              "      <td>-2.008000e+09</td>\n",
              "    </tr>\n",
              "  </tbody>\n",
              "</table>\n",
              "</div>\n",
              "      <button class=\"colab-df-convert\" onclick=\"convertToInteractive('df-1e96667c-7539-4e83-b49a-4a9da5716f13')\"\n",
              "              title=\"Convert this dataframe to an interactive table.\"\n",
              "              style=\"display:none;\">\n",
              "        \n",
              "  <svg xmlns=\"http://www.w3.org/2000/svg\" height=\"24px\"viewBox=\"0 0 24 24\"\n",
              "       width=\"24px\">\n",
              "    <path d=\"M0 0h24v24H0V0z\" fill=\"none\"/>\n",
              "    <path d=\"M18.56 5.44l.94 2.06.94-2.06 2.06-.94-2.06-.94-.94-2.06-.94 2.06-2.06.94zm-11 1L8.5 8.5l.94-2.06 2.06-.94-2.06-.94L8.5 2.5l-.94 2.06-2.06.94zm10 10l.94 2.06.94-2.06 2.06-.94-2.06-.94-.94-2.06-.94 2.06-2.06.94z\"/><path d=\"M17.41 7.96l-1.37-1.37c-.4-.4-.92-.59-1.43-.59-.52 0-1.04.2-1.43.59L10.3 9.45l-7.72 7.72c-.78.78-.78 2.05 0 2.83L4 21.41c.39.39.9.59 1.41.59.51 0 1.02-.2 1.41-.59l7.78-7.78 2.81-2.81c.8-.78.8-2.07 0-2.86zM5.41 20L4 18.59l7.72-7.72 1.47 1.35L5.41 20z\"/>\n",
              "  </svg>\n",
              "      </button>\n",
              "      \n",
              "  <style>\n",
              "    .colab-df-container {\n",
              "      display:flex;\n",
              "      flex-wrap:wrap;\n",
              "      gap: 12px;\n",
              "    }\n",
              "\n",
              "    .colab-df-convert {\n",
              "      background-color: #E8F0FE;\n",
              "      border: none;\n",
              "      border-radius: 50%;\n",
              "      cursor: pointer;\n",
              "      display: none;\n",
              "      fill: #1967D2;\n",
              "      height: 32px;\n",
              "      padding: 0 0 0 0;\n",
              "      width: 32px;\n",
              "    }\n",
              "\n",
              "    .colab-df-convert:hover {\n",
              "      background-color: #E2EBFA;\n",
              "      box-shadow: 0px 1px 2px rgba(60, 64, 67, 0.3), 0px 1px 3px 1px rgba(60, 64, 67, 0.15);\n",
              "      fill: #174EA6;\n",
              "    }\n",
              "\n",
              "    [theme=dark] .colab-df-convert {\n",
              "      background-color: #3B4455;\n",
              "      fill: #D2E3FC;\n",
              "    }\n",
              "\n",
              "    [theme=dark] .colab-df-convert:hover {\n",
              "      background-color: #434B5C;\n",
              "      box-shadow: 0px 1px 3px 1px rgba(0, 0, 0, 0.15);\n",
              "      filter: drop-shadow(0px 1px 2px rgba(0, 0, 0, 0.3));\n",
              "      fill: #FFFFFF;\n",
              "    }\n",
              "  </style>\n",
              "\n",
              "      <script>\n",
              "        const buttonEl =\n",
              "          document.querySelector('#df-1e96667c-7539-4e83-b49a-4a9da5716f13 button.colab-df-convert');\n",
              "        buttonEl.style.display =\n",
              "          google.colab.kernel.accessAllowed ? 'block' : 'none';\n",
              "\n",
              "        async function convertToInteractive(key) {\n",
              "          const element = document.querySelector('#df-1e96667c-7539-4e83-b49a-4a9da5716f13');\n",
              "          const dataTable =\n",
              "            await google.colab.kernel.invokeFunction('convertToInteractive',\n",
              "                                                     [key], {});\n",
              "          if (!dataTable) return;\n",
              "\n",
              "          const docLinkHtml = 'Like what you see? Visit the ' +\n",
              "            '<a target=\"_blank\" href=https://colab.research.google.com/notebooks/data_table.ipynb>data table notebook</a>'\n",
              "            + ' to learn more about interactive tables.';\n",
              "          element.innerHTML = '';\n",
              "          dataTable['output_type'] = 'display_data';\n",
              "          await google.colab.output.renderOutput(dataTable, element);\n",
              "          const docLink = document.createElement('div');\n",
              "          docLink.innerHTML = docLinkHtml;\n",
              "          element.appendChild(docLink);\n",
              "        }\n",
              "      </script>\n",
              "    </div>\n",
              "  </div>\n",
              "  "
            ]
          },
          "metadata": {},
          "execution_count": 19
        }
      ]
    },
    {
      "cell_type": "code",
      "source": [
        "scaler = MinMaxScaler()\n",
        "scale = scaler.fit_transform(df[['Mean financing cashflow','Mean operating cashflow','Mean investing cashflow']])\n",
        "\n",
        "df_scale = pd.DataFrame(scale, columns = ['Mean financing cashflow','Mean operating cashflow','Mean investing cashflow'])\n",
        "\n",
        "df_scale.head(5)"
      ],
      "metadata": {
        "colab": {
          "base_uri": "https://localhost:8080/",
          "height": 206
        },
        "id": "2q8vy9W51J6P",
        "outputId": "e263af3a-325d-48ac-ec27-a7ab7c4b71ce"
      },
      "execution_count": null,
      "outputs": [
        {
          "output_type": "execute_result",
          "data": {
            "text/plain": [
              "   Mean financing cashflow  Mean operating cashflow  Mean investing cashflow\n",
              "0                 0.240666                 0.011578                 0.967259\n",
              "1                 0.256208                 0.010883                 0.961200\n",
              "2                 0.000000                 0.102843                 0.951290\n",
              "3                 0.193022                 0.030526                 0.965413\n",
              "4                 0.228203                 0.019630                 0.965802"
            ],
            "text/html": [
              "\n",
              "  <div id=\"df-09c70238-0403-4444-b41f-e3e5a457eded\">\n",
              "    <div class=\"colab-df-container\">\n",
              "      <div>\n",
              "<style scoped>\n",
              "    .dataframe tbody tr th:only-of-type {\n",
              "        vertical-align: middle;\n",
              "    }\n",
              "\n",
              "    .dataframe tbody tr th {\n",
              "        vertical-align: top;\n",
              "    }\n",
              "\n",
              "    .dataframe thead th {\n",
              "        text-align: right;\n",
              "    }\n",
              "</style>\n",
              "<table border=\"1\" class=\"dataframe\">\n",
              "  <thead>\n",
              "    <tr style=\"text-align: right;\">\n",
              "      <th></th>\n",
              "      <th>Mean financing cashflow</th>\n",
              "      <th>Mean operating cashflow</th>\n",
              "      <th>Mean investing cashflow</th>\n",
              "    </tr>\n",
              "  </thead>\n",
              "  <tbody>\n",
              "    <tr>\n",
              "      <th>0</th>\n",
              "      <td>0.240666</td>\n",
              "      <td>0.011578</td>\n",
              "      <td>0.967259</td>\n",
              "    </tr>\n",
              "    <tr>\n",
              "      <th>1</th>\n",
              "      <td>0.256208</td>\n",
              "      <td>0.010883</td>\n",
              "      <td>0.961200</td>\n",
              "    </tr>\n",
              "    <tr>\n",
              "      <th>2</th>\n",
              "      <td>0.000000</td>\n",
              "      <td>0.102843</td>\n",
              "      <td>0.951290</td>\n",
              "    </tr>\n",
              "    <tr>\n",
              "      <th>3</th>\n",
              "      <td>0.193022</td>\n",
              "      <td>0.030526</td>\n",
              "      <td>0.965413</td>\n",
              "    </tr>\n",
              "    <tr>\n",
              "      <th>4</th>\n",
              "      <td>0.228203</td>\n",
              "      <td>0.019630</td>\n",
              "      <td>0.965802</td>\n",
              "    </tr>\n",
              "  </tbody>\n",
              "</table>\n",
              "</div>\n",
              "      <button class=\"colab-df-convert\" onclick=\"convertToInteractive('df-09c70238-0403-4444-b41f-e3e5a457eded')\"\n",
              "              title=\"Convert this dataframe to an interactive table.\"\n",
              "              style=\"display:none;\">\n",
              "        \n",
              "  <svg xmlns=\"http://www.w3.org/2000/svg\" height=\"24px\"viewBox=\"0 0 24 24\"\n",
              "       width=\"24px\">\n",
              "    <path d=\"M0 0h24v24H0V0z\" fill=\"none\"/>\n",
              "    <path d=\"M18.56 5.44l.94 2.06.94-2.06 2.06-.94-2.06-.94-.94-2.06-.94 2.06-2.06.94zm-11 1L8.5 8.5l.94-2.06 2.06-.94-2.06-.94L8.5 2.5l-.94 2.06-2.06.94zm10 10l.94 2.06.94-2.06 2.06-.94-2.06-.94-.94-2.06-.94 2.06-2.06.94z\"/><path d=\"M17.41 7.96l-1.37-1.37c-.4-.4-.92-.59-1.43-.59-.52 0-1.04.2-1.43.59L10.3 9.45l-7.72 7.72c-.78.78-.78 2.05 0 2.83L4 21.41c.39.39.9.59 1.41.59.51 0 1.02-.2 1.41-.59l7.78-7.78 2.81-2.81c.8-.78.8-2.07 0-2.86zM5.41 20L4 18.59l7.72-7.72 1.47 1.35L5.41 20z\"/>\n",
              "  </svg>\n",
              "      </button>\n",
              "      \n",
              "  <style>\n",
              "    .colab-df-container {\n",
              "      display:flex;\n",
              "      flex-wrap:wrap;\n",
              "      gap: 12px;\n",
              "    }\n",
              "\n",
              "    .colab-df-convert {\n",
              "      background-color: #E8F0FE;\n",
              "      border: none;\n",
              "      border-radius: 50%;\n",
              "      cursor: pointer;\n",
              "      display: none;\n",
              "      fill: #1967D2;\n",
              "      height: 32px;\n",
              "      padding: 0 0 0 0;\n",
              "      width: 32px;\n",
              "    }\n",
              "\n",
              "    .colab-df-convert:hover {\n",
              "      background-color: #E2EBFA;\n",
              "      box-shadow: 0px 1px 2px rgba(60, 64, 67, 0.3), 0px 1px 3px 1px rgba(60, 64, 67, 0.15);\n",
              "      fill: #174EA6;\n",
              "    }\n",
              "\n",
              "    [theme=dark] .colab-df-convert {\n",
              "      background-color: #3B4455;\n",
              "      fill: #D2E3FC;\n",
              "    }\n",
              "\n",
              "    [theme=dark] .colab-df-convert:hover {\n",
              "      background-color: #434B5C;\n",
              "      box-shadow: 0px 1px 3px 1px rgba(0, 0, 0, 0.15);\n",
              "      filter: drop-shadow(0px 1px 2px rgba(0, 0, 0, 0.3));\n",
              "      fill: #FFFFFF;\n",
              "    }\n",
              "  </style>\n",
              "\n",
              "      <script>\n",
              "        const buttonEl =\n",
              "          document.querySelector('#df-09c70238-0403-4444-b41f-e3e5a457eded button.colab-df-convert');\n",
              "        buttonEl.style.display =\n",
              "          google.colab.kernel.accessAllowed ? 'block' : 'none';\n",
              "\n",
              "        async function convertToInteractive(key) {\n",
              "          const element = document.querySelector('#df-09c70238-0403-4444-b41f-e3e5a457eded');\n",
              "          const dataTable =\n",
              "            await google.colab.kernel.invokeFunction('convertToInteractive',\n",
              "                                                     [key], {});\n",
              "          if (!dataTable) return;\n",
              "\n",
              "          const docLinkHtml = 'Like what you see? Visit the ' +\n",
              "            '<a target=\"_blank\" href=https://colab.research.google.com/notebooks/data_table.ipynb>data table notebook</a>'\n",
              "            + ' to learn more about interactive tables.';\n",
              "          element.innerHTML = '';\n",
              "          dataTable['output_type'] = 'display_data';\n",
              "          await google.colab.output.renderOutput(dataTable, element);\n",
              "          const docLink = document.createElement('div');\n",
              "          docLink.innerHTML = docLinkHtml;\n",
              "          element.appendChild(docLink);\n",
              "        }\n",
              "      </script>\n",
              "    </div>\n",
              "  </div>\n",
              "  "
            ]
          },
          "metadata": {},
          "execution_count": 20
        }
      ]
    },
    {
      "cell_type": "code",
      "source": [
        "pca = PCA(n_components = 2)\n",
        "principalComponents = pca.fit_transform(df_scale)\n",
        "pca_df = pd.DataFrame(data = principalComponents , columns = ['principal component 1', 'principal component 2'])"
      ],
      "metadata": {
        "id": "79ZV8gWL2Akx"
      },
      "execution_count": null,
      "outputs": []
    },
    {
      "cell_type": "code",
      "source": [
        "kmeans = cluster.KMeans(n_clusters = 3)\n",
        "kmeans = kmeans.fit(pca_df)"
      ],
      "metadata": {
        "id": "8W_hk2N62UVm"
      },
      "execution_count": null,
      "outputs": []
    },
    {
      "cell_type": "code",
      "source": [
        "K = range(2,12)\n",
        "wss = []\n",
        "for k in K:\n",
        "    kmeans = cluster.KMeans(n_clusters=k)\n",
        "    kmeans = kmeans.fit(pca_df)\n",
        "    wss_iter = kmeans.inertia_\n",
        "    print('k:',k,'wss:',wss_iter)\n",
        "    wss.append(wss_iter)"
      ],
      "metadata": {
        "colab": {
          "base_uri": "https://localhost:8080/"
        },
        "id": "O_F_94JOnsu6",
        "outputId": "a51f68a8-3461-45d1-f073-fed2748a3c4a"
      },
      "execution_count": null,
      "outputs": [
        {
          "output_type": "stream",
          "name": "stdout",
          "text": [
            "k: 2 wss: 1.621120172773365\n",
            "k: 3 wss: 0.5767258806586274\n",
            "k: 4 wss: 0.33330291495374237\n",
            "k: 5 wss: 0.1643740289170344\n",
            "k: 6 wss: 0.11197640060355729\n",
            "k: 7 wss: 0.08463390584929\n",
            "k: 8 wss: 0.06318817091388115\n",
            "k: 9 wss: 0.0506199655557258\n",
            "k: 10 wss: 0.04372920779402764\n",
            "k: 11 wss: 0.03480409318270293\n"
          ]
        }
      ]
    },
    {
      "cell_type": "code",
      "source": [
        "plt.xlabel('K')\n",
        "plt.ylabel('Within-Cluster-Sum of Squared Errors (WSS)')\n",
        "plt.plot(K,wss)"
      ],
      "metadata": {
        "colab": {
          "base_uri": "https://localhost:8080/",
          "height": 297
        },
        "id": "lcE_v8FQn-qZ",
        "outputId": "29ca4670-d7e6-42ae-d333-4a464cc7b279"
      },
      "execution_count": null,
      "outputs": [
        {
          "output_type": "execute_result",
          "data": {
            "text/plain": [
              "[<matplotlib.lines.Line2D at 0x7f3fc6fb5150>]"
            ]
          },
          "metadata": {},
          "execution_count": 24
        },
        {
          "output_type": "display_data",
          "data": {
            "text/plain": [
              "<Figure size 432x288 with 1 Axes>"
            ],
            "image/png": "[encoded data removed]"
          },
          "metadata": {
            "needs_background": "light"
          }
        }
      ]
    },
    {
      "cell_type": "code",
      "source": [
        "for i in range(2,13):\n",
        "  labels = cluster.KMeans(n_clusters=i,random_state=200).fit(df_scale).labels_\n",
        "  print (\"Silhouette score for k(clusters) = \"+str(i)+\" is \"\n",
        "  +str(metrics.silhouette_score(df_scale,labels,metric = \"euclidean\",sample_size = 1000,random_state = 200)))"
      ],
      "metadata": {
        "id": "WAsrPIWOoDju",
        "outputId": "1a016efe-78b4-4e5d-8c0c-a7aad5a79bca",
        "colab": {
          "base_uri": "https://localhost:8080/"
        }
      },
      "execution_count": null,
      "outputs": [
        {
          "output_type": "stream",
          "name": "stdout",
          "text": [
            "Silhouette score for k(clusters) = 2 is 0.9049568691410872\n",
            "Silhouette score for k(clusters) = 3 is 0.8968487604831712\n",
            "Silhouette score for k(clusters) = 4 is 0.8048274116164629\n",
            "Silhouette score for k(clusters) = 5 is 0.7748213262506158\n",
            "Silhouette score for k(clusters) = 6 is 0.7235283098698078\n",
            "Silhouette score for k(clusters) = 7 is 0.7255173760150767\n",
            "Silhouette score for k(clusters) = 8 is 0.7143461223537986\n",
            "Silhouette score for k(clusters) = 9 is 0.5292103717807712\n",
            "Silhouette score for k(clusters) = 10 is 0.5419630895991142\n",
            "Silhouette score for k(clusters) = 11 is 0.5276833868927696\n",
            "Silhouette score for k(clusters) = 12 is 0.5109372523067348\n"
          ]
        }
      ]
    },
    {
      "cell_type": "code",
      "source": [
        "kmeans.fit_predict(pca_df)"
      ],
      "metadata": {
        "colab": {
          "base_uri": "https://localhost:8080/"
        },
        "id": "9vw2Rwwx2YT7",
        "outputId": "13da045a-b44d-4d01-dbd8-01e69d6df9c8"
      },
      "execution_count": null,
      "outputs": [
        {
          "output_type": "execute_result",
          "data": {
            "text/plain": [
              "array([0, 0, 0, 0, 0, 0, 0, 0, 0, 0, 0, 0, 0, 0, 0, 0, 0, 1, 0, 0, 0, 0,\n",
              "       0, 0, 0, 0, 0, 0, 0, 0, 0, 0, 0, 0, 0, 0, 0, 0, 0, 0, 0, 0, 0, 0,\n",
              "       0, 0, 0, 0, 1, 0, 0, 0, 0, 0, 0, 0, 0, 0, 0, 0, 0, 0, 0, 0, 0, 0,\n",
              "       0, 0, 0, 0, 0, 0, 0, 0, 0, 0, 0, 0, 0, 0, 0, 0, 0, 0, 0, 0, 2, 0,\n",
              "       0, 0, 0, 0, 0, 0, 0, 0, 0, 0, 0, 0], dtype=int32)"
            ]
          },
          "metadata": {},
          "execution_count": 39
        }
      ]
    },
    {
      "cell_type": "code",
      "source": [
        "pca_df['Clusters'] = kmeans.labels_\n",
        "\n",
        "ax = sns.scatterplot(x = \"principal component 1\", y = \"principal component 2\",hue = 'Clusters',  data = pca_df, palette = 'viridis')\n",
        "\n",
        "plt.show()"
      ],
      "metadata": {
        "colab": {
          "base_uri": "https://localhost:8080/",
          "height": 279
        },
        "id": "JSyRrv1h2c9A",
        "outputId": "1f6056b0-7c53-4a18-8133-dcb0a45abab8"
      },
      "execution_count": null,
      "outputs": [
        {
          "output_type": "display_data",
          "data": {
            "text/plain": [
              "<Figure size 432x288 with 1 Axes>"
            ],
            "image/png": "[encoded data removed]"
          },
          "metadata": {
            "needs_background": "light"
          }
        }
      ]
    },
    {
      "cell_type": "code",
      "source": [
        "df['Cluster'] = pca_df['Clusters']"
      ],
      "metadata": {
        "id": "L724YoaL2idN"
      },
      "execution_count": null,
      "outputs": []
    },
    {
      "cell_type": "code",
      "source": [
        "df['Cluster'].value_counts()"
      ],
      "metadata": {
        "colab": {
          "base_uri": "https://localhost:8080/"
        },
        "id": "jMq2yTyw20oM",
        "outputId": "9360d05d-3b89-4b26-b1f7-1da4980dcf78"
      },
      "execution_count": null,
      "outputs": [
        {
          "output_type": "execute_result",
          "data": {
            "text/plain": [
              "0    97\n",
              "1     2\n",
              "2     1\n",
              "Name: Cluster, dtype: int64"
            ]
          },
          "metadata": {},
          "execution_count": 44
        }
      ]
    },
    {
      "cell_type": "code",
      "source": [
        "fig = px.scatter_3d(df, x = 'Mean financing cashflow', y = 'Mean operating cashflow', z = 'Mean investing cashflow',\n",
        "                        color = 'Cluster', opacity = 0.7,\n",
        "                        custom_data = ['Stock']\n",
        "                   )\n",
        "\n",
        "temp1 = fig.data[0].hovertemplate\n",
        "fig.update_traces(hovertemplate = temp1 + '<br>' + \"Stock: %{customdata[0]}\")"
      ],
      "metadata": {
        "colab": {
          "base_uri": "https://localhost:8080/",
          "height": 833
        },
        "id": "--5gHFr-4ByF",
        "outputId": "b2f2b186-c200-45d4-ddb9-1ebf1abebb3d"
      },
      "execution_count": null,
      "outputs": [
        {
          "output_type": "error",
          "ename": "Error",
          "evalue": "ignored",
          "traceback": [
            "\u001b[0;31m---------------------------------------------------------------------------\u001b[0m",
            "\u001b[0;31mError\u001b[0m                                     Traceback (most recent call last)",
            "\u001b[0;32m/usr/local/lib/python3.7/dist-packages/IPython/core/formatters.py\u001b[0m in \u001b[0;36m__call__\u001b[0;34m(self, obj)\u001b[0m\n\u001b[1;32m    916\u001b[0m             \u001b[0mmethod\u001b[0m \u001b[0;34m=\u001b[0m \u001b[0mget_real_method\u001b[0m\u001b[0;34m(\u001b[0m\u001b[0mobj\u001b[0m\u001b[0;34m,\u001b[0m \u001b[0mself\u001b[0m\u001b[0;34m.\u001b[0m\u001b[0mprint_method\u001b[0m\u001b[0;34m)\u001b[0m\u001b[0;34m\u001b[0m\u001b[0;34m\u001b[0m\u001b[0m\n\u001b[1;32m    917\u001b[0m             \u001b[0;32mif\u001b[0m \u001b[0mmethod\u001b[0m \u001b[0;32mis\u001b[0m \u001b[0;32mnot\u001b[0m \u001b[0;32mNone\u001b[0m\u001b[0;34m:\u001b[0m\u001b[0;34m\u001b[0m\u001b[0;34m\u001b[0m\u001b[0m\n\u001b[0;32m--> 918\u001b[0;31m                 \u001b[0mmethod\u001b[0m\u001b[0;34m(\u001b[0m\u001b[0;34m)\u001b[0m\u001b[0;34m\u001b[0m\u001b[0;34m\u001b[0m\u001b[0m\n\u001b[0m\u001b[1;32m    919\u001b[0m                 \u001b[0;32mreturn\u001b[0m \u001b[0;32mTrue\u001b[0m\u001b[0;34m\u001b[0m\u001b[0;34m\u001b[0m\u001b[0m\n\u001b[1;32m    920\u001b[0m \u001b[0;34m\u001b[0m\u001b[0m\n",
            "\u001b[0;32m/usr/local/lib/python3.7/dist-packages/plotly/basedatatypes.py\u001b[0m in \u001b[0;36m_ipython_display_\u001b[0;34m(self)\u001b[0m\n\u001b[1;32m    842\u001b[0m \u001b[0;34m\u001b[0m\u001b[0m\n\u001b[1;32m    843\u001b[0m         \u001b[0;32mif\u001b[0m \u001b[0mpio\u001b[0m\u001b[0;34m.\u001b[0m\u001b[0mrenderers\u001b[0m\u001b[0;34m.\u001b[0m\u001b[0mrender_on_display\u001b[0m \u001b[0;32mand\u001b[0m \u001b[0mpio\u001b[0m\u001b[0;34m.\u001b[0m\u001b[0mrenderers\u001b[0m\u001b[0;34m.\u001b[0m\u001b[0mdefault\u001b[0m\u001b[0;34m:\u001b[0m\u001b[0;34m\u001b[0m\u001b[0;34m\u001b[0m\u001b[0m\n\u001b[0;32m--> 844\u001b[0;31m             \u001b[0mpio\u001b[0m\u001b[0;34m.\u001b[0m\u001b[0mshow\u001b[0m\u001b[0;34m(\u001b[0m\u001b[0mself\u001b[0m\u001b[0;34m)\u001b[0m\u001b[0;34m\u001b[0m\u001b[0;34m\u001b[0m\u001b[0m\n\u001b[0m\u001b[1;32m    845\u001b[0m         \u001b[0;32melse\u001b[0m\u001b[0;34m:\u001b[0m\u001b[0;34m\u001b[0m\u001b[0;34m\u001b[0m\u001b[0m\n\u001b[1;32m    846\u001b[0m             \u001b[0mprint\u001b[0m\u001b[0;34m(\u001b[0m\u001b[0mrepr\u001b[0m\u001b[0;34m(\u001b[0m\u001b[0mself\u001b[0m\u001b[0;34m)\u001b[0m\u001b[0;34m)\u001b[0m\u001b[0;34m\u001b[0m\u001b[0;34m\u001b[0m\u001b[0m\n",
            "\u001b[0;32m/usr/local/lib/python3.7/dist-packages/plotly/io/_renderers.py\u001b[0m in \u001b[0;36mshow\u001b[0;34m(fig, renderer, validate, **kwargs)\u001b[0m\n\u001b[1;32m    402\u001b[0m \u001b[0;34m\u001b[0m\u001b[0m\n\u001b[1;32m    403\u001b[0m     \u001b[0;31m# external renderers\u001b[0m\u001b[0;34m\u001b[0m\u001b[0;34m\u001b[0m\u001b[0;34m\u001b[0m\u001b[0m\n\u001b[0;32m--> 404\u001b[0;31m     \u001b[0mrenderers\u001b[0m\u001b[0;34m.\u001b[0m\u001b[0m_perform_external_rendering\u001b[0m\u001b[0;34m(\u001b[0m\u001b[0mfig_dict\u001b[0m\u001b[0;34m,\u001b[0m \u001b[0mrenderers_string\u001b[0m\u001b[0;34m=\u001b[0m\u001b[0mrenderer\u001b[0m\u001b[0;34m,\u001b[0m \u001b[0;34m**\u001b[0m\u001b[0mkwargs\u001b[0m\u001b[0;34m)\u001b[0m\u001b[0;34m\u001b[0m\u001b[0;34m\u001b[0m\u001b[0m\n\u001b[0m\u001b[1;32m    405\u001b[0m \u001b[0;34m\u001b[0m\u001b[0m\n\u001b[1;32m    406\u001b[0m \u001b[0;34m\u001b[0m\u001b[0m\n",
            "\u001b[0;32m/usr/local/lib/python3.7/dist-packages/plotly/io/_renderers.py\u001b[0m in \u001b[0;36m_perform_external_rendering\u001b[0;34m(self, fig_dict, renderers_string, **kwargs)\u001b[0m\n\u001b[1;32m    339\u001b[0m                         \u001b[0msetattr\u001b[0m\u001b[0;34m(\u001b[0m\u001b[0mrenderer\u001b[0m\u001b[0;34m,\u001b[0m \u001b[0mk\u001b[0m\u001b[0;34m,\u001b[0m \u001b[0mv\u001b[0m\u001b[0;34m)\u001b[0m\u001b[0;34m\u001b[0m\u001b[0;34m\u001b[0m\u001b[0m\n\u001b[1;32m    340\u001b[0m \u001b[0;34m\u001b[0m\u001b[0m\n\u001b[0;32m--> 341\u001b[0;31m                 \u001b[0mrenderer\u001b[0m\u001b[0;34m.\u001b[0m\u001b[0mrender\u001b[0m\u001b[0;34m(\u001b[0m\u001b[0mfig_dict\u001b[0m\u001b[0;34m)\u001b[0m\u001b[0;34m\u001b[0m\u001b[0;34m\u001b[0m\u001b[0m\n\u001b[0m\u001b[1;32m    342\u001b[0m \u001b[0;34m\u001b[0m\u001b[0m\n\u001b[1;32m    343\u001b[0m \u001b[0;34m\u001b[0m\u001b[0m\n",
            "\u001b[0;32m/usr/local/lib/python3.7/dist-packages/plotly/io/_base_renderers.py\u001b[0m in \u001b[0;36mrender\u001b[0;34m(self, fig_dict)\u001b[0m\n\u001b[1;32m    758\u001b[0m             \u001b[0mvalidate\u001b[0m\u001b[0;34m=\u001b[0m\u001b[0;32mFalse\u001b[0m\u001b[0;34m,\u001b[0m\u001b[0;34m\u001b[0m\u001b[0;34m\u001b[0m\u001b[0m\n\u001b[1;32m    759\u001b[0m         )\n\u001b[0;32m--> 760\u001b[0;31m         \u001b[0mopen_html_in_browser\u001b[0m\u001b[0;34m(\u001b[0m\u001b[0mhtml\u001b[0m\u001b[0;34m,\u001b[0m \u001b[0mself\u001b[0m\u001b[0;34m.\u001b[0m\u001b[0musing\u001b[0m\u001b[0;34m,\u001b[0m \u001b[0mself\u001b[0m\u001b[0;34m.\u001b[0m\u001b[0mnew\u001b[0m\u001b[0;34m,\u001b[0m \u001b[0mself\u001b[0m\u001b[0;34m.\u001b[0m\u001b[0mautoraise\u001b[0m\u001b[0;34m)\u001b[0m\u001b[0;34m\u001b[0m\u001b[0;34m\u001b[0m\u001b[0m\n\u001b[0m\u001b[1;32m    761\u001b[0m \u001b[0;34m\u001b[0m\u001b[0m\n\u001b[1;32m    762\u001b[0m \u001b[0;34m\u001b[0m\u001b[0m\n",
            "\u001b[0;32m/usr/local/lib/python3.7/dist-packages/plotly/io/_base_renderers.py\u001b[0m in \u001b[0;36mopen_html_in_browser\u001b[0;34m(html, using, new, autoraise)\u001b[0m\n\u001b[1;32m    673\u001b[0m \u001b[0;34m\u001b[0m\u001b[0m\n\u001b[1;32m    674\u001b[0m     \u001b[0;32mif\u001b[0m \u001b[0musing\u001b[0m \u001b[0;32mis\u001b[0m \u001b[0;32mNone\u001b[0m\u001b[0;34m:\u001b[0m\u001b[0;34m\u001b[0m\u001b[0;34m\u001b[0m\u001b[0m\n\u001b[0;32m--> 675\u001b[0;31m         \u001b[0mbrowser\u001b[0m \u001b[0;34m=\u001b[0m \u001b[0mwebbrowser\u001b[0m\u001b[0;34m.\u001b[0m\u001b[0mget\u001b[0m\u001b[0;34m(\u001b[0m\u001b[0;32mNone\u001b[0m\u001b[0;34m)\u001b[0m\u001b[0;34m\u001b[0m\u001b[0;34m\u001b[0m\u001b[0m\n\u001b[0m\u001b[1;32m    676\u001b[0m     \u001b[0;32melse\u001b[0m\u001b[0;34m:\u001b[0m\u001b[0;34m\u001b[0m\u001b[0;34m\u001b[0m\u001b[0m\n\u001b[1;32m    677\u001b[0m         \u001b[0;32mif\u001b[0m \u001b[0;32mnot\u001b[0m \u001b[0misinstance\u001b[0m\u001b[0;34m(\u001b[0m\u001b[0musing\u001b[0m\u001b[0;34m,\u001b[0m \u001b[0mtuple\u001b[0m\u001b[0;34m)\u001b[0m\u001b[0;34m:\u001b[0m\u001b[0;34m\u001b[0m\u001b[0;34m\u001b[0m\u001b[0m\n",
            "\u001b[0;32m/usr/lib/python3.7/webbrowser.py\u001b[0m in \u001b[0;36mget\u001b[0;34m(using)\u001b[0m\n\u001b[1;32m     63\u001b[0m             \u001b[0;32melif\u001b[0m \u001b[0mcommand\u001b[0m\u001b[0;34m[\u001b[0m\u001b[0;36m0\u001b[0m\u001b[0;34m]\u001b[0m \u001b[0;32mis\u001b[0m \u001b[0;32mnot\u001b[0m \u001b[0;32mNone\u001b[0m\u001b[0;34m:\u001b[0m\u001b[0;34m\u001b[0m\u001b[0;34m\u001b[0m\u001b[0m\n\u001b[1;32m     64\u001b[0m                 \u001b[0;32mreturn\u001b[0m \u001b[0mcommand\u001b[0m\u001b[0;34m[\u001b[0m\u001b[0;36m0\u001b[0m\u001b[0;34m]\u001b[0m\u001b[0;34m(\u001b[0m\u001b[0;34m)\u001b[0m\u001b[0;34m\u001b[0m\u001b[0;34m\u001b[0m\u001b[0m\n\u001b[0;32m---> 65\u001b[0;31m     \u001b[0;32mraise\u001b[0m \u001b[0mError\u001b[0m\u001b[0;34m(\u001b[0m\u001b[0;34m\"could not locate runnable browser\"\u001b[0m\u001b[0;34m)\u001b[0m\u001b[0;34m\u001b[0m\u001b[0;34m\u001b[0m\u001b[0m\n\u001b[0m\u001b[1;32m     66\u001b[0m \u001b[0;34m\u001b[0m\u001b[0m\n\u001b[1;32m     67\u001b[0m \u001b[0;31m# Please note: the following definition hides a builtin function.\u001b[0m\u001b[0;34m\u001b[0m\u001b[0;34m\u001b[0m\u001b[0;34m\u001b[0m\u001b[0m\n",
            "\u001b[0;31mError\u001b[0m: could not locate runnable browser"
          ]
        },
        {
          "output_type": "execute_result",
          "data": {
            "text/plain": [
              "Figure({\n",
              "    'data': [{'customdata': array([['a'],\n",
              "                                   ['aal'],\n",
              "                                   ['aapl'],\n",
              "                                   ['abbv'],\n",
              "                                   ['abt'],\n",
              "                                   ['adbe'],\n",
              "                                   ['adi'],\n",
              "                                   ['aig'],\n",
              "                                   ['amat'],\n",
              "                                   ['amc'],\n",
              "                                   ['amd'],\n",
              "                                   ['amgn'],\n",
              "                                   ['amkr'],\n",
              "                                   ['avgo'],\n",
              "                                   ['axp'],\n",
              "                                   ['ba'],\n",
              "                                   ['baba'],\n",
              "                                   ['bac'],\n",
              "                                   ['bbby'],\n",
              "                                   ['bj'],\n",
              "                                   ['c'],\n",
              "                                   ['cah'],\n",
              "                                   ['cat'],\n",
              "                                   ['ccl'],\n",
              "                                   ['cpe'],\n",
              "                                   ['crm'],\n",
              "                                   ['csco'],\n",
              "                                   ['cvx'],\n",
              "                                   ['ddog'],\n",
              "                                   ['dis'],\n",
              "                                   ['dow'],\n",
              "                                   ['dks'],\n",
              "                                   ['ed'],\n",
              "                                   ['fb'],\n",
              "                                   ['fsly'],\n",
              "                                   ['gfs'],\n",
              "                                   ['gme'],\n",
              "                                   ['goog'],\n",
              "                                   ['grab'],\n",
              "                                   ['gs'],\n",
              "                                   ['hd'],\n",
              "                                   ['hlt'],\n",
              "                                   ['hon'],\n",
              "                                   ['hsbc'],\n",
              "                                   ['ibkr'],\n",
              "                                   ['ibm'],\n",
              "                                   ['intc'],\n",
              "                                   ['jnj'],\n",
              "                                   ['jpm'],\n",
              "                                   ['k'],\n",
              "                                   ['ko'],\n",
              "                                   ['lin'],\n",
              "                                   ['lly'],\n",
              "                                   ['lrcx'],\n",
              "                                   ['low'],\n",
              "                                   ['ma'],\n",
              "                                   ['mcd'],\n",
              "                                   ['merc'],\n",
              "                                   ['mmm'],\n",
              "                                   ['msft'],\n",
              "                                   ['ms'],\n",
              "                                   ['mu'],\n",
              "                                   ['nke'],\n",
              "                                   ['nvda'],\n",
              "                                   ['on'],\n",
              "                                   ['orcl'],\n",
              "                                   ['pcg'],\n",
              "                                   ['pep'],\n",
              "                                   ['pfe'],\n",
              "                                   ['pg'],\n",
              "                                   ['plug'],\n",
              "                                   ['qcom'],\n",
              "                                   ['ride'],\n",
              "                                   ['rtx'],\n",
              "                                   ['sbux'],\n",
              "                                   ['schw'],\n",
              "                                   ['se'],\n",
              "                                   ['snap'],\n",
              "                                   ['sndl'],\n",
              "                                   ['snow'],\n",
              "                                   ['sofi'],\n",
              "                                   ['stm'],\n",
              "                                   ['stx'],\n",
              "                                   ['trv'],\n",
              "                                   ['tsem'],\n",
              "                                   ['tsla'],\n",
              "                                   ['tsm'],\n",
              "                                   ['txn'],\n",
              "                                   ['u'],\n",
              "                                   ['ubs'],\n",
              "                                   ['uctt'],\n",
              "                                   ['umc'],\n",
              "                                   ['unh'],\n",
              "                                   ['ups'],\n",
              "                                   ['upst'],\n",
              "                                   ['v'],\n",
              "                                   ['vz'],\n",
              "                                   ['wfc'],\n",
              "                                   ['wmt'],\n",
              "                                   ['xom']], dtype=object),\n",
              "              'hovertemplate': ('Mean financing cashflow=%{x}<b' ... 'ra><br>Stock: %{customdata[0]}'),\n",
              "              'legendgroup': '',\n",
              "              'marker': {'color': array([0, 0, 0, 0, 0, 0, 0, 0, 0, 0, 0, 0, 0, 0, 0, 0, 0, 1, 0, 0, 0, 0, 0, 0,\n",
              "                                         0, 0, 0, 0, 0, 0, 0, 0, 0, 0, 0, 0, 0, 0, 0, 0, 0, 0, 0, 0, 0, 0, 0, 0,\n",
              "                                         1, 0, 0, 0, 0, 0, 0, 0, 0, 0, 0, 0, 0, 0, 0, 0, 0, 0, 0, 0, 0, 0, 0, 0,\n",
              "                                         0, 0, 0, 0, 0, 0, 0, 0, 0, 0, 0, 0, 0, 0, 2, 0, 0, 0, 0, 0, 0, 0, 0, 0,\n",
              "                                         0, 0, 0, 0], dtype=int32),\n",
              "                         'coloraxis': 'coloraxis',\n",
              "                         'opacity': 0.7,\n",
              "                         'symbol': 'circle'},\n",
              "              'mode': 'markers',\n",
              "              'name': '',\n",
              "              'scene': 'scene',\n",
              "              'showlegend': False,\n",
              "              'type': 'scatter3d',\n",
              "              'x': array([-6.96000000e+08,  5.28800000e+09, -9.33530000e+10, -1.90390000e+10,\n",
              "                          -5.49400000e+09, -4.30100000e+09, -3.95966400e+09, -3.73500000e+09,\n",
              "                          -4.59100000e+09,  1.99070000e+09, -1.89500000e+09, -8.27100000e+09,\n",
              "                          -3.01020000e+07, -8.97400000e+09, -1.49330000e+10, -5.60000000e+09,\n",
              "                          -6.44490000e+10,  2.91650000e+11, -6.06018000e+08, -5.25226000e+08,\n",
              "                           1.72720000e+10, -1.31700000e+09, -4.18800000e+09,  6.94900000e+09,\n",
              "                          -1.08097000e+08,  7.83800000e+09, -1.20390000e+10, -2.31130000e+10,\n",
              "                           3.49400000e+07, -4.38500000e+09, -6.07100000e+09, -2.87722000e+08,\n",
              "                           4.61000000e+08, -5.07280000e+10,  9.36551000e+08,  6.50440000e+08,\n",
              "                           1.20060000e+09, -6.13620000e+10,  6.56600000e+09,  1.34738000e+11,\n",
              "                          -1.91200000e+10, -1.79300000e+09, -8.25400000e+09,  8.49090000e+10,\n",
              "                          -5.23000000e+08, -1.33540000e+10, -5.86200000e+09, -1.40470000e+10,\n",
              "                           2.75993000e+11, -1.30600000e+09, -6.78600000e+09, -7.58800000e+09,\n",
              "                          -4.13130000e+09, -4.57893700e+09, -1.20160000e+10, -6.55500000e+09,\n",
              "                          -5.59560000e+09, -9.50400000e+06, -6.14500000e+09, -5.88760000e+10,\n",
              "                           4.15470000e+10, -1.78100000e+09, -4.83600000e+09,  1.86500000e+09,\n",
              "                          -5.69400000e+08, -2.91260000e+10,  4.32300000e+09, -1.07800000e+10,\n",
              "                          -9.81600000e+09, -1.48760000e+10,  3.59777900e+09, -6.79800000e+09,\n",
              "                           2.87759000e+08, -6.68500000e+09, -3.65100000e+09,  9.63230000e+10,\n",
              "                           7.40158900e+09,  1.06507300e+09,  1.14960100e+09,  1.78198000e+08,\n",
              "                           6.84987000e+08, -1.31400000e+09, -1.89900000e+09, -2.03700000e+09,\n",
              "                          -7.68570000e+07, -5.20300000e+09,  1.36608438e+11, -3.13700000e+09,\n",
              "                           1.72100200e+09,  4.01700000e+10,  4.60800000e+08,  1.24901070e+10,\n",
              "                          -7.45500000e+09, -6.82300000e+09,  8.55432000e+08, -1.44100000e+10,\n",
              "                           8.27700000e+09, -1.12380000e+10, -2.28280000e+10, -3.54230000e+10]),\n",
              "              'y': array([ 1.48500000e+09,  7.04000000e+08,  1.04038000e+11,  2.27770000e+10,\n",
              "                           1.05330000e+10,  7.23000000e+09,  2.73506900e+09,  6.27900000e+09,\n",
              "                           5.44200000e+09, -6.14100000e+08,  3.52100000e+09,  9.26100000e+09,\n",
              "                           1.12129500e+09,  1.37640000e+10,  1.46450000e+10, -3.41600000e+09,\n",
              "                           1.42759000e+11, -7.19300000e+09,  1.78540000e+07,  8.31655000e+08,\n",
              "                           6.12490000e+10,  2.42900000e+09,  7.19800000e+09, -4.10900000e+09,\n",
              "                           9.74143000e+08,  6.00000000e+09,  1.54540000e+10,  2.91870000e+10,\n",
              "                           2.86545000e+08,  5.56700000e+09,  7.00900000e+09,  1.61687200e+09,\n",
              "                           2.73300000e+09,  5.76830000e+10, -3.84820000e+07,  2.83903000e+09,\n",
              "                          -4.34300000e+08,  9.16520000e+10, -9.38000000e+08,  9.21000000e+08,\n",
              "                           1.65710000e+10,  1.09000000e+08,  6.03800000e+09,  8.60900000e+09,\n",
              "                           5.89600000e+09,  1.27960000e+10,  2.99910000e+10,  2.34100000e+10,\n",
              "                           7.80840000e+10,  1.70100000e+09,  1.26250000e+10,  9.72500000e+09,\n",
              "                           7.26070000e+09,  3.09967400e+09,  1.01130000e+10,  9.46300000e+09,\n",
              "                           9.14150000e+09,  1.82214000e+08,  7.45400000e+09,  8.90350000e+10,\n",
              "                           3.39710000e+10,  1.24680000e+10,  5.18800000e+09,  9.10800000e+09,\n",
              "                           1.78200000e+09,  9.53900000e+09,  2.26200000e+09,  1.16160000e+10,\n",
              "                           3.25800000e+10,  1.67230000e+10, -3.58176000e+08,  1.05360000e+10,\n",
              "                          -3.87990000e+08,  7.07100000e+09,  5.98910000e+09,  2.11800000e+09,\n",
              "                           2.08649000e+08,  2.92880000e+08, -1.55437000e+08,  1.10179000e+08,\n",
              "                          -1.35021700e+09,  3.06000000e+09,  1.65700000e+09,  7.27400000e+09,\n",
              "                           4.21293000e+08,  1.14970000e+10,  1.11216072e+12,  8.75600000e+09,\n",
              "                          -1.11449000e+08,  1.60000000e+09,  2.11600000e+08,  9.03518910e+10,\n",
              "                           2.23430000e+10,  1.50070000e+10,  1.68353000e+08,  1.52270000e+10,\n",
              "                           3.95390000e+10, -1.15250000e+10,  2.41810000e+10,  4.81290000e+10]),\n",
              "              'z': array([-7.49000000e+08, -5.98300000e+09, -1.45450000e+10, -2.34400000e+09,\n",
              "                          -2.00800000e+09, -3.53700000e+09,  2.14352500e+09, -3.28000000e+09,\n",
              "                          -1.21600000e+09, -6.82000000e+07, -6.86000000e+08,  7.33000000e+08,\n",
              "                          -9.43879000e+08, -2.45000000e+08, -1.05290000e+10,  9.32400000e+09,\n",
              "                          -1.98592000e+11, -3.13291000e+11, -3.49182000e+08, -3.04511000e+08,\n",
              "                          -1.24905000e+11, -3.78000000e+08, -3.08400000e+09, -3.54300000e+09,\n",
              "                          -8.76400000e+08, -1.45360000e+10, -5.28500000e+09, -5.86500000e+09,\n",
              "                          -2.73740000e+08, -3.16300000e+09, -2.91400000e+09, -3.43979000e+08,\n",
              "                          -3.48400000e+09, -7.57000000e+09, -7.94511000e+08, -1.45028600e+09,\n",
              "                          -6.48000000e+07, -3.55230000e+10, -2.75700000e+09, -3.04650000e+10,\n",
              "                          -2.96900000e+09, -5.70000000e+07, -1.06100000e+09,  2.75360000e+10,\n",
              "                          -1.88000000e+08, -5.97500000e+09, -2.51670000e+10, -8.68300000e+09,\n",
              "                          -1.29344000e+11, -5.28000000e+08, -2.76500000e+09, -3.00700000e+09,\n",
              "                          -2.76230000e+09,  6.12275000e+08, -1.64600000e+09, -5.27200000e+09,\n",
              "                          -2.16570000e+09, -1.87127000e+08, -1.31700000e+09, -3.03110000e+10,\n",
              "                          -4.98970000e+10, -1.05890000e+10, -1.52400000e+09, -9.83000000e+09,\n",
              "                          -9.15100000e+08,  1.12200000e+10, -6.90500000e+09, -3.26900000e+09,\n",
              "                          -2.25460000e+10, -4.42400000e+09, -1.74089100e+09, -3.35600000e+09,\n",
              "                          -2.85514000e+08, -1.36400000e+09, -3.19500000e+08, -7.56630000e+10,\n",
              "                          -3.76727300e+09,  9.02270000e+07, -4.96280000e+08, -2.08000000e+07,\n",
              "                           1.10193000e+08, -1.51800000e+09, -3.52000000e+08, -5.19600000e+09,\n",
              "                          -3.38944000e+08, -7.86800000e+09, -8.36365863e+11, -4.09500000e+09,\n",
              "                          -1.83736000e+09, -2.11900000e+09, -4.04800000e+08, -6.21634000e+10,\n",
              "                          -1.03720000e+10, -3.81800000e+09, -1.43877000e+08, -1.52000000e+08,\n",
              "                          -6.71530000e+10, -7.61900000e+09, -6.01500000e+09, -1.02350000e+10])}],\n",
              "    'layout': {'coloraxis': {'colorbar': {'title': {'text': 'Cluster'}},\n",
              "                             'colorscale': [[0.0, '#0d0887'], [0.1111111111111111,\n",
              "                                            '#46039f'], [0.2222222222222222,\n",
              "                                            '#7201a8'], [0.3333333333333333,\n",
              "                                            '#9c179e'], [0.4444444444444444,\n",
              "                                            '#bd3786'], [0.5555555555555556,\n",
              "                                            '#d8576b'], [0.6666666666666666,\n",
              "                                            '#ed7953'], [0.7777777777777778,\n",
              "                                            '#fb9f3a'], [0.8888888888888888,\n",
              "                                            '#fdca26'], [1.0, '#f0f921']]},\n",
              "               'legend': {'tracegroupgap': 0},\n",
              "               'margin': {'t': 60},\n",
              "               'scene': {'domain': {'x': [0.0, 1.0], 'y': [0.0, 1.0]},\n",
              "                         'xaxis': {'title': {'text': 'Mean financing cashflow'}},\n",
              "                         'yaxis': {'title': {'text': 'Mean operating cashflow'}},\n",
              "                         'zaxis': {'title': {'text': 'Mean investing cashflow'}}},\n",
              "               'template': '...'}\n",
              "})"
            ],
            "text/html": [
              "<div>                        <script type=\"text/javascript\">window.PlotlyConfig = {MathJaxConfig: 'local'};</script>\n",
              "        <script src=\"https://cdn.plot.ly/plotly-2.8.3.min.js\"></script>                <div id=\"2afa99ad-3646-4409-bc0c-79e4aa3ec324\" class=\"plotly-graph-div\" style=\"height:100%; width:100%;\"></div>            <script type=\"text/javascript\">                                    window.PLOTLYENV=window.PLOTLYENV || {};                                    if (document.getElementById(\"2afa99ad-3646-4409-bc0c-79e4aa3ec324\")) {                    Plotly.newPlot(                        \"2afa99ad-3646-4409-bc0c-79e4aa3ec324\",                        [{\"customdata\":[[\"a\"],[\"aal\"],[\"aapl\"],[\"abbv\"],[\"abt\"],[\"adbe\"],[\"adi\"],[\"aig\"],[\"amat\"],[\"amc\"],[\"amd\"],[\"amgn\"],[\"amkr\"],[\"avgo\"],[\"axp\"],[\"ba\"],[\"baba\"],[\"bac\"],[\"bbby\"],[\"bj\"],[\"c\"],[\"cah\"],[\"cat\"],[\"ccl\"],[\"cpe\"],[\"crm\"],[\"csco\"],[\"cvx\"],[\"ddog\"],[\"dis\"],[\"dow\"],[\"dks\"],[\"ed\"],[\"fb\"],[\"fsly\"],[\"gfs\"],[\"gme\"],[\"goog\"],[\"grab\"],[\"gs\"],[\"hd\"],[\"hlt\"],[\"hon\"],[\"hsbc\"],[\"ibkr\"],[\"ibm\"],[\"intc\"],[\"jnj\"],[\"jpm\"],[\"k\"],[\"ko\"],[\"lin\"],[\"lly\"],[\"lrcx\"],[\"low\"],[\"ma\"],[\"mcd\"],[\"merc\"],[\"mmm\"],[\"msft\"],[\"ms\"],[\"mu\"],[\"nke\"],[\"nvda\"],[\"on\"],[\"orcl\"],[\"pcg\"],[\"pep\"],[\"pfe\"],[\"pg\"],[\"plug\"],[\"qcom\"],[\"ride\"],[\"rtx\"],[\"sbux\"],[\"schw\"],[\"se\"],[\"snap\"],[\"sndl\"],[\"snow\"],[\"sofi\"],[\"stm\"],[\"stx\"],[\"trv\"],[\"tsem\"],[\"tsla\"],[\"tsm\"],[\"txn\"],[\"u\"],[\"ubs\"],[\"uctt\"],[\"umc\"],[\"unh\"],[\"ups\"],[\"upst\"],[\"v\"],[\"vz\"],[\"wfc\"],[\"wmt\"],[\"xom\"]],\"hovertemplate\":\"Mean financing cashflow=%{x}<br>Mean operating cashflow=%{y}<br>Mean investing cashflow=%{z}<br>Cluster=%{marker.color}<extra></extra><br>Stock: %{customdata[0]}\",\"legendgroup\":\"\",\"marker\":{\"color\":[0,0,0,0,0,0,0,0,0,0,0,0,0,0,0,0,0,1,0,0,0,0,0,0,0,0,0,0,0,0,0,0,0,0,0,0,0,0,0,0,0,0,0,0,0,0,0,0,1,0,0,0,0,0,0,0,0,0,0,0,0,0,0,0,0,0,0,0,0,0,0,0,0,0,0,0,0,0,0,0,0,0,0,0,0,0,2,0,0,0,0,0,0,0,0,0,0,0,0,0],\"coloraxis\":\"coloraxis\",\"opacity\":0.7,\"symbol\":\"circle\"},\"mode\":\"markers\",\"name\":\"\",\"scene\":\"scene\",\"showlegend\":false,\"x\":[-696000000.0,5288000000.0,-93353000000.0,-19039000000.0,-5494000000.0,-4301000000.0,-3959664000.0,-3735000000.0,-4591000000.0,1990700000.0,-1895000000.0,-8271000000.0,-30102000.0,-8974000000.0,-14933000000.0,-5600000000.0,-64449000000.0,291650000000.0,-606018000.0,-525226000.0,17272000000.0,-1317000000.0,-4188000000.0,6949000000.0,-108097000.0,7838000000.0,-12039000000.0,-23113000000.0,34940000.0,-4385000000.0,-6071000000.0,-287722000.0,461000000.0,-50728000000.0,936551000.0,650440000.0,1200600000.0,-61362000000.0,6566000000.0,134738000000.0,-19120000000.0,-1793000000.0,-8254000000.0,84909000000.0,-523000000.0,-13354000000.0,-5862000000.0,-14047000000.0,275993000000.0,-1306000000.0,-6786000000.0,-7588000000.0,-4131300000.0,-4578937000.0,-12016000000.0,-6555000000.0,-5595600000.0,-9504000.0,-6145000000.0,-58876000000.0,41547000000.0,-1781000000.0,-4836000000.0,1865000000.0,-569400000.0,-29126000000.0,4323000000.0,-10780000000.0,-9816000000.0,-14876000000.0,3597779000.0,-6798000000.0,287759000.0,-6685000000.0,-3651000000.0,96323000000.0,7401589000.0,1065073000.0,1149601000.0,178198000.0,684987000.0,-1314000000.0,-1899000000.0,-2037000000.0,-76857000.0,-5203000000.0,136608438000.0,-3137000000.0,1721002000.0,40170000000.0,460800000.0,12490107000.0,-7455000000.0,-6823000000.0,855432000.0,-14410000000.0,8277000000.0,-11238000000.0,-22828000000.0,-35423000000.0],\"y\":[1485000000.0,704000000.0,104038000000.0,22777000000.0,10533000000.0,7230000000.0,2735069000.0,6279000000.0,5442000000.0,-614100000.0,3521000000.0,9261000000.0,1121295000.0,13764000000.0,14645000000.0,-3416000000.0,142759000000.0,-7193000000.0,17854000.0,831655000.0,61249000000.0,2429000000.0,7198000000.0,-4109000000.0,974143000.0,6000000000.0,15454000000.0,29187000000.0,286545000.0,5567000000.0,7009000000.0,1616872000.0,2733000000.0,57683000000.0,-38482000.0,2839030000.0,-434300000.0,91652000000.0,-938000000.0,921000000.0,16571000000.0,109000000.0,6038000000.0,8609000000.0,5896000000.0,12796000000.0,29991000000.0,23410000000.0,78084000000.0,1701000000.0,12625000000.0,9725000000.0,7260700000.0,3099674000.0,10113000000.0,9463000000.0,9141500000.0,182214000.0,7454000000.0,89035000000.0,33971000000.0,12468000000.0,5188000000.0,9108000000.0,1782000000.0,9539000000.0,2262000000.0,11616000000.0,32580000000.0,16723000000.0,-358176000.0,10536000000.0,-387990000.0,7071000000.0,5989100000.0,2118000000.0,208649000.0,292880000.0,-155437000.0,110179000.0,-1350217000.0,3060000000.0,1657000000.0,7274000000.0,421293000.0,11497000000.0,1112160722000.0,8756000000.0,-111449000.0,1600000000.0,211600000.0,90351891000.0,22343000000.0,15007000000.0,168353000.0,15227000000.0,39539000000.0,-11525000000.0,24181000000.0,48129000000.0],\"z\":[-749000000.0,-5983000000.0,-14545000000.0,-2344000000.0,-2008000000.0,-3537000000.0,2143525000.0,-3280000000.0,-1216000000.0,-68200000.0,-686000000.0,733000000.0,-943879000.0,-245000000.0,-10529000000.0,9324000000.0,-198592000000.0,-313291000000.0,-349182000.0,-304511000.0,-124905000000.0,-378000000.0,-3084000000.0,-3543000000.0,-876400000.0,-14536000000.0,-5285000000.0,-5865000000.0,-273740000.0,-3163000000.0,-2914000000.0,-343979000.0,-3484000000.0,-7570000000.0,-794511000.0,-1450286000.0,-64800000.0,-35523000000.0,-2757000000.0,-30465000000.0,-2969000000.0,-57000000.0,-1061000000.0,27536000000.0,-188000000.0,-5975000000.0,-25167000000.0,-8683000000.0,-129344000000.0,-528000000.0,-2765000000.0,-3007000000.0,-2762300000.0,612275000.0,-1646000000.0,-5272000000.0,-2165700000.0,-187127000.0,-1317000000.0,-30311000000.0,-49897000000.0,-10589000000.0,-1524000000.0,-9830000000.0,-915100000.0,11220000000.0,-6905000000.0,-3269000000.0,-22546000000.0,-4424000000.0,-1740891000.0,-3356000000.0,-285514000.0,-1364000000.0,-319500000.0,-75663000000.0,-3767273000.0,90227000.0,-496280000.0,-20800000.0,110193000.0,-1518000000.0,-352000000.0,-5196000000.0,-338944000.0,-7868000000.0,-836365863000.0,-4095000000.0,-1837360000.0,-2119000000.0,-404800000.0,-62163400000.0,-10372000000.0,-3818000000.0,-143877000.0,-152000000.0,-67153000000.0,-7619000000.0,-6015000000.0,-10235000000.0],\"type\":\"scatter3d\"}],                        {\"template\":{\"data\":{\"bar\":[{\"error_x\":{\"color\":\"#2a3f5f\"},\"error_y\":{\"color\":\"#2a3f5f\"},\"marker\":{\"line\":{\"color\":\"#E5ECF6\",\"width\":0.5},\"pattern\":{\"fillmode\":\"overlay\",\"size\":10,\"solidity\":0.2}},\"type\":\"bar\"}],\"barpolar\":[{\"marker\":{\"line\":{\"color\":\"#E5ECF6\",\"width\":0.5},\"pattern\":{\"fillmode\":\"overlay\",\"size\":10,\"solidity\":0.2}},\"type\":\"barpolar\"}],\"carpet\":[{\"aaxis\":{\"endlinecolor\":\"#2a3f5f\",\"gridcolor\":\"white\",\"linecolor\":\"white\",\"minorgridcolor\":\"white\",\"startlinecolor\":\"#2a3f5f\"},\"baxis\":{\"endlinecolor\":\"#2a3f5f\",\"gridcolor\":\"white\",\"linecolor\":\"white\",\"minorgridcolor\":\"white\",\"startlinecolor\":\"#2a3f5f\"},\"type\":\"carpet\"}],\"choropleth\":[{\"colorbar\":{\"outlinewidth\":0,\"ticks\":\"\"},\"type\":\"choropleth\"}],\"contour\":[{\"colorbar\":{\"outlinewidth\":0,\"ticks\":\"\"},\"colorscale\":[[0.0,\"#0d0887\"],[0.1111111111111111,\"#46039f\"],[0.2222222222222222,\"#7201a8\"],[0.3333333333333333,\"#9c179e\"],[0.4444444444444444,\"#bd3786\"],[0.5555555555555556,\"#d8576b\"],[0.6666666666666666,\"#ed7953\"],[0.7777777777777778,\"#fb9f3a\"],[0.8888888888888888,\"#fdca26\"],[1.0,\"#f0f921\"]],\"type\":\"contour\"}],\"contourcarpet\":[{\"colorbar\":{\"outlinewidth\":0,\"ticks\":\"\"},\"type\":\"contourcarpet\"}],\"heatmap\":[{\"colorbar\":{\"outlinewidth\":0,\"ticks\":\"\"},\"colorscale\":[[0.0,\"#0d0887\"],[0.1111111111111111,\"#46039f\"],[0.2222222222222222,\"#7201a8\"],[0.3333333333333333,\"#9c179e\"],[0.4444444444444444,\"#bd3786\"],[0.5555555555555556,\"#d8576b\"],[0.6666666666666666,\"#ed7953\"],[0.7777777777777778,\"#fb9f3a\"],[0.8888888888888888,\"#fdca26\"],[1.0,\"#f0f921\"]],\"type\":\"heatmap\"}],\"heatmapgl\":[{\"colorbar\":{\"outlinewidth\":0,\"ticks\":\"\"},\"colorscale\":[[0.0,\"#0d0887\"],[0.1111111111111111,\"#46039f\"],[0.2222222222222222,\"#7201a8\"],[0.3333333333333333,\"#9c179e\"],[0.4444444444444444,\"#bd3786\"],[0.5555555555555556,\"#d8576b\"],[0.6666666666666666,\"#ed7953\"],[0.7777777777777778,\"#fb9f3a\"],[0.8888888888888888,\"#fdca26\"],[1.0,\"#f0f921\"]],\"type\":\"heatmapgl\"}],\"histogram\":[{\"marker\":{\"pattern\":{\"fillmode\":\"overlay\",\"size\":10,\"solidity\":0.2}},\"type\":\"histogram\"}],\"histogram2d\":[{\"colorbar\":{\"outlinewidth\":0,\"ticks\":\"\"},\"colorscale\":[[0.0,\"#0d0887\"],[0.1111111111111111,\"#46039f\"],[0.2222222222222222,\"#7201a8\"],[0.3333333333333333,\"#9c179e\"],[0.4444444444444444,\"#bd3786\"],[0.5555555555555556,\"#d8576b\"],[0.6666666666666666,\"#ed7953\"],[0.7777777777777778,\"#fb9f3a\"],[0.8888888888888888,\"#fdca26\"],[1.0,\"#f0f921\"]],\"type\":\"histogram2d\"}],\"histogram2dcontour\":[{\"colorbar\":{\"outlinewidth\":0,\"ticks\":\"\"},\"colorscale\":[[0.0,\"#0d0887\"],[0.1111111111111111,\"#46039f\"],[0.2222222222222222,\"#7201a8\"],[0.3333333333333333,\"#9c179e\"],[0.4444444444444444,\"#bd3786\"],[0.5555555555555556,\"#d8576b\"],[0.6666666666666666,\"#ed7953\"],[0.7777777777777778,\"#fb9f3a\"],[0.8888888888888888,\"#fdca26\"],[1.0,\"#f0f921\"]],\"type\":\"histogram2dcontour\"}],\"mesh3d\":[{\"colorbar\":{\"outlinewidth\":0,\"ticks\":\"\"},\"type\":\"mesh3d\"}],\"parcoords\":[{\"line\":{\"colorbar\":{\"outlinewidth\":0,\"ticks\":\"\"}},\"type\":\"parcoords\"}],\"pie\":[{\"automargin\":true,\"type\":\"pie\"}],\"scatter\":[{\"marker\":{\"colorbar\":{\"outlinewidth\":0,\"ticks\":\"\"}},\"type\":\"scatter\"}],\"scatter3d\":[{\"line\":{\"colorbar\":{\"outlinewidth\":0,\"ticks\":\"\"}},\"marker\":{\"colorbar\":{\"outlinewidth\":0,\"ticks\":\"\"}},\"type\":\"scatter3d\"}],\"scattercarpet\":[{\"marker\":{\"colorbar\":{\"outlinewidth\":0,\"ticks\":\"\"}},\"type\":\"scattercarpet\"}],\"scattergeo\":[{\"marker\":{\"colorbar\":{\"outlinewidth\":0,\"ticks\":\"\"}},\"type\":\"scattergeo\"}],\"scattergl\":[{\"marker\":{\"colorbar\":{\"outlinewidth\":0,\"ticks\":\"\"}},\"type\":\"scattergl\"}],\"scattermapbox\":[{\"marker\":{\"colorbar\":{\"outlinewidth\":0,\"ticks\":\"\"}},\"type\":\"scattermapbox\"}],\"scatterpolar\":[{\"marker\":{\"colorbar\":{\"outlinewidth\":0,\"ticks\":\"\"}},\"type\":\"scatterpolar\"}],\"scatterpolargl\":[{\"marker\":{\"colorbar\":{\"outlinewidth\":0,\"ticks\":\"\"}},\"type\":\"scatterpolargl\"}],\"scatterternary\":[{\"marker\":{\"colorbar\":{\"outlinewidth\":0,\"ticks\":\"\"}},\"type\":\"scatterternary\"}],\"surface\":[{\"colorbar\":{\"outlinewidth\":0,\"ticks\":\"\"},\"colorscale\":[[0.0,\"#0d0887\"],[0.1111111111111111,\"#46039f\"],[0.2222222222222222,\"#7201a8\"],[0.3333333333333333,\"#9c179e\"],[0.4444444444444444,\"#bd3786\"],[0.5555555555555556,\"#d8576b\"],[0.6666666666666666,\"#ed7953\"],[0.7777777777777778,\"#fb9f3a\"],[0.8888888888888888,\"#fdca26\"],[1.0,\"#f0f921\"]],\"type\":\"surface\"}],\"table\":[{\"cells\":{\"fill\":{\"color\":\"#EBF0F8\"},\"line\":{\"color\":\"white\"}},\"header\":{\"fill\":{\"color\":\"#C8D4E3\"},\"line\":{\"color\":\"white\"}},\"type\":\"table\"}]},\"layout\":{\"annotationdefaults\":{\"arrowcolor\":\"#2a3f5f\",\"arrowhead\":0,\"arrowwidth\":1},\"autotypenumbers\":\"strict\",\"coloraxis\":{\"colorbar\":{\"outlinewidth\":0,\"ticks\":\"\"}},\"colorscale\":{\"diverging\":[[0,\"#8e0152\"],[0.1,\"#c51b7d\"],[0.2,\"#de77ae\"],[0.3,\"#f1b6da\"],[0.4,\"#fde0ef\"],[0.5,\"#f7f7f7\"],[0.6,\"#e6f5d0\"],[0.7,\"#b8e186\"],[0.8,\"#7fbc41\"],[0.9,\"#4d9221\"],[1,\"#276419\"]],\"sequential\":[[0.0,\"#0d0887\"],[0.1111111111111111,\"#46039f\"],[0.2222222222222222,\"#7201a8\"],[0.3333333333333333,\"#9c179e\"],[0.4444444444444444,\"#bd3786\"],[0.5555555555555556,\"#d8576b\"],[0.6666666666666666,\"#ed7953\"],[0.7777777777777778,\"#fb9f3a\"],[0.8888888888888888,\"#fdca26\"],[1.0,\"#f0f921\"]],\"sequentialminus\":[[0.0,\"#0d0887\"],[0.1111111111111111,\"#46039f\"],[0.2222222222222222,\"#7201a8\"],[0.3333333333333333,\"#9c179e\"],[0.4444444444444444,\"#bd3786\"],[0.5555555555555556,\"#d8576b\"],[0.6666666666666666,\"#ed7953\"],[0.7777777777777778,\"#fb9f3a\"],[0.8888888888888888,\"#fdca26\"],[1.0,\"#f0f921\"]]},\"colorway\":[\"#636efa\",\"#EF553B\",\"#00cc96\",\"#ab63fa\",\"#FFA15A\",\"#19d3f3\",\"#FF6692\",\"#B6E880\",\"#FF97FF\",\"#FECB52\"],\"font\":{\"color\":\"#2a3f5f\"},\"geo\":{\"bgcolor\":\"white\",\"lakecolor\":\"white\",\"landcolor\":\"#E5ECF6\",\"showlakes\":true,\"showland\":true,\"subunitcolor\":\"white\"},\"hoverlabel\":{\"align\":\"left\"},\"hovermode\":\"closest\",\"mapbox\":{\"style\":\"light\"},\"paper_bgcolor\":\"white\",\"plot_bgcolor\":\"#E5ECF6\",\"polar\":{\"angularaxis\":{\"gridcolor\":\"white\",\"linecolor\":\"white\",\"ticks\":\"\"},\"bgcolor\":\"#E5ECF6\",\"radialaxis\":{\"gridcolor\":\"white\",\"linecolor\":\"white\",\"ticks\":\"\"}},\"scene\":{\"xaxis\":{\"backgroundcolor\":\"#E5ECF6\",\"gridcolor\":\"white\",\"gridwidth\":2,\"linecolor\":\"white\",\"showbackground\":true,\"ticks\":\"\",\"zerolinecolor\":\"white\"},\"yaxis\":{\"backgroundcolor\":\"#E5ECF6\",\"gridcolor\":\"white\",\"gridwidth\":2,\"linecolor\":\"white\",\"showbackground\":true,\"ticks\":\"\",\"zerolinecolor\":\"white\"},\"zaxis\":{\"backgroundcolor\":\"#E5ECF6\",\"gridcolor\":\"white\",\"gridwidth\":2,\"linecolor\":\"white\",\"showbackground\":true,\"ticks\":\"\",\"zerolinecolor\":\"white\"}},\"shapedefaults\":{\"line\":{\"color\":\"#2a3f5f\"}},\"ternary\":{\"aaxis\":{\"gridcolor\":\"white\",\"linecolor\":\"white\",\"ticks\":\"\"},\"baxis\":{\"gridcolor\":\"white\",\"linecolor\":\"white\",\"ticks\":\"\"},\"bgcolor\":\"#E5ECF6\",\"caxis\":{\"gridcolor\":\"white\",\"linecolor\":\"white\",\"ticks\":\"\"}},\"title\":{\"x\":0.05},\"xaxis\":{\"automargin\":true,\"gridcolor\":\"white\",\"linecolor\":\"white\",\"ticks\":\"\",\"title\":{\"standoff\":15},\"zerolinecolor\":\"white\",\"zerolinewidth\":2},\"yaxis\":{\"automargin\":true,\"gridcolor\":\"white\",\"linecolor\":\"white\",\"ticks\":\"\",\"title\":{\"standoff\":15},\"zerolinecolor\":\"white\",\"zerolinewidth\":2}}},\"scene\":{\"domain\":{\"x\":[0.0,1.0],\"y\":[0.0,1.0]},\"xaxis\":{\"title\":{\"text\":\"Mean financing cashflow\"}},\"yaxis\":{\"title\":{\"text\":\"Mean operating cashflow\"}},\"zaxis\":{\"title\":{\"text\":\"Mean investing cashflow\"}}},\"coloraxis\":{\"colorbar\":{\"title\":{\"text\":\"Cluster\"}},\"colorscale\":[[0.0,\"#0d0887\"],[0.1111111111111111,\"#46039f\"],[0.2222222222222222,\"#7201a8\"],[0.3333333333333333,\"#9c179e\"],[0.4444444444444444,\"#bd3786\"],[0.5555555555555556,\"#d8576b\"],[0.6666666666666666,\"#ed7953\"],[0.7777777777777778,\"#fb9f3a\"],[0.8888888888888888,\"#fdca26\"],[1.0,\"#f0f921\"]]},\"legend\":{\"tracegroupgap\":0},\"margin\":{\"t\":60}},                        {\"responsive\": true}                    )                };                            </script>        </div>"
            ]
          },
          "metadata": {},
          "execution_count": 49
        }
      ]
    },
    {
      "cell_type": "code",
      "source": [
        "import pandas as pd \n",
        "import requests"
      ],
      "metadata": {
        "id": "fyDc6RtwOYiT"
      },
      "execution_count": null,
      "outputs": []
    },
    {
      "cell_type": "code",
      "source": [
        "url = 'https://www.klsescreener.com/v2/stocks/view/7050/wong-engineering-corporation-berhad'"
      ],
      "metadata": {
        "id": "e_paYYItOkR7"
      },
      "execution_count": null,
      "outputs": []
    },
    {
      "cell_type": "code",
      "source": [
        "r = requests.get(url)\n",
        "r.status_code"
      ],
      "metadata": {
        "colab": {
          "base_uri": "https://localhost:8080/"
        },
        "id": "QwZ3aNZiOtV0",
        "outputId": "3c2658de-0746-4c82-e59b-f10af70e94f8"
      },
      "execution_count": null,
      "outputs": [
        {
          "output_type": "execute_result",
          "data": {
            "text/plain": [
              "503"
            ]
          },
          "metadata": {},
          "execution_count": 19
        }
      ]
    },
    {
      "cell_type": "code",
      "source": [
        "df = pd.read_html(r.text)"
      ],
      "metadata": {
        "colab": {
          "base_uri": "https://localhost:8080/",
          "height": 314
        },
        "id": "aYJzVop2OdxG",
        "outputId": "643fd71d-e2ab-4027-f694-6028c91d1675"
      },
      "execution_count": null,
      "outputs": [
        {
          "output_type": "error",
          "ename": "ValueError",
          "evalue": "ignored",
          "traceback": [
            "\u001b[0;31m---------------------------------------------------------------------------\u001b[0m",
            "\u001b[0;31mValueError\u001b[0m                                Traceback (most recent call last)",
            "\u001b[0;32m<ipython-input-20-4f35b93773e0>\u001b[0m in \u001b[0;36m<module>\u001b[0;34m\u001b[0m\n\u001b[0;32m----> 1\u001b[0;31m \u001b[0mdf\u001b[0m \u001b[0;34m=\u001b[0m \u001b[0mpd\u001b[0m\u001b[0;34m.\u001b[0m\u001b[0mread_html\u001b[0m\u001b[0;34m(\u001b[0m\u001b[0mr\u001b[0m\u001b[0;34m.\u001b[0m\u001b[0mtext\u001b[0m\u001b[0;34m)\u001b[0m\u001b[0;34m\u001b[0m\u001b[0;34m\u001b[0m\u001b[0m\n\u001b[0m",
            "\u001b[0;32m/usr/local/lib/python3.7/dist-packages/pandas/util/_decorators.py\u001b[0m in \u001b[0;36mwrapper\u001b[0;34m(*args, **kwargs)\u001b[0m\n\u001b[1;32m    309\u001b[0m                     \u001b[0mstacklevel\u001b[0m\u001b[0;34m=\u001b[0m\u001b[0mstacklevel\u001b[0m\u001b[0;34m,\u001b[0m\u001b[0;34m\u001b[0m\u001b[0;34m\u001b[0m\u001b[0m\n\u001b[1;32m    310\u001b[0m                 )\n\u001b[0;32m--> 311\u001b[0;31m             \u001b[0;32mreturn\u001b[0m \u001b[0mfunc\u001b[0m\u001b[0;34m(\u001b[0m\u001b[0;34m*\u001b[0m\u001b[0margs\u001b[0m\u001b[0;34m,\u001b[0m \u001b[0;34m**\u001b[0m\u001b[0mkwargs\u001b[0m\u001b[0;34m)\u001b[0m\u001b[0;34m\u001b[0m\u001b[0;34m\u001b[0m\u001b[0m\n\u001b[0m\u001b[1;32m    312\u001b[0m \u001b[0;34m\u001b[0m\u001b[0m\n\u001b[1;32m    313\u001b[0m         \u001b[0;32mreturn\u001b[0m \u001b[0mwrapper\u001b[0m\u001b[0;34m\u001b[0m\u001b[0;34m\u001b[0m\u001b[0m\n",
            "\u001b[0;32m/usr/local/lib/python3.7/dist-packages/pandas/io/html.py\u001b[0m in \u001b[0;36mread_html\u001b[0;34m(io, match, flavor, header, index_col, skiprows, attrs, parse_dates, thousands, encoding, decimal, converters, na_values, keep_default_na, displayed_only)\u001b[0m\n\u001b[1;32m   1111\u001b[0m         \u001b[0mna_values\u001b[0m\u001b[0;34m=\u001b[0m\u001b[0mna_values\u001b[0m\u001b[0;34m,\u001b[0m\u001b[0;34m\u001b[0m\u001b[0;34m\u001b[0m\u001b[0m\n\u001b[1;32m   1112\u001b[0m         \u001b[0mkeep_default_na\u001b[0m\u001b[0;34m=\u001b[0m\u001b[0mkeep_default_na\u001b[0m\u001b[0;34m,\u001b[0m\u001b[0;34m\u001b[0m\u001b[0;34m\u001b[0m\u001b[0m\n\u001b[0;32m-> 1113\u001b[0;31m         \u001b[0mdisplayed_only\u001b[0m\u001b[0;34m=\u001b[0m\u001b[0mdisplayed_only\u001b[0m\u001b[0;34m,\u001b[0m\u001b[0;34m\u001b[0m\u001b[0;34m\u001b[0m\u001b[0m\n\u001b[0m\u001b[1;32m   1114\u001b[0m     )\n",
            "\u001b[0;32m/usr/local/lib/python3.7/dist-packages/pandas/io/html.py\u001b[0m in \u001b[0;36m_parse\u001b[0;34m(flavor, io, match, attrs, encoding, displayed_only, **kwargs)\u001b[0m\n\u001b[1;32m    924\u001b[0m     \u001b[0;32melse\u001b[0m\u001b[0;34m:\u001b[0m\u001b[0;34m\u001b[0m\u001b[0;34m\u001b[0m\u001b[0m\n\u001b[1;32m    925\u001b[0m         \u001b[0;32massert\u001b[0m \u001b[0mretained\u001b[0m \u001b[0;32mis\u001b[0m \u001b[0;32mnot\u001b[0m \u001b[0;32mNone\u001b[0m  \u001b[0;31m# for mypy\u001b[0m\u001b[0;34m\u001b[0m\u001b[0;34m\u001b[0m\u001b[0m\n\u001b[0;32m--> 926\u001b[0;31m         \u001b[0;32mraise\u001b[0m \u001b[0mretained\u001b[0m\u001b[0;34m\u001b[0m\u001b[0;34m\u001b[0m\u001b[0m\n\u001b[0m\u001b[1;32m    927\u001b[0m \u001b[0;34m\u001b[0m\u001b[0m\n\u001b[1;32m    928\u001b[0m     \u001b[0mret\u001b[0m \u001b[0;34m=\u001b[0m \u001b[0;34m[\u001b[0m\u001b[0;34m]\u001b[0m\u001b[0;34m\u001b[0m\u001b[0;34m\u001b[0m\u001b[0m\n",
            "\u001b[0;32m/usr/local/lib/python3.7/dist-packages/pandas/io/html.py\u001b[0m in \u001b[0;36m_parse\u001b[0;34m(flavor, io, match, attrs, encoding, displayed_only, **kwargs)\u001b[0m\n\u001b[1;32m    904\u001b[0m \u001b[0;34m\u001b[0m\u001b[0m\n\u001b[1;32m    905\u001b[0m         \u001b[0;32mtry\u001b[0m\u001b[0;34m:\u001b[0m\u001b[0;34m\u001b[0m\u001b[0;34m\u001b[0m\u001b[0m\n\u001b[0;32m--> 906\u001b[0;31m             \u001b[0mtables\u001b[0m \u001b[0;34m=\u001b[0m \u001b[0mp\u001b[0m\u001b[0;34m.\u001b[0m\u001b[0mparse_tables\u001b[0m\u001b[0;34m(\u001b[0m\u001b[0;34m)\u001b[0m\u001b[0;34m\u001b[0m\u001b[0;34m\u001b[0m\u001b[0m\n\u001b[0m\u001b[1;32m    907\u001b[0m         \u001b[0;32mexcept\u001b[0m \u001b[0mValueError\u001b[0m \u001b[0;32mas\u001b[0m \u001b[0mcaught\u001b[0m\u001b[0;34m:\u001b[0m\u001b[0;34m\u001b[0m\u001b[0;34m\u001b[0m\u001b[0m\n\u001b[1;32m    908\u001b[0m             \u001b[0;31m# if `io` is an io-like object, check if it's seekable\u001b[0m\u001b[0;34m\u001b[0m\u001b[0;34m\u001b[0m\u001b[0;34m\u001b[0m\u001b[0m\n",
            "\u001b[0;32m/usr/local/lib/python3.7/dist-packages/pandas/io/html.py\u001b[0m in \u001b[0;36mparse_tables\u001b[0;34m(self)\u001b[0m\n\u001b[1;32m    220\u001b[0m         \u001b[0mlist\u001b[0m \u001b[0mof\u001b[0m \u001b[0mparsed\u001b[0m \u001b[0;34m(\u001b[0m\u001b[0mheader\u001b[0m\u001b[0;34m,\u001b[0m \u001b[0mbody\u001b[0m\u001b[0;34m,\u001b[0m \u001b[0mfooter\u001b[0m\u001b[0;34m)\u001b[0m \u001b[0mtuples\u001b[0m \u001b[0;32mfrom\u001b[0m \u001b[0mtables\u001b[0m\u001b[0;34m.\u001b[0m\u001b[0;34m\u001b[0m\u001b[0;34m\u001b[0m\u001b[0m\n\u001b[1;32m    221\u001b[0m         \"\"\"\n\u001b[0;32m--> 222\u001b[0;31m         \u001b[0mtables\u001b[0m \u001b[0;34m=\u001b[0m \u001b[0mself\u001b[0m\u001b[0;34m.\u001b[0m\u001b[0m_parse_tables\u001b[0m\u001b[0;34m(\u001b[0m\u001b[0mself\u001b[0m\u001b[0;34m.\u001b[0m\u001b[0m_build_doc\u001b[0m\u001b[0;34m(\u001b[0m\u001b[0;34m)\u001b[0m\u001b[0;34m,\u001b[0m \u001b[0mself\u001b[0m\u001b[0;34m.\u001b[0m\u001b[0mmatch\u001b[0m\u001b[0;34m,\u001b[0m \u001b[0mself\u001b[0m\u001b[0;34m.\u001b[0m\u001b[0mattrs\u001b[0m\u001b[0;34m)\u001b[0m\u001b[0;34m\u001b[0m\u001b[0;34m\u001b[0m\u001b[0m\n\u001b[0m\u001b[1;32m    223\u001b[0m         \u001b[0;32mreturn\u001b[0m \u001b[0;34m(\u001b[0m\u001b[0mself\u001b[0m\u001b[0;34m.\u001b[0m\u001b[0m_parse_thead_tbody_tfoot\u001b[0m\u001b[0;34m(\u001b[0m\u001b[0mtable\u001b[0m\u001b[0;34m)\u001b[0m \u001b[0;32mfor\u001b[0m \u001b[0mtable\u001b[0m \u001b[0;32min\u001b[0m \u001b[0mtables\u001b[0m\u001b[0;34m)\u001b[0m\u001b[0;34m\u001b[0m\u001b[0;34m\u001b[0m\u001b[0m\n\u001b[1;32m    224\u001b[0m \u001b[0;34m\u001b[0m\u001b[0m\n",
            "\u001b[0;32m/usr/local/lib/python3.7/dist-packages/pandas/io/html.py\u001b[0m in \u001b[0;36m_parse_tables\u001b[0;34m(self, doc, match, attrs)\u001b[0m\n\u001b[1;32m    550\u001b[0m \u001b[0;34m\u001b[0m\u001b[0m\n\u001b[1;32m    551\u001b[0m         \u001b[0;32mif\u001b[0m \u001b[0;32mnot\u001b[0m \u001b[0mtables\u001b[0m\u001b[0;34m:\u001b[0m\u001b[0;34m\u001b[0m\u001b[0;34m\u001b[0m\u001b[0m\n\u001b[0;32m--> 552\u001b[0;31m             \u001b[0;32mraise\u001b[0m \u001b[0mValueError\u001b[0m\u001b[0;34m(\u001b[0m\u001b[0;34m\"No tables found\"\u001b[0m\u001b[0;34m)\u001b[0m\u001b[0;34m\u001b[0m\u001b[0;34m\u001b[0m\u001b[0m\n\u001b[0m\u001b[1;32m    553\u001b[0m \u001b[0;34m\u001b[0m\u001b[0m\n\u001b[1;32m    554\u001b[0m         \u001b[0mresult\u001b[0m \u001b[0;34m=\u001b[0m \u001b[0;34m[\u001b[0m\u001b[0;34m]\u001b[0m\u001b[0;34m\u001b[0m\u001b[0;34m\u001b[0m\u001b[0m\n",
            "\u001b[0;31mValueError\u001b[0m: No tables found"
          ]
        }
      ]
    },
    {
      "cell_type": "markdown",
      "source": [
        "# PLOTTING CASHFLOWS OF INDIVIDUAL STOCKS"
      ],
      "metadata": {
        "id": "m-Pm7MsbxTb-"
      }
    },
    {
      "cell_type": "code",
      "source": [
        "aapl_mth_cf = si.get_cash_flow('aapl', yearly = False)"
      ],
      "metadata": {
        "id": "h7QNI4osP80H"
      },
      "execution_count": null,
      "outputs": []
    },
    {
      "cell_type": "code",
      "source": [
        "aapl_mth_cf = aapl_mth_cf.transpose()"
      ],
      "metadata": {
        "id": "4N3grH4yRf8T"
      },
      "execution_count": null,
      "outputs": []
    },
    {
      "cell_type": "code",
      "source": [
        "aapl_mth_cf = aapl_mth_cf[['totalCashflowsFromInvestingActivities','totalCashFromFinancingActivities','totalCashFromOperatingActivities']]"
      ],
      "metadata": {
        "id": "T-EHRbguSYzm"
      },
      "execution_count": null,
      "outputs": []
    },
    {
      "cell_type": "code",
      "source": [
        "pd.set_option('display.float_format', lambda x: '%15f' % x)"
      ],
      "metadata": {
        "id": "e_Zzkqr3Xqg3"
      },
      "execution_count": null,
      "outputs": []
    },
    {
      "cell_type": "code",
      "source": [
        "aapl_mth_cf"
      ],
      "metadata": {
        "colab": {
          "base_uri": "https://localhost:8080/",
          "height": 206
        },
        "id": "wUYcfHPZU7oH",
        "outputId": "9c1fd107-5957-40ed-f395-42dc0c6d3066"
      },
      "execution_count": null,
      "outputs": [
        {
          "output_type": "execute_result",
          "data": {
            "text/plain": [
              "Breakdown   totalCashflowsFromInvestingActivities  \\\n",
              "endDate                                             \n",
              "2022-06-25                      4234000000.000000   \n",
              "2022-03-26                     -9265000000.000000   \n",
              "2021-12-25                    -16106000000.000000   \n",
              "2021-09-25                       835000000.000000   \n",
              "\n",
              "Breakdown   totalCashFromFinancingActivities  totalCashFromOperatingActivities  \n",
              "endDate                                                                         \n",
              "2022-06-25               -27445000000.000000                22892000000.000000  \n",
              "2022-03-26               -28351000000.000000                28166000000.000000  \n",
              "2021-12-25               -28159000000.000000                46966000000.000000  \n",
              "2021-09-25               -20382000000.000000                20200000000.000000  "
            ],
            "text/html": [
              "\n",
              "  <div id=\"df-138d294d-ae60-4112-b06f-bb5c2013eac9\">\n",
              "    <div class=\"colab-df-container\">\n",
              "      <div>\n",
              "<style scoped>\n",
              "    .dataframe tbody tr th:only-of-type {\n",
              "        vertical-align: middle;\n",
              "    }\n",
              "\n",
              "    .dataframe tbody tr th {\n",
              "        vertical-align: top;\n",
              "    }\n",
              "\n",
              "    .dataframe thead th {\n",
              "        text-align: right;\n",
              "    }\n",
              "</style>\n",
              "<table border=\"1\" class=\"dataframe\">\n",
              "  <thead>\n",
              "    <tr style=\"text-align: right;\">\n",
              "      <th>Breakdown</th>\n",
              "      <th>totalCashflowsFromInvestingActivities</th>\n",
              "      <th>totalCashFromFinancingActivities</th>\n",
              "      <th>totalCashFromOperatingActivities</th>\n",
              "    </tr>\n",
              "    <tr>\n",
              "      <th>endDate</th>\n",
              "      <th></th>\n",
              "      <th></th>\n",
              "      <th></th>\n",
              "    </tr>\n",
              "  </thead>\n",
              "  <tbody>\n",
              "    <tr>\n",
              "      <th>2022-06-25</th>\n",
              "      <td>4234000000.000000</td>\n",
              "      <td>-27445000000.000000</td>\n",
              "      <td>22892000000.000000</td>\n",
              "    </tr>\n",
              "    <tr>\n",
              "      <th>2022-03-26</th>\n",
              "      <td>-9265000000.000000</td>\n",
              "      <td>-28351000000.000000</td>\n",
              "      <td>28166000000.000000</td>\n",
              "    </tr>\n",
              "    <tr>\n",
              "      <th>2021-12-25</th>\n",
              "      <td>-16106000000.000000</td>\n",
              "      <td>-28159000000.000000</td>\n",
              "      <td>46966000000.000000</td>\n",
              "    </tr>\n",
              "    <tr>\n",
              "      <th>2021-09-25</th>\n",
              "      <td>835000000.000000</td>\n",
              "      <td>-20382000000.000000</td>\n",
              "      <td>20200000000.000000</td>\n",
              "    </tr>\n",
              "  </tbody>\n",
              "</table>\n",
              "</div>\n",
              "      <button class=\"colab-df-convert\" onclick=\"convertToInteractive('df-138d294d-ae60-4112-b06f-bb5c2013eac9')\"\n",
              "              title=\"Convert this dataframe to an interactive table.\"\n",
              "              style=\"display:none;\">\n",
              "        \n",
              "  <svg xmlns=\"http://www.w3.org/2000/svg\" height=\"24px\"viewBox=\"0 0 24 24\"\n",
              "       width=\"24px\">\n",
              "    <path d=\"M0 0h24v24H0V0z\" fill=\"none\"/>\n",
              "    <path d=\"M18.56 5.44l.94 2.06.94-2.06 2.06-.94-2.06-.94-.94-2.06-.94 2.06-2.06.94zm-11 1L8.5 8.5l.94-2.06 2.06-.94-2.06-.94L8.5 2.5l-.94 2.06-2.06.94zm10 10l.94 2.06.94-2.06 2.06-.94-2.06-.94-.94-2.06-.94 2.06-2.06.94z\"/><path d=\"M17.41 7.96l-1.37-1.37c-.4-.4-.92-.59-1.43-.59-.52 0-1.04.2-1.43.59L10.3 9.45l-7.72 7.72c-.78.78-.78 2.05 0 2.83L4 21.41c.39.39.9.59 1.41.59.51 0 1.02-.2 1.41-.59l7.78-7.78 2.81-2.81c.8-.78.8-2.07 0-2.86zM5.41 20L4 18.59l7.72-7.72 1.47 1.35L5.41 20z\"/>\n",
              "  </svg>\n",
              "      </button>\n",
              "      \n",
              "  <style>\n",
              "    .colab-df-container {\n",
              "      display:flex;\n",
              "      flex-wrap:wrap;\n",
              "      gap: 12px;\n",
              "    }\n",
              "\n",
              "    .colab-df-convert {\n",
              "      background-color: #E8F0FE;\n",
              "      border: none;\n",
              "      border-radius: 50%;\n",
              "      cursor: pointer;\n",
              "      display: none;\n",
              "      fill: #1967D2;\n",
              "      height: 32px;\n",
              "      padding: 0 0 0 0;\n",
              "      width: 32px;\n",
              "    }\n",
              "\n",
              "    .colab-df-convert:hover {\n",
              "      background-color: #E2EBFA;\n",
              "      box-shadow: 0px 1px 2px rgba(60, 64, 67, 0.3), 0px 1px 3px 1px rgba(60, 64, 67, 0.15);\n",
              "      fill: #174EA6;\n",
              "    }\n",
              "\n",
              "    [theme=dark] .colab-df-convert {\n",
              "      background-color: #3B4455;\n",
              "      fill: #D2E3FC;\n",
              "    }\n",
              "\n",
              "    [theme=dark] .colab-df-convert:hover {\n",
              "      background-color: #434B5C;\n",
              "      box-shadow: 0px 1px 3px 1px rgba(0, 0, 0, 0.15);\n",
              "      filter: drop-shadow(0px 1px 2px rgba(0, 0, 0, 0.3));\n",
              "      fill: #FFFFFF;\n",
              "    }\n",
              "  </style>\n",
              "\n",
              "      <script>\n",
              "        const buttonEl =\n",
              "          document.querySelector('#df-138d294d-ae60-4112-b06f-bb5c2013eac9 button.colab-df-convert');\n",
              "        buttonEl.style.display =\n",
              "          google.colab.kernel.accessAllowed ? 'block' : 'none';\n",
              "\n",
              "        async function convertToInteractive(key) {\n",
              "          const element = document.querySelector('#df-138d294d-ae60-4112-b06f-bb5c2013eac9');\n",
              "          const dataTable =\n",
              "            await google.colab.kernel.invokeFunction('convertToInteractive',\n",
              "                                                     [key], {});\n",
              "          if (!dataTable) return;\n",
              "\n",
              "          const docLinkHtml = 'Like what you see? Visit the ' +\n",
              "            '<a target=\"_blank\" href=https://colab.research.google.com/notebooks/data_table.ipynb>data table notebook</a>'\n",
              "            + ' to learn more about interactive tables.';\n",
              "          element.innerHTML = '';\n",
              "          dataTable['output_type'] = 'display_data';\n",
              "          await google.colab.output.renderOutput(dataTable, element);\n",
              "          const docLink = document.createElement('div');\n",
              "          docLink.innerHTML = docLinkHtml;\n",
              "          element.appendChild(docLink);\n",
              "        }\n",
              "      </script>\n",
              "    </div>\n",
              "  </div>\n",
              "  "
            ]
          },
          "metadata": {},
          "execution_count": 46
        }
      ]
    },
    {
      "cell_type": "code",
      "source": [
        "si.get_company_info('0856.HK')"
      ],
      "metadata": {
        "colab": {
          "base_uri": "https://localhost:8080/",
          "height": 677
        },
        "id": "pkqLPjD_o3iL",
        "outputId": "ac9277d0-a7a3-4671-811f-de75a9e3f07f"
      },
      "execution_count": null,
      "outputs": [
        {
          "output_type": "execute_result",
          "data": {
            "text/plain": [
              "                                                                       Value\n",
              "Breakdown                                                                   \n",
              "sector                                                            Technology\n",
              "fullTimeEmployees                                                       4368\n",
              "compensationRisk                                                           8\n",
              "auditRisk                                                                  4\n",
              "longBusinessSummary        VSTECS Holdings Limited, an investment holding...\n",
              "city                                                                 Central\n",
              "phone                                                          852 2786 1836\n",
              "shareHolderRightsRisk                                                      3\n",
              "compensationAsOfEpochDate                                         1640908800\n",
              "governanceEpochDate                                               1661990400\n",
              "boardRisk                                                                 10\n",
              "country                                                            Hong Kong\n",
              "website                                               https://www.vstecs.com\n",
              "maxAge                                                                 86400\n",
              "overallRisk                                                                9\n",
              "address1                                               China Merchants Tower\n",
              "fax                                                            852 2786 1746\n",
              "industry                                 Electronics & Computer Distribution\n",
              "address2                   Unit 3312, 33rd Floor Shun Tak Centre 200 Conn..."
            ],
            "text/html": [
              "\n",
              "  <div id=\"df-bb85e405-f021-46d2-8f98-0335ad011500\">\n",
              "    <div class=\"colab-df-container\">\n",
              "      <div>\n",
              "<style scoped>\n",
              "    .dataframe tbody tr th:only-of-type {\n",
              "        vertical-align: middle;\n",
              "    }\n",
              "\n",
              "    .dataframe tbody tr th {\n",
              "        vertical-align: top;\n",
              "    }\n",
              "\n",
              "    .dataframe thead th {\n",
              "        text-align: right;\n",
              "    }\n",
              "</style>\n",
              "<table border=\"1\" class=\"dataframe\">\n",
              "  <thead>\n",
              "    <tr style=\"text-align: right;\">\n",
              "      <th></th>\n",
              "      <th>Value</th>\n",
              "    </tr>\n",
              "    <tr>\n",
              "      <th>Breakdown</th>\n",
              "      <th></th>\n",
              "    </tr>\n",
              "  </thead>\n",
              "  <tbody>\n",
              "    <tr>\n",
              "      <th>sector</th>\n",
              "      <td>Technology</td>\n",
              "    </tr>\n",
              "    <tr>\n",
              "      <th>fullTimeEmployees</th>\n",
              "      <td>4368</td>\n",
              "    </tr>\n",
              "    <tr>\n",
              "      <th>compensationRisk</th>\n",
              "      <td>8</td>\n",
              "    </tr>\n",
              "    <tr>\n",
              "      <th>auditRisk</th>\n",
              "      <td>4</td>\n",
              "    </tr>\n",
              "    <tr>\n",
              "      <th>longBusinessSummary</th>\n",
              "      <td>VSTECS Holdings Limited, an investment holding...</td>\n",
              "    </tr>\n",
              "    <tr>\n",
              "      <th>city</th>\n",
              "      <td>Central</td>\n",
              "    </tr>\n",
              "    <tr>\n",
              "      <th>phone</th>\n",
              "      <td>852 2786 1836</td>\n",
              "    </tr>\n",
              "    <tr>\n",
              "      <th>shareHolderRightsRisk</th>\n",
              "      <td>3</td>\n",
              "    </tr>\n",
              "    <tr>\n",
              "      <th>compensationAsOfEpochDate</th>\n",
              "      <td>1640908800</td>\n",
              "    </tr>\n",
              "    <tr>\n",
              "      <th>governanceEpochDate</th>\n",
              "      <td>1661990400</td>\n",
              "    </tr>\n",
              "    <tr>\n",
              "      <th>boardRisk</th>\n",
              "      <td>10</td>\n",
              "    </tr>\n",
              "    <tr>\n",
              "      <th>country</th>\n",
              "      <td>Hong Kong</td>\n",
              "    </tr>\n",
              "    <tr>\n",
              "      <th>website</th>\n",
              "      <td>https://www.vstecs.com</td>\n",
              "    </tr>\n",
              "    <tr>\n",
              "      <th>maxAge</th>\n",
              "      <td>86400</td>\n",
              "    </tr>\n",
              "    <tr>\n",
              "      <th>overallRisk</th>\n",
              "      <td>9</td>\n",
              "    </tr>\n",
              "    <tr>\n",
              "      <th>address1</th>\n",
              "      <td>China Merchants Tower</td>\n",
              "    </tr>\n",
              "    <tr>\n",
              "      <th>fax</th>\n",
              "      <td>852 2786 1746</td>\n",
              "    </tr>\n",
              "    <tr>\n",
              "      <th>industry</th>\n",
              "      <td>Electronics &amp; Computer Distribution</td>\n",
              "    </tr>\n",
              "    <tr>\n",
              "      <th>address2</th>\n",
              "      <td>Unit 3312, 33rd Floor Shun Tak Centre 200 Conn...</td>\n",
              "    </tr>\n",
              "  </tbody>\n",
              "</table>\n",
              "</div>\n",
              "      <button class=\"colab-df-convert\" onclick=\"convertToInteractive('df-bb85e405-f021-46d2-8f98-0335ad011500')\"\n",
              "              title=\"Convert this dataframe to an interactive table.\"\n",
              "              style=\"display:none;\">\n",
              "        \n",
              "  <svg xmlns=\"http://www.w3.org/2000/svg\" height=\"24px\"viewBox=\"0 0 24 24\"\n",
              "       width=\"24px\">\n",
              "    <path d=\"M0 0h24v24H0V0z\" fill=\"none\"/>\n",
              "    <path d=\"M18.56 5.44l.94 2.06.94-2.06 2.06-.94-2.06-.94-.94-2.06-.94 2.06-2.06.94zm-11 1L8.5 8.5l.94-2.06 2.06-.94-2.06-.94L8.5 2.5l-.94 2.06-2.06.94zm10 10l.94 2.06.94-2.06 2.06-.94-2.06-.94-.94-2.06-.94 2.06-2.06.94z\"/><path d=\"M17.41 7.96l-1.37-1.37c-.4-.4-.92-.59-1.43-.59-.52 0-1.04.2-1.43.59L10.3 9.45l-7.72 7.72c-.78.78-.78 2.05 0 2.83L4 21.41c.39.39.9.59 1.41.59.51 0 1.02-.2 1.41-.59l7.78-7.78 2.81-2.81c.8-.78.8-2.07 0-2.86zM5.41 20L4 18.59l7.72-7.72 1.47 1.35L5.41 20z\"/>\n",
              "  </svg>\n",
              "      </button>\n",
              "      \n",
              "  <style>\n",
              "    .colab-df-container {\n",
              "      display:flex;\n",
              "      flex-wrap:wrap;\n",
              "      gap: 12px;\n",
              "    }\n",
              "\n",
              "    .colab-df-convert {\n",
              "      background-color: #E8F0FE;\n",
              "      border: none;\n",
              "      border-radius: 50%;\n",
              "      cursor: pointer;\n",
              "      display: none;\n",
              "      fill: #1967D2;\n",
              "      height: 32px;\n",
              "      padding: 0 0 0 0;\n",
              "      width: 32px;\n",
              "    }\n",
              "\n",
              "    .colab-df-convert:hover {\n",
              "      background-color: #E2EBFA;\n",
              "      box-shadow: 0px 1px 2px rgba(60, 64, 67, 0.3), 0px 1px 3px 1px rgba(60, 64, 67, 0.15);\n",
              "      fill: #174EA6;\n",
              "    }\n",
              "\n",
              "    [theme=dark] .colab-df-convert {\n",
              "      background-color: #3B4455;\n",
              "      fill: #D2E3FC;\n",
              "    }\n",
              "\n",
              "    [theme=dark] .colab-df-convert:hover {\n",
              "      background-color: #434B5C;\n",
              "      box-shadow: 0px 1px 3px 1px rgba(0, 0, 0, 0.15);\n",
              "      filter: drop-shadow(0px 1px 2px rgba(0, 0, 0, 0.3));\n",
              "      fill: #FFFFFF;\n",
              "    }\n",
              "  </style>\n",
              "\n",
              "      <script>\n",
              "        const buttonEl =\n",
              "          document.querySelector('#df-bb85e405-f021-46d2-8f98-0335ad011500 button.colab-df-convert');\n",
              "        buttonEl.style.display =\n",
              "          google.colab.kernel.accessAllowed ? 'block' : 'none';\n",
              "\n",
              "        async function convertToInteractive(key) {\n",
              "          const element = document.querySelector('#df-bb85e405-f021-46d2-8f98-0335ad011500');\n",
              "          const dataTable =\n",
              "            await google.colab.kernel.invokeFunction('convertToInteractive',\n",
              "                                                     [key], {});\n",
              "          if (!dataTable) return;\n",
              "\n",
              "          const docLinkHtml = 'Like what you see? Visit the ' +\n",
              "            '<a target=\"_blank\" href=https://colab.research.google.com/notebooks/data_table.ipynb>data table notebook</a>'\n",
              "            + ' to learn more about interactive tables.';\n",
              "          element.innerHTML = '';\n",
              "          dataTable['output_type'] = 'display_data';\n",
              "          await google.colab.output.renderOutput(dataTable, element);\n",
              "          const docLink = document.createElement('div');\n",
              "          docLink.innerHTML = docLinkHtml;\n",
              "          element.appendChild(docLink);\n",
              "        }\n",
              "      </script>\n",
              "    </div>\n",
              "  </div>\n",
              "  "
            ]
          },
          "metadata": {},
          "execution_count": 85
        }
      ]
    },
    {
      "cell_type": "code",
      "source": [
        "def plot_for_cf(ticker):\n",
        "  listt = ['totalCashflowsFromInvestingActivities','totalCashFromFinancingActivities','totalCashFromOperatingActivities']\n",
        "  df_quarter = si.get_cash_flow(ticker, yearly = False)\n",
        "  df_yearly = si.get_cash_flow(ticker, yearly = True)  \n",
        "  df_quarter = df_quarter.transpose()\n",
        "  df_yearly = df_yearly.transpose()\n",
        "  df_qready = df_quarter[listt]\n",
        "  df_yready = df_yearly[listt]\n",
        "  fig1 = px.line(df_qready, color = 'Breakdown', symbol = 'Breakdown')\n",
        "  fig1.update_layout(title = f'Cash Flows for {ticker.upper()} for the past four quarters',)\n",
        "  fig1.show()\n",
        "\n",
        "  fig2 = px.line(df_yready, color = 'Breakdown', symbol = 'Breakdown')\n",
        "  fig2.update_layout(title = f'Cash Flows for {ticker.upper()} for the past four years',)\n",
        "  fig2.show()\n",
        "  return fig1,fig2 #qplot, yplot"
      ],
      "metadata": {
        "id": "-0r5sw7Kgi9Y"
      },
      "execution_count": null,
      "outputs": []
    },
    {
      "cell_type": "code",
      "source": [
        "plot_for_cf('3333.HK')"
      ],
      "metadata": {
        "colab": {
          "base_uri": "https://localhost:8080/",
          "height": 1000
        },
        "id": "a8osTyV8jBw1",
        "outputId": "78c6d7bb-1d66-4ff9-a4f1-bd62d70f4ee6"
      },
      "execution_count": null,
      "outputs": [
        {
          "output_type": "display_data",
          "data": {
            "text/html": [
              "<html>\n",
              "<head><meta charset=\"utf-8\" /></head>\n",
              "<body>\n",
              "    <div>            <script src=\"https://cdnjs.cloudflare.com/ajax/libs/mathjax/2.7.5/MathJax.js?config=TeX-AMS-MML_SVG\"></script><script type=\"text/javascript\">if (window.MathJax) {MathJax.Hub.Config({SVG: {font: \"STIX-Web\"}});}</script>                <script type=\"text/javascript\">window.PlotlyConfig = {MathJaxConfig: 'local'};</script>\n",
              "        <script src=\"https://cdn.plot.ly/plotly-2.8.3.min.js\"></script>                <div id=\"886178e8-1dfa-4278-a114-2a0f1d64dda7\" class=\"plotly-graph-div\" style=\"height:525px; width:100%;\"></div>            <script type=\"text/javascript\">                                    window.PLOTLYENV=window.PLOTLYENV || {};                                    if (document.getElementById(\"886178e8-1dfa-4278-a114-2a0f1d64dda7\")) {                    Plotly.newPlot(                        \"886178e8-1dfa-4278-a114-2a0f1d64dda7\",                        [{\"hovertemplate\":\"Breakdown=totalCashflowsFromInvestingActivities<br>endDate=%{x}<br>value=%{y}<extra></extra>\",\"legendgroup\":\"totalCashflowsFromInvestingActivities\",\"line\":{\"color\":\"#636efa\",\"dash\":\"solid\"},\"marker\":{\"symbol\":\"circle\"},\"mode\":\"lines+markers\",\"name\":\"totalCashflowsFromInvestingActivities\",\"orientation\":\"v\",\"showlegend\":true,\"x\":[\"2021-06-30T00:00:00\",\"2021-03-31T00:00:00\",\"2020-12-31T00:00:00\",\"2020-09-30T00:00:00\"],\"xaxis\":\"x\",\"y\":[-9809000000.0,-9809000000.0,-5725000000.0,-5725000000.0],\"yaxis\":\"y\",\"type\":\"scatter\"},{\"hovertemplate\":\"Breakdown=totalCashFromFinancingActivities<br>endDate=%{x}<br>value=%{y}<extra></extra>\",\"legendgroup\":\"totalCashFromFinancingActivities\",\"line\":{\"color\":\"#EF553B\",\"dash\":\"solid\"},\"marker\":{\"symbol\":\"diamond\"},\"mode\":\"lines+markers\",\"name\":\"totalCashFromFinancingActivities\",\"orientation\":\"v\",\"showlegend\":true,\"x\":[\"2021-06-30T00:00:00\",\"2021-03-31T00:00:00\",\"2020-12-31T00:00:00\",\"2020-09-30T00:00:00\"],\"xaxis\":\"x\",\"y\":[-18723000000.0,-18723000000.0,-38126000000.0,-38126000000.0],\"yaxis\":\"y\",\"type\":\"scatter\"},{\"hovertemplate\":\"Breakdown=totalCashFromOperatingActivities<br>endDate=%{x}<br>value=%{y}<extra></extra>\",\"legendgroup\":\"totalCashFromOperatingActivities\",\"line\":{\"color\":\"#00cc96\",\"dash\":\"solid\"},\"marker\":{\"symbol\":\"square\"},\"mode\":\"lines+markers\",\"name\":\"totalCashFromOperatingActivities\",\"orientation\":\"v\",\"showlegend\":true,\"x\":[\"2021-06-30T00:00:00\",\"2021-03-31T00:00:00\",\"2020-12-31T00:00:00\",\"2020-09-30T00:00:00\"],\"xaxis\":\"x\",\"y\":[-7415500000.0,-7415500000.0,53225000000.0,53225000000.0],\"yaxis\":\"y\",\"type\":\"scatter\"}],                        {\"template\":{\"data\":{\"bar\":[{\"error_x\":{\"color\":\"#2a3f5f\"},\"error_y\":{\"color\":\"#2a3f5f\"},\"marker\":{\"line\":{\"color\":\"#E5ECF6\",\"width\":0.5},\"pattern\":{\"fillmode\":\"overlay\",\"size\":10,\"solidity\":0.2}},\"type\":\"bar\"}],\"barpolar\":[{\"marker\":{\"line\":{\"color\":\"#E5ECF6\",\"width\":0.5},\"pattern\":{\"fillmode\":\"overlay\",\"size\":10,\"solidity\":0.2}},\"type\":\"barpolar\"}],\"carpet\":[{\"aaxis\":{\"endlinecolor\":\"#2a3f5f\",\"gridcolor\":\"white\",\"linecolor\":\"white\",\"minorgridcolor\":\"white\",\"startlinecolor\":\"#2a3f5f\"},\"baxis\":{\"endlinecolor\":\"#2a3f5f\",\"gridcolor\":\"white\",\"linecolor\":\"white\",\"minorgridcolor\":\"white\",\"startlinecolor\":\"#2a3f5f\"},\"type\":\"carpet\"}],\"choropleth\":[{\"colorbar\":{\"outlinewidth\":0,\"ticks\":\"\"},\"type\":\"choropleth\"}],\"contour\":[{\"colorbar\":{\"outlinewidth\":0,\"ticks\":\"\"},\"colorscale\":[[0.0,\"#0d0887\"],[0.1111111111111111,\"#46039f\"],[0.2222222222222222,\"#7201a8\"],[0.3333333333333333,\"#9c179e\"],[0.4444444444444444,\"#bd3786\"],[0.5555555555555556,\"#d8576b\"],[0.6666666666666666,\"#ed7953\"],[0.7777777777777778,\"#fb9f3a\"],[0.8888888888888888,\"#fdca26\"],[1.0,\"#f0f921\"]],\"type\":\"contour\"}],\"contourcarpet\":[{\"colorbar\":{\"outlinewidth\":0,\"ticks\":\"\"},\"type\":\"contourcarpet\"}],\"heatmap\":[{\"colorbar\":{\"outlinewidth\":0,\"ticks\":\"\"},\"colorscale\":[[0.0,\"#0d0887\"],[0.1111111111111111,\"#46039f\"],[0.2222222222222222,\"#7201a8\"],[0.3333333333333333,\"#9c179e\"],[0.4444444444444444,\"#bd3786\"],[0.5555555555555556,\"#d8576b\"],[0.6666666666666666,\"#ed7953\"],[0.7777777777777778,\"#fb9f3a\"],[0.8888888888888888,\"#fdca26\"],[1.0,\"#f0f921\"]],\"type\":\"heatmap\"}],\"heatmapgl\":[{\"colorbar\":{\"outlinewidth\":0,\"ticks\":\"\"},\"colorscale\":[[0.0,\"#0d0887\"],[0.1111111111111111,\"#46039f\"],[0.2222222222222222,\"#7201a8\"],[0.3333333333333333,\"#9c179e\"],[0.4444444444444444,\"#bd3786\"],[0.5555555555555556,\"#d8576b\"],[0.6666666666666666,\"#ed7953\"],[0.7777777777777778,\"#fb9f3a\"],[0.8888888888888888,\"#fdca26\"],[1.0,\"#f0f921\"]],\"type\":\"heatmapgl\"}],\"histogram\":[{\"marker\":{\"pattern\":{\"fillmode\":\"overlay\",\"size\":10,\"solidity\":0.2}},\"type\":\"histogram\"}],\"histogram2d\":[{\"colorbar\":{\"outlinewidth\":0,\"ticks\":\"\"},\"colorscale\":[[0.0,\"#0d0887\"],[0.1111111111111111,\"#46039f\"],[0.2222222222222222,\"#7201a8\"],[0.3333333333333333,\"#9c179e\"],[0.4444444444444444,\"#bd3786\"],[0.5555555555555556,\"#d8576b\"],[0.6666666666666666,\"#ed7953\"],[0.7777777777777778,\"#fb9f3a\"],[0.8888888888888888,\"#fdca26\"],[1.0,\"#f0f921\"]],\"type\":\"histogram2d\"}],\"histogram2dcontour\":[{\"colorbar\":{\"outlinewidth\":0,\"ticks\":\"\"},\"colorscale\":[[0.0,\"#0d0887\"],[0.1111111111111111,\"#46039f\"],[0.2222222222222222,\"#7201a8\"],[0.3333333333333333,\"#9c179e\"],[0.4444444444444444,\"#bd3786\"],[0.5555555555555556,\"#d8576b\"],[0.6666666666666666,\"#ed7953\"],[0.7777777777777778,\"#fb9f3a\"],[0.8888888888888888,\"#fdca26\"],[1.0,\"#f0f921\"]],\"type\":\"histogram2dcontour\"}],\"mesh3d\":[{\"colorbar\":{\"outlinewidth\":0,\"ticks\":\"\"},\"type\":\"mesh3d\"}],\"parcoords\":[{\"line\":{\"colorbar\":{\"outlinewidth\":0,\"ticks\":\"\"}},\"type\":\"parcoords\"}],\"pie\":[{\"automargin\":true,\"type\":\"pie\"}],\"scatter\":[{\"marker\":{\"colorbar\":{\"outlinewidth\":0,\"ticks\":\"\"}},\"type\":\"scatter\"}],\"scatter3d\":[{\"line\":{\"colorbar\":{\"outlinewidth\":0,\"ticks\":\"\"}},\"marker\":{\"colorbar\":{\"outlinewidth\":0,\"ticks\":\"\"}},\"type\":\"scatter3d\"}],\"scattercarpet\":[{\"marker\":{\"colorbar\":{\"outlinewidth\":0,\"ticks\":\"\"}},\"type\":\"scattercarpet\"}],\"scattergeo\":[{\"marker\":{\"colorbar\":{\"outlinewidth\":0,\"ticks\":\"\"}},\"type\":\"scattergeo\"}],\"scattergl\":[{\"marker\":{\"colorbar\":{\"outlinewidth\":0,\"ticks\":\"\"}},\"type\":\"scattergl\"}],\"scattermapbox\":[{\"marker\":{\"colorbar\":{\"outlinewidth\":0,\"ticks\":\"\"}},\"type\":\"scattermapbox\"}],\"scatterpolar\":[{\"marker\":{\"colorbar\":{\"outlinewidth\":0,\"ticks\":\"\"}},\"type\":\"scatterpolar\"}],\"scatterpolargl\":[{\"marker\":{\"colorbar\":{\"outlinewidth\":0,\"ticks\":\"\"}},\"type\":\"scatterpolargl\"}],\"scatterternary\":[{\"marker\":{\"colorbar\":{\"outlinewidth\":0,\"ticks\":\"\"}},\"type\":\"scatterternary\"}],\"surface\":[{\"colorbar\":{\"outlinewidth\":0,\"ticks\":\"\"},\"colorscale\":[[0.0,\"#0d0887\"],[0.1111111111111111,\"#46039f\"],[0.2222222222222222,\"#7201a8\"],[0.3333333333333333,\"#9c179e\"],[0.4444444444444444,\"#bd3786\"],[0.5555555555555556,\"#d8576b\"],[0.6666666666666666,\"#ed7953\"],[0.7777777777777778,\"#fb9f3a\"],[0.8888888888888888,\"#fdca26\"],[1.0,\"#f0f921\"]],\"type\":\"surface\"}],\"table\":[{\"cells\":{\"fill\":{\"color\":\"#EBF0F8\"},\"line\":{\"color\":\"white\"}},\"header\":{\"fill\":{\"color\":\"#C8D4E3\"},\"line\":{\"color\":\"white\"}},\"type\":\"table\"}]},\"layout\":{\"annotationdefaults\":{\"arrowcolor\":\"#2a3f5f\",\"arrowhead\":0,\"arrowwidth\":1},\"autotypenumbers\":\"strict\",\"coloraxis\":{\"colorbar\":{\"outlinewidth\":0,\"ticks\":\"\"}},\"colorscale\":{\"diverging\":[[0,\"#8e0152\"],[0.1,\"#c51b7d\"],[0.2,\"#de77ae\"],[0.3,\"#f1b6da\"],[0.4,\"#fde0ef\"],[0.5,\"#f7f7f7\"],[0.6,\"#e6f5d0\"],[0.7,\"#b8e186\"],[0.8,\"#7fbc41\"],[0.9,\"#4d9221\"],[1,\"#276419\"]],\"sequential\":[[0.0,\"#0d0887\"],[0.1111111111111111,\"#46039f\"],[0.2222222222222222,\"#7201a8\"],[0.3333333333333333,\"#9c179e\"],[0.4444444444444444,\"#bd3786\"],[0.5555555555555556,\"#d8576b\"],[0.6666666666666666,\"#ed7953\"],[0.7777777777777778,\"#fb9f3a\"],[0.8888888888888888,\"#fdca26\"],[1.0,\"#f0f921\"]],\"sequentialminus\":[[0.0,\"#0d0887\"],[0.1111111111111111,\"#46039f\"],[0.2222222222222222,\"#7201a8\"],[0.3333333333333333,\"#9c179e\"],[0.4444444444444444,\"#bd3786\"],[0.5555555555555556,\"#d8576b\"],[0.6666666666666666,\"#ed7953\"],[0.7777777777777778,\"#fb9f3a\"],[0.8888888888888888,\"#fdca26\"],[1.0,\"#f0f921\"]]},\"colorway\":[\"#636efa\",\"#EF553B\",\"#00cc96\",\"#ab63fa\",\"#FFA15A\",\"#19d3f3\",\"#FF6692\",\"#B6E880\",\"#FF97FF\",\"#FECB52\"],\"font\":{\"color\":\"#2a3f5f\"},\"geo\":{\"bgcolor\":\"white\",\"lakecolor\":\"white\",\"landcolor\":\"#E5ECF6\",\"showlakes\":true,\"showland\":true,\"subunitcolor\":\"white\"},\"hoverlabel\":{\"align\":\"left\"},\"hovermode\":\"closest\",\"mapbox\":{\"style\":\"light\"},\"paper_bgcolor\":\"white\",\"plot_bgcolor\":\"#E5ECF6\",\"polar\":{\"angularaxis\":{\"gridcolor\":\"white\",\"linecolor\":\"white\",\"ticks\":\"\"},\"bgcolor\":\"#E5ECF6\",\"radialaxis\":{\"gridcolor\":\"white\",\"linecolor\":\"white\",\"ticks\":\"\"}},\"scene\":{\"xaxis\":{\"backgroundcolor\":\"#E5ECF6\",\"gridcolor\":\"white\",\"gridwidth\":2,\"linecolor\":\"white\",\"showbackground\":true,\"ticks\":\"\",\"zerolinecolor\":\"white\"},\"yaxis\":{\"backgroundcolor\":\"#E5ECF6\",\"gridcolor\":\"white\",\"gridwidth\":2,\"linecolor\":\"white\",\"showbackground\":true,\"ticks\":\"\",\"zerolinecolor\":\"white\"},\"zaxis\":{\"backgroundcolor\":\"#E5ECF6\",\"gridcolor\":\"white\",\"gridwidth\":2,\"linecolor\":\"white\",\"showbackground\":true,\"ticks\":\"\",\"zerolinecolor\":\"white\"}},\"shapedefaults\":{\"line\":{\"color\":\"#2a3f5f\"}},\"ternary\":{\"aaxis\":{\"gridcolor\":\"white\",\"linecolor\":\"white\",\"ticks\":\"\"},\"baxis\":{\"gridcolor\":\"white\",\"linecolor\":\"white\",\"ticks\":\"\"},\"bgcolor\":\"#E5ECF6\",\"caxis\":{\"gridcolor\":\"white\",\"linecolor\":\"white\",\"ticks\":\"\"}},\"title\":{\"x\":0.05},\"xaxis\":{\"automargin\":true,\"gridcolor\":\"white\",\"linecolor\":\"white\",\"ticks\":\"\",\"title\":{\"standoff\":15},\"zerolinecolor\":\"white\",\"zerolinewidth\":2},\"yaxis\":{\"automargin\":true,\"gridcolor\":\"white\",\"linecolor\":\"white\",\"ticks\":\"\",\"title\":{\"standoff\":15},\"zerolinecolor\":\"white\",\"zerolinewidth\":2}}},\"xaxis\":{\"anchor\":\"y\",\"domain\":[0.0,1.0],\"title\":{\"text\":\"endDate\"}},\"yaxis\":{\"anchor\":\"x\",\"domain\":[0.0,1.0],\"title\":{\"text\":\"value\"}},\"legend\":{\"title\":{\"text\":\"Breakdown\"},\"tracegroupgap\":0},\"margin\":{\"t\":60},\"title\":{\"text\":\"Cash Flows for 3333.HK for the past four quarters\"}},                        {\"responsive\": true}                    ).then(function(){\n",
              "                            \n",
              "var gd = document.getElementById('886178e8-1dfa-4278-a114-2a0f1d64dda7');\n",
              "var x = new MutationObserver(function (mutations, observer) {{\n",
              "        var display = window.getComputedStyle(gd).display;\n",
              "        if (!display || display === 'none') {{\n",
              "            console.log([gd, 'removed!']);\n",
              "            Plotly.purge(gd);\n",
              "            observer.disconnect();\n",
              "        }}\n",
              "}});\n",
              "\n",
              "// Listen for the removal of the full notebook cells\n",
              "var notebookContainer = gd.closest('#notebook-container');\n",
              "if (notebookContainer) {{\n",
              "    x.observe(notebookContainer, {childList: true});\n",
              "}}\n",
              "\n",
              "// Listen for the clearing of the current output cell\n",
              "var outputEl = gd.closest('.output');\n",
              "if (outputEl) {{\n",
              "    x.observe(outputEl, {childList: true});\n",
              "}}\n",
              "\n",
              "                        })                };                            </script>        </div>\n",
              "</body>\n",
              "</html>"
            ]
          },
          "metadata": {}
        },
        {
          "output_type": "display_data",
          "data": {
            "text/html": [
              "<html>\n",
              "<head><meta charset=\"utf-8\" /></head>\n",
              "<body>\n",
              "    <div>            <script src=\"https://cdnjs.cloudflare.com/ajax/libs/mathjax/2.7.5/MathJax.js?config=TeX-AMS-MML_SVG\"></script><script type=\"text/javascript\">if (window.MathJax) {MathJax.Hub.Config({SVG: {font: \"STIX-Web\"}});}</script>                <script type=\"text/javascript\">window.PlotlyConfig = {MathJaxConfig: 'local'};</script>\n",
              "        <script src=\"https://cdn.plot.ly/plotly-2.8.3.min.js\"></script>                <div id=\"d00e9d53-0202-44e3-bf08-fada51205478\" class=\"plotly-graph-div\" style=\"height:525px; width:100%;\"></div>            <script type=\"text/javascript\">                                    window.PLOTLYENV=window.PLOTLYENV || {};                                    if (document.getElementById(\"d00e9d53-0202-44e3-bf08-fada51205478\")) {                    Plotly.newPlot(                        \"d00e9d53-0202-44e3-bf08-fada51205478\",                        [{\"hovertemplate\":\"Breakdown=totalCashflowsFromInvestingActivities<br>endDate=%{x}<br>value=%{y}<extra></extra>\",\"legendgroup\":\"totalCashflowsFromInvestingActivities\",\"line\":{\"color\":\"#636efa\",\"dash\":\"solid\"},\"marker\":{\"symbol\":\"circle\"},\"mode\":\"lines+markers\",\"name\":\"totalCashflowsFromInvestingActivities\",\"orientation\":\"v\",\"showlegend\":true,\"x\":[\"2020-12-31T00:00:00\",\"2019-12-31T00:00:00\",\"2018-12-31T00:00:00\",\"2017-12-31T00:00:00\"],\"xaxis\":\"x\",\"y\":[-24128000000,-55308000000,-60363000000,-47482000000],\"yaxis\":\"y\",\"type\":\"scatter\"},{\"hovertemplate\":\"Breakdown=totalCashFromFinancingActivities<br>endDate=%{x}<br>value=%{y}<extra></extra>\",\"legendgroup\":\"totalCashFromFinancingActivities\",\"line\":{\"color\":\"#EF553B\",\"dash\":\"solid\"},\"marker\":{\"symbol\":\"diamond\"},\"mode\":\"lines+markers\",\"name\":\"totalCashFromFinancingActivities\",\"orientation\":\"v\",\"showlegend\":true,\"x\":[\"2020-12-31T00:00:00\",\"2019-12-31T00:00:00\",\"2018-12-31T00:00:00\",\"2017-12-31T00:00:00\"],\"xaxis\":\"x\",\"y\":[-76885000000,143163000000,-17651000000,152913000000],\"yaxis\":\"y\",\"type\":\"scatter\"},{\"hovertemplate\":\"Breakdown=totalCashFromOperatingActivities<br>endDate=%{x}<br>value=%{y}<extra></extra>\",\"legendgroup\":\"totalCashFromOperatingActivities\",\"line\":{\"color\":\"#00cc96\",\"dash\":\"solid\"},\"marker\":{\"symbol\":\"square\"},\"mode\":\"lines+markers\",\"name\":\"totalCashFromOperatingActivities\",\"orientation\":\"v\",\"showlegend\":true,\"x\":[\"2020-12-31T00:00:00\",\"2019-12-31T00:00:00\",\"2018-12-31T00:00:00\",\"2017-12-31T00:00:00\"],\"xaxis\":\"x\",\"y\":[110063000000,-67357000000,54749000000,-150973000000],\"yaxis\":\"y\",\"type\":\"scatter\"}],                        {\"template\":{\"data\":{\"bar\":[{\"error_x\":{\"color\":\"#2a3f5f\"},\"error_y\":{\"color\":\"#2a3f5f\"},\"marker\":{\"line\":{\"color\":\"#E5ECF6\",\"width\":0.5},\"pattern\":{\"fillmode\":\"overlay\",\"size\":10,\"solidity\":0.2}},\"type\":\"bar\"}],\"barpolar\":[{\"marker\":{\"line\":{\"color\":\"#E5ECF6\",\"width\":0.5},\"pattern\":{\"fillmode\":\"overlay\",\"size\":10,\"solidity\":0.2}},\"type\":\"barpolar\"}],\"carpet\":[{\"aaxis\":{\"endlinecolor\":\"#2a3f5f\",\"gridcolor\":\"white\",\"linecolor\":\"white\",\"minorgridcolor\":\"white\",\"startlinecolor\":\"#2a3f5f\"},\"baxis\":{\"endlinecolor\":\"#2a3f5f\",\"gridcolor\":\"white\",\"linecolor\":\"white\",\"minorgridcolor\":\"white\",\"startlinecolor\":\"#2a3f5f\"},\"type\":\"carpet\"}],\"choropleth\":[{\"colorbar\":{\"outlinewidth\":0,\"ticks\":\"\"},\"type\":\"choropleth\"}],\"contour\":[{\"colorbar\":{\"outlinewidth\":0,\"ticks\":\"\"},\"colorscale\":[[0.0,\"#0d0887\"],[0.1111111111111111,\"#46039f\"],[0.2222222222222222,\"#7201a8\"],[0.3333333333333333,\"#9c179e\"],[0.4444444444444444,\"#bd3786\"],[0.5555555555555556,\"#d8576b\"],[0.6666666666666666,\"#ed7953\"],[0.7777777777777778,\"#fb9f3a\"],[0.8888888888888888,\"#fdca26\"],[1.0,\"#f0f921\"]],\"type\":\"contour\"}],\"contourcarpet\":[{\"colorbar\":{\"outlinewidth\":0,\"ticks\":\"\"},\"type\":\"contourcarpet\"}],\"heatmap\":[{\"colorbar\":{\"outlinewidth\":0,\"ticks\":\"\"},\"colorscale\":[[0.0,\"#0d0887\"],[0.1111111111111111,\"#46039f\"],[0.2222222222222222,\"#7201a8\"],[0.3333333333333333,\"#9c179e\"],[0.4444444444444444,\"#bd3786\"],[0.5555555555555556,\"#d8576b\"],[0.6666666666666666,\"#ed7953\"],[0.7777777777777778,\"#fb9f3a\"],[0.8888888888888888,\"#fdca26\"],[1.0,\"#f0f921\"]],\"type\":\"heatmap\"}],\"heatmapgl\":[{\"colorbar\":{\"outlinewidth\":0,\"ticks\":\"\"},\"colorscale\":[[0.0,\"#0d0887\"],[0.1111111111111111,\"#46039f\"],[0.2222222222222222,\"#7201a8\"],[0.3333333333333333,\"#9c179e\"],[0.4444444444444444,\"#bd3786\"],[0.5555555555555556,\"#d8576b\"],[0.6666666666666666,\"#ed7953\"],[0.7777777777777778,\"#fb9f3a\"],[0.8888888888888888,\"#fdca26\"],[1.0,\"#f0f921\"]],\"type\":\"heatmapgl\"}],\"histogram\":[{\"marker\":{\"pattern\":{\"fillmode\":\"overlay\",\"size\":10,\"solidity\":0.2}},\"type\":\"histogram\"}],\"histogram2d\":[{\"colorbar\":{\"outlinewidth\":0,\"ticks\":\"\"},\"colorscale\":[[0.0,\"#0d0887\"],[0.1111111111111111,\"#46039f\"],[0.2222222222222222,\"#7201a8\"],[0.3333333333333333,\"#9c179e\"],[0.4444444444444444,\"#bd3786\"],[0.5555555555555556,\"#d8576b\"],[0.6666666666666666,\"#ed7953\"],[0.7777777777777778,\"#fb9f3a\"],[0.8888888888888888,\"#fdca26\"],[1.0,\"#f0f921\"]],\"type\":\"histogram2d\"}],\"histogram2dcontour\":[{\"colorbar\":{\"outlinewidth\":0,\"ticks\":\"\"},\"colorscale\":[[0.0,\"#0d0887\"],[0.1111111111111111,\"#46039f\"],[0.2222222222222222,\"#7201a8\"],[0.3333333333333333,\"#9c179e\"],[0.4444444444444444,\"#bd3786\"],[0.5555555555555556,\"#d8576b\"],[0.6666666666666666,\"#ed7953\"],[0.7777777777777778,\"#fb9f3a\"],[0.8888888888888888,\"#fdca26\"],[1.0,\"#f0f921\"]],\"type\":\"histogram2dcontour\"}],\"mesh3d\":[{\"colorbar\":{\"outlinewidth\":0,\"ticks\":\"\"},\"type\":\"mesh3d\"}],\"parcoords\":[{\"line\":{\"colorbar\":{\"outlinewidth\":0,\"ticks\":\"\"}},\"type\":\"parcoords\"}],\"pie\":[{\"automargin\":true,\"type\":\"pie\"}],\"scatter\":[{\"marker\":{\"colorbar\":{\"outlinewidth\":0,\"ticks\":\"\"}},\"type\":\"scatter\"}],\"scatter3d\":[{\"line\":{\"colorbar\":{\"outlinewidth\":0,\"ticks\":\"\"}},\"marker\":{\"colorbar\":{\"outlinewidth\":0,\"ticks\":\"\"}},\"type\":\"scatter3d\"}],\"scattercarpet\":[{\"marker\":{\"colorbar\":{\"outlinewidth\":0,\"ticks\":\"\"}},\"type\":\"scattercarpet\"}],\"scattergeo\":[{\"marker\":{\"colorbar\":{\"outlinewidth\":0,\"ticks\":\"\"}},\"type\":\"scattergeo\"}],\"scattergl\":[{\"marker\":{\"colorbar\":{\"outlinewidth\":0,\"ticks\":\"\"}},\"type\":\"scattergl\"}],\"scattermapbox\":[{\"marker\":{\"colorbar\":{\"outlinewidth\":0,\"ticks\":\"\"}},\"type\":\"scattermapbox\"}],\"scatterpolar\":[{\"marker\":{\"colorbar\":{\"outlinewidth\":0,\"ticks\":\"\"}},\"type\":\"scatterpolar\"}],\"scatterpolargl\":[{\"marker\":{\"colorbar\":{\"outlinewidth\":0,\"ticks\":\"\"}},\"type\":\"scatterpolargl\"}],\"scatterternary\":[{\"marker\":{\"colorbar\":{\"outlinewidth\":0,\"ticks\":\"\"}},\"type\":\"scatterternary\"}],\"surface\":[{\"colorbar\":{\"outlinewidth\":0,\"ticks\":\"\"},\"colorscale\":[[0.0,\"#0d0887\"],[0.1111111111111111,\"#46039f\"],[0.2222222222222222,\"#7201a8\"],[0.3333333333333333,\"#9c179e\"],[0.4444444444444444,\"#bd3786\"],[0.5555555555555556,\"#d8576b\"],[0.6666666666666666,\"#ed7953\"],[0.7777777777777778,\"#fb9f3a\"],[0.8888888888888888,\"#fdca26\"],[1.0,\"#f0f921\"]],\"type\":\"surface\"}],\"table\":[{\"cells\":{\"fill\":{\"color\":\"#EBF0F8\"},\"line\":{\"color\":\"white\"}},\"header\":{\"fill\":{\"color\":\"#C8D4E3\"},\"line\":{\"color\":\"white\"}},\"type\":\"table\"}]},\"layout\":{\"annotationdefaults\":{\"arrowcolor\":\"#2a3f5f\",\"arrowhead\":0,\"arrowwidth\":1},\"autotypenumbers\":\"strict\",\"coloraxis\":{\"colorbar\":{\"outlinewidth\":0,\"ticks\":\"\"}},\"colorscale\":{\"diverging\":[[0,\"#8e0152\"],[0.1,\"#c51b7d\"],[0.2,\"#de77ae\"],[0.3,\"#f1b6da\"],[0.4,\"#fde0ef\"],[0.5,\"#f7f7f7\"],[0.6,\"#e6f5d0\"],[0.7,\"#b8e186\"],[0.8,\"#7fbc41\"],[0.9,\"#4d9221\"],[1,\"#276419\"]],\"sequential\":[[0.0,\"#0d0887\"],[0.1111111111111111,\"#46039f\"],[0.2222222222222222,\"#7201a8\"],[0.3333333333333333,\"#9c179e\"],[0.4444444444444444,\"#bd3786\"],[0.5555555555555556,\"#d8576b\"],[0.6666666666666666,\"#ed7953\"],[0.7777777777777778,\"#fb9f3a\"],[0.8888888888888888,\"#fdca26\"],[1.0,\"#f0f921\"]],\"sequentialminus\":[[0.0,\"#0d0887\"],[0.1111111111111111,\"#46039f\"],[0.2222222222222222,\"#7201a8\"],[0.3333333333333333,\"#9c179e\"],[0.4444444444444444,\"#bd3786\"],[0.5555555555555556,\"#d8576b\"],[0.6666666666666666,\"#ed7953\"],[0.7777777777777778,\"#fb9f3a\"],[0.8888888888888888,\"#fdca26\"],[1.0,\"#f0f921\"]]},\"colorway\":[\"#636efa\",\"#EF553B\",\"#00cc96\",\"#ab63fa\",\"#FFA15A\",\"#19d3f3\",\"#FF6692\",\"#B6E880\",\"#FF97FF\",\"#FECB52\"],\"font\":{\"color\":\"#2a3f5f\"},\"geo\":{\"bgcolor\":\"white\",\"lakecolor\":\"white\",\"landcolor\":\"#E5ECF6\",\"showlakes\":true,\"showland\":true,\"subunitcolor\":\"white\"},\"hoverlabel\":{\"align\":\"left\"},\"hovermode\":\"closest\",\"mapbox\":{\"style\":\"light\"},\"paper_bgcolor\":\"white\",\"plot_bgcolor\":\"#E5ECF6\",\"polar\":{\"angularaxis\":{\"gridcolor\":\"white\",\"linecolor\":\"white\",\"ticks\":\"\"},\"bgcolor\":\"#E5ECF6\",\"radialaxis\":{\"gridcolor\":\"white\",\"linecolor\":\"white\",\"ticks\":\"\"}},\"scene\":{\"xaxis\":{\"backgroundcolor\":\"#E5ECF6\",\"gridcolor\":\"white\",\"gridwidth\":2,\"linecolor\":\"white\",\"showbackground\":true,\"ticks\":\"\",\"zerolinecolor\":\"white\"},\"yaxis\":{\"backgroundcolor\":\"#E5ECF6\",\"gridcolor\":\"white\",\"gridwidth\":2,\"linecolor\":\"white\",\"showbackground\":true,\"ticks\":\"\",\"zerolinecolor\":\"white\"},\"zaxis\":{\"backgroundcolor\":\"#E5ECF6\",\"gridcolor\":\"white\",\"gridwidth\":2,\"linecolor\":\"white\",\"showbackground\":true,\"ticks\":\"\",\"zerolinecolor\":\"white\"}},\"shapedefaults\":{\"line\":{\"color\":\"#2a3f5f\"}},\"ternary\":{\"aaxis\":{\"gridcolor\":\"white\",\"linecolor\":\"white\",\"ticks\":\"\"},\"baxis\":{\"gridcolor\":\"white\",\"linecolor\":\"white\",\"ticks\":\"\"},\"bgcolor\":\"#E5ECF6\",\"caxis\":{\"gridcolor\":\"white\",\"linecolor\":\"white\",\"ticks\":\"\"}},\"title\":{\"x\":0.05},\"xaxis\":{\"automargin\":true,\"gridcolor\":\"white\",\"linecolor\":\"white\",\"ticks\":\"\",\"title\":{\"standoff\":15},\"zerolinecolor\":\"white\",\"zerolinewidth\":2},\"yaxis\":{\"automargin\":true,\"gridcolor\":\"white\",\"linecolor\":\"white\",\"ticks\":\"\",\"title\":{\"standoff\":15},\"zerolinecolor\":\"white\",\"zerolinewidth\":2}}},\"xaxis\":{\"anchor\":\"y\",\"domain\":[0.0,1.0],\"title\":{\"text\":\"endDate\"}},\"yaxis\":{\"anchor\":\"x\",\"domain\":[0.0,1.0],\"title\":{\"text\":\"value\"}},\"legend\":{\"title\":{\"text\":\"Breakdown\"},\"tracegroupgap\":0},\"margin\":{\"t\":60},\"title\":{\"text\":\"Cash Flows for 3333.HK for the past four years\"}},                        {\"responsive\": true}                    ).then(function(){\n",
              "                            \n",
              "var gd = document.getElementById('d00e9d53-0202-44e3-bf08-fada51205478');\n",
              "var x = new MutationObserver(function (mutations, observer) {{\n",
              "        var display = window.getComputedStyle(gd).display;\n",
              "        if (!display || display === 'none') {{\n",
              "            console.log([gd, 'removed!']);\n",
              "            Plotly.purge(gd);\n",
              "            observer.disconnect();\n",
              "        }}\n",
              "}});\n",
              "\n",
              "// Listen for the removal of the full notebook cells\n",
              "var notebookContainer = gd.closest('#notebook-container');\n",
              "if (notebookContainer) {{\n",
              "    x.observe(notebookContainer, {childList: true});\n",
              "}}\n",
              "\n",
              "// Listen for the clearing of the current output cell\n",
              "var outputEl = gd.closest('.output');\n",
              "if (outputEl) {{\n",
              "    x.observe(outputEl, {childList: true});\n",
              "}}\n",
              "\n",
              "                        })                };                            </script>        </div>\n",
              "</body>\n",
              "</html>"
            ]
          },
          "metadata": {}
        },
        {
          "output_type": "execute_result",
          "data": {
            "text/plain": [
              "(Figure({\n",
              "     'data': [{'hovertemplate': ('Breakdown=totalCashflowsFromIn' ... '}<br>value=%{y}<extra></extra>'),\n",
              "               'legendgroup': 'totalCashflowsFromInvestingActivities',\n",
              "               'line': {'color': '#636efa', 'dash': 'solid'},\n",
              "               'marker': {'symbol': 'circle'},\n",
              "               'mode': 'lines+markers',\n",
              "               'name': 'totalCashflowsFromInvestingActivities',\n",
              "               'orientation': 'v',\n",
              "               'showlegend': True,\n",
              "               'type': 'scatter',\n",
              "               'x': array([datetime.datetime(2021, 6, 30, 0, 0),\n",
              "                           datetime.datetime(2021, 3, 31, 0, 0),\n",
              "                           datetime.datetime(2020, 12, 31, 0, 0),\n",
              "                           datetime.datetime(2020, 9, 30, 0, 0)], dtype=object),\n",
              "               'xaxis': 'x',\n",
              "               'y': array([-9.809e+09, -9.809e+09, -5.725e+09, -5.725e+09]),\n",
              "               'yaxis': 'y'},\n",
              "              {'hovertemplate': ('Breakdown=totalCashFromFinanci' ... '}<br>value=%{y}<extra></extra>'),\n",
              "               'legendgroup': 'totalCashFromFinancingActivities',\n",
              "               'line': {'color': '#EF553B', 'dash': 'solid'},\n",
              "               'marker': {'symbol': 'diamond'},\n",
              "               'mode': 'lines+markers',\n",
              "               'name': 'totalCashFromFinancingActivities',\n",
              "               'orientation': 'v',\n",
              "               'showlegend': True,\n",
              "               'type': 'scatter',\n",
              "               'x': array([datetime.datetime(2021, 6, 30, 0, 0),\n",
              "                           datetime.datetime(2021, 3, 31, 0, 0),\n",
              "                           datetime.datetime(2020, 12, 31, 0, 0),\n",
              "                           datetime.datetime(2020, 9, 30, 0, 0)], dtype=object),\n",
              "               'xaxis': 'x',\n",
              "               'y': array([-1.8723e+10, -1.8723e+10, -3.8126e+10, -3.8126e+10]),\n",
              "               'yaxis': 'y'},\n",
              "              {'hovertemplate': ('Breakdown=totalCashFromOperati' ... '}<br>value=%{y}<extra></extra>'),\n",
              "               'legendgroup': 'totalCashFromOperatingActivities',\n",
              "               'line': {'color': '#00cc96', 'dash': 'solid'},\n",
              "               'marker': {'symbol': 'square'},\n",
              "               'mode': 'lines+markers',\n",
              "               'name': 'totalCashFromOperatingActivities',\n",
              "               'orientation': 'v',\n",
              "               'showlegend': True,\n",
              "               'type': 'scatter',\n",
              "               'x': array([datetime.datetime(2021, 6, 30, 0, 0),\n",
              "                           datetime.datetime(2021, 3, 31, 0, 0),\n",
              "                           datetime.datetime(2020, 12, 31, 0, 0),\n",
              "                           datetime.datetime(2020, 9, 30, 0, 0)], dtype=object),\n",
              "               'xaxis': 'x',\n",
              "               'y': array([-7.4155e+09, -7.4155e+09,  5.3225e+10,  5.3225e+10]),\n",
              "               'yaxis': 'y'}],\n",
              "     'layout': {'legend': {'title': {'text': 'Breakdown'}, 'tracegroupgap': 0},\n",
              "                'margin': {'t': 60},\n",
              "                'template': '...',\n",
              "                'title': {'text': 'Cash Flows for 3333.HK for the past four quarters'},\n",
              "                'xaxis': {'anchor': 'y', 'domain': [0.0, 1.0], 'title': {'text': 'endDate'}},\n",
              "                'yaxis': {'anchor': 'x', 'domain': [0.0, 1.0], 'title': {'text': 'value'}}}\n",
              " }), Figure({\n",
              "     'data': [{'hovertemplate': ('Breakdown=totalCashflowsFromIn' ... '}<br>value=%{y}<extra></extra>'),\n",
              "               'legendgroup': 'totalCashflowsFromInvestingActivities',\n",
              "               'line': {'color': '#636efa', 'dash': 'solid'},\n",
              "               'marker': {'symbol': 'circle'},\n",
              "               'mode': 'lines+markers',\n",
              "               'name': 'totalCashflowsFromInvestingActivities',\n",
              "               'orientation': 'v',\n",
              "               'showlegend': True,\n",
              "               'type': 'scatter',\n",
              "               'x': array([datetime.datetime(2020, 12, 31, 0, 0),\n",
              "                           datetime.datetime(2019, 12, 31, 0, 0),\n",
              "                           datetime.datetime(2018, 12, 31, 0, 0),\n",
              "                           datetime.datetime(2017, 12, 31, 0, 0)], dtype=object),\n",
              "               'xaxis': 'x',\n",
              "               'y': array([-24128000000, -55308000000, -60363000000, -47482000000]),\n",
              "               'yaxis': 'y'},\n",
              "              {'hovertemplate': ('Breakdown=totalCashFromFinanci' ... '}<br>value=%{y}<extra></extra>'),\n",
              "               'legendgroup': 'totalCashFromFinancingActivities',\n",
              "               'line': {'color': '#EF553B', 'dash': 'solid'},\n",
              "               'marker': {'symbol': 'diamond'},\n",
              "               'mode': 'lines+markers',\n",
              "               'name': 'totalCashFromFinancingActivities',\n",
              "               'orientation': 'v',\n",
              "               'showlegend': True,\n",
              "               'type': 'scatter',\n",
              "               'x': array([datetime.datetime(2020, 12, 31, 0, 0),\n",
              "                           datetime.datetime(2019, 12, 31, 0, 0),\n",
              "                           datetime.datetime(2018, 12, 31, 0, 0),\n",
              "                           datetime.datetime(2017, 12, 31, 0, 0)], dtype=object),\n",
              "               'xaxis': 'x',\n",
              "               'y': array([-76885000000, 143163000000, -17651000000, 152913000000]),\n",
              "               'yaxis': 'y'},\n",
              "              {'hovertemplate': ('Breakdown=totalCashFromOperati' ... '}<br>value=%{y}<extra></extra>'),\n",
              "               'legendgroup': 'totalCashFromOperatingActivities',\n",
              "               'line': {'color': '#00cc96', 'dash': 'solid'},\n",
              "               'marker': {'symbol': 'square'},\n",
              "               'mode': 'lines+markers',\n",
              "               'name': 'totalCashFromOperatingActivities',\n",
              "               'orientation': 'v',\n",
              "               'showlegend': True,\n",
              "               'type': 'scatter',\n",
              "               'x': array([datetime.datetime(2020, 12, 31, 0, 0),\n",
              "                           datetime.datetime(2019, 12, 31, 0, 0),\n",
              "                           datetime.datetime(2018, 12, 31, 0, 0),\n",
              "                           datetime.datetime(2017, 12, 31, 0, 0)], dtype=object),\n",
              "               'xaxis': 'x',\n",
              "               'y': array([ 110063000000,  -67357000000,   54749000000, -150973000000]),\n",
              "               'yaxis': 'y'}],\n",
              "     'layout': {'legend': {'title': {'text': 'Breakdown'}, 'tracegroupgap': 0},\n",
              "                'margin': {'t': 60},\n",
              "                'template': '...',\n",
              "                'title': {'text': 'Cash Flows for 3333.HK for the past four years'},\n",
              "                'xaxis': {'anchor': 'y', 'domain': [0.0, 1.0], 'title': {'text': 'endDate'}},\n",
              "                'yaxis': {'anchor': 'x', 'domain': [0.0, 1.0], 'title': {'text': 'value'}}}\n",
              " }))"
            ]
          },
          "metadata": {},
          "execution_count": 95
        }
      ]
    },
    {
      "cell_type": "markdown",
      "source": [
        "# PLOTTING CF FOR MANY STOCKS"
      ],
      "metadata": {
        "id": "5bgm3Rl7xZnx"
      }
    },
    {
      "cell_type": "code",
      "source": [
        "pd.options.display.float_format = '{:,.0f}'.format"
      ],
      "metadata": {
        "id": "SdzpThoz85IJ"
      },
      "execution_count": null,
      "outputs": []
    },
    {
      "cell_type": "code",
      "source": [
        "list_ndq100.sort()"
      ],
      "metadata": {
        "id": "v8ff_L0vxc8M"
      },
      "execution_count": null,
      "outputs": []
    },
    {
      "cell_type": "code",
      "source": [
        "data = []"
      ],
      "metadata": {
        "id": "DcI-wrqhFiNC"
      },
      "execution_count": null,
      "outputs": []
    },
    {
      "cell_type": "code",
      "source": [
        "for i in list_ndq100:\n",
        "  opcf = si.get_cash_flow(i, yearly = True).transpose()\n",
        "  value1 = opcf['totalCashFromOperatingActivities'].to_list()\n",
        "  data.append(value1)"
      ],
      "metadata": {
        "id": "X4revAsp9CBl"
      },
      "execution_count": null,
      "outputs": []
    },
    {
      "cell_type": "code",
      "source": [
        "df_ndq100 = pd.DataFrame(data, index = list_ndq100, columns = ['Latest', '2nd_latest', '3rd_latest', '4th_latest'])"
      ],
      "metadata": {
        "id": "nFtQBTjbIT7-"
      },
      "execution_count": null,
      "outputs": []
    },
    {
      "cell_type": "code",
      "source": [
        "df_ready = df_ndq100[['4th_latest','3rd_latest','2nd_latest','Latest']]"
      ],
      "metadata": {
        "id": "vH_E2HsC0n20"
      },
      "execution_count": null,
      "outputs": []
    },
    {
      "cell_type": "code",
      "source": [
        "dfla = df_ready.transpose()"
      ],
      "metadata": {
        "id": "AmPDwiF9IGOd"
      },
      "execution_count": null,
      "outputs": []
    },
    {
      "cell_type": "code",
      "source": [
        "fig = px.line(dfla)\n",
        "fig.show()"
      ],
      "metadata": {
        "colab": {
          "base_uri": "https://localhost:8080/",
          "height": 631
        },
        "id": "Mw-TAGVBM2-m",
        "outputId": "0702390f-0737-4537-b00b-71ca85c28b53"
      },
      "execution_count": null,
      "outputs": [
        {
          "output_type": "stream",
          "name": "stderr",
          "text": [
            "/usr/local/lib/python3.7/dist-packages/plotly/express/_core.py:1222: PerformanceWarning:\n",
            "\n",
            "DataFrame is highly fragmented.  This is usually the result of calling `frame.insert` many times, which has poor performance.  Consider joining all columns at once using pd.concat(axis=1) instead.  To get a de-fragmented frame, use `newframe = frame.copy()`\n",
            "\n"
          ]
        },
        {
          "output_type": "display_data",
          "data": {
            "text/html": [
              "<html>\n",
              "<head><meta charset=\"utf-8\" /></head>\n",
              "<body>\n",
              "    <div>            <script src=\"https://cdnjs.cloudflare.com/ajax/libs/mathjax/2.7.5/MathJax.js?config=TeX-AMS-MML_SVG\"></script><script type=\"text/javascript\">if (window.MathJax) {MathJax.Hub.Config({SVG: {font: \"STIX-Web\"}});}</script>                <script type=\"text/javascript\">window.PlotlyConfig = {MathJaxConfig: 'local'};</script>\n",
              "        <script src=\"https://cdn.plot.ly/plotly-2.8.3.min.js\"></script>                <div id=\"7f5e4b47-0ef6-4696-90ad-9400199c0307\" class=\"plotly-graph-div\" style=\"height:525px; width:100%;\"></div>            <script type=\"text/javascript\">                                    window.PLOTLYENV=window.PLOTLYENV || {};                                    if (document.getElementById(\"7f5e4b47-0ef6-4696-90ad-9400199c0307\")) {                    Plotly.newPlot(                        \"7f5e4b47-0ef6-4696-90ad-9400199c0307\",                        [{\"hovertemplate\":\"variable=AAPL<br>index=%{x}<br>value=%{y}<extra></extra>\",\"legendgroup\":\"AAPL\",\"line\":{\"color\":\"#636efa\",\"dash\":\"solid\"},\"marker\":{\"symbol\":\"circle\"},\"mode\":\"lines\",\"name\":\"AAPL\",\"orientation\":\"v\",\"showlegend\":true,\"x\":[\"4th_latest\",\"3rd_latest\",\"2nd_latest\",\"Latest\"],\"xaxis\":\"x\",\"y\":[77434000000.0,69391000000.0,80674000000.0,104038000000.0],\"yaxis\":\"y\",\"type\":\"scatter\"},{\"hovertemplate\":\"variable=ABNB<br>index=%{x}<br>value=%{y}<extra></extra>\",\"legendgroup\":\"ABNB\",\"line\":{\"color\":\"#EF553B\",\"dash\":\"solid\"},\"marker\":{\"symbol\":\"circle\"},\"mode\":\"lines\",\"name\":\"ABNB\",\"orientation\":\"v\",\"showlegend\":true,\"x\":[\"4th_latest\",\"3rd_latest\",\"2nd_latest\",\"Latest\"],\"xaxis\":\"x\",\"y\":[595557000.0,222727000.0,-629732000.0,2189694000.0],\"yaxis\":\"y\",\"type\":\"scatter\"},{\"hovertemplate\":\"variable=ADBE<br>index=%{x}<br>value=%{y}<extra></extra>\",\"legendgroup\":\"ADBE\",\"line\":{\"color\":\"#00cc96\",\"dash\":\"solid\"},\"marker\":{\"symbol\":\"circle\"},\"mode\":\"lines\",\"name\":\"ADBE\",\"orientation\":\"v\",\"showlegend\":true,\"x\":[\"4th_latest\",\"3rd_latest\",\"2nd_latest\",\"Latest\"],\"xaxis\":\"x\",\"y\":[4029000000.0,4422000000.0,5727000000.0,7230000000.0],\"yaxis\":\"y\",\"type\":\"scatter\"},{\"hovertemplate\":\"variable=ADI<br>index=%{x}<br>value=%{y}<extra></extra>\",\"legendgroup\":\"ADI\",\"line\":{\"color\":\"#ab63fa\",\"dash\":\"solid\"},\"marker\":{\"symbol\":\"circle\"},\"mode\":\"lines\",\"name\":\"ADI\",\"orientation\":\"v\",\"showlegend\":true,\"x\":[\"4th_latest\",\"3rd_latest\",\"2nd_latest\",\"Latest\"],\"xaxis\":\"x\",\"y\":[2442361000.0,2253100000.0,2008487000.0,2735069000.0],\"yaxis\":\"y\",\"type\":\"scatter\"},{\"hovertemplate\":\"variable=ADP<br>index=%{x}<br>value=%{y}<extra></extra>\",\"legendgroup\":\"ADP\",\"line\":{\"color\":\"#FFA15A\",\"dash\":\"solid\"},\"marker\":{\"symbol\":\"circle\"},\"mode\":\"lines\",\"name\":\"ADP\",\"orientation\":\"v\",\"showlegend\":true,\"x\":[\"4th_latest\",\"3rd_latest\",\"2nd_latest\",\"Latest\"],\"xaxis\":\"x\",\"y\":[2688300000.0,3026200000.0,3093300000.0,3099500000.0],\"yaxis\":\"y\",\"type\":\"scatter\"},{\"hovertemplate\":\"variable=ADSK<br>index=%{x}<br>value=%{y}<extra></extra>\",\"legendgroup\":\"ADSK\",\"line\":{\"color\":\"#19d3f3\",\"dash\":\"solid\"},\"marker\":{\"symbol\":\"circle\"},\"mode\":\"lines\",\"name\":\"ADSK\",\"orientation\":\"v\",\"showlegend\":true,\"x\":[\"4th_latest\",\"3rd_latest\",\"2nd_latest\",\"Latest\"],\"xaxis\":\"x\",\"y\":[377100000.0,1415100000.0,1437200000.0,1531300000.0],\"yaxis\":\"y\",\"type\":\"scatter\"},{\"hovertemplate\":\"variable=AEP<br>index=%{x}<br>value=%{y}<extra></extra>\",\"legendgroup\":\"AEP\",\"line\":{\"color\":\"#FF6692\",\"dash\":\"solid\"},\"marker\":{\"symbol\":\"circle\"},\"mode\":\"lines\",\"name\":\"AEP\",\"orientation\":\"v\",\"showlegend\":true,\"x\":[\"4th_latest\",\"3rd_latest\",\"2nd_latest\",\"Latest\"],\"xaxis\":\"x\",\"y\":[5223200000.0,4270100000.0,3832900000.0,3839900000.0],\"yaxis\":\"y\",\"type\":\"scatter\"},{\"hovertemplate\":\"variable=ALGN<br>index=%{x}<br>value=%{y}<extra></extra>\",\"legendgroup\":\"ALGN\",\"line\":{\"color\":\"#B6E880\",\"dash\":\"solid\"},\"marker\":{\"symbol\":\"circle\"},\"mode\":\"lines\",\"name\":\"ALGN\",\"orientation\":\"v\",\"showlegend\":true,\"x\":[\"4th_latest\",\"3rd_latest\",\"2nd_latest\",\"Latest\"],\"xaxis\":\"x\",\"y\":[554681000.0,747270000.0,662174000.0,1172544000.0],\"yaxis\":\"y\",\"type\":\"scatter\"},{\"hovertemplate\":\"variable=AMAT<br>index=%{x}<br>value=%{y}<extra></extra>\",\"legendgroup\":\"AMAT\",\"line\":{\"color\":\"#FF97FF\",\"dash\":\"solid\"},\"marker\":{\"symbol\":\"circle\"},\"mode\":\"lines\",\"name\":\"AMAT\",\"orientation\":\"v\",\"showlegend\":true,\"x\":[\"4th_latest\",\"3rd_latest\",\"2nd_latest\",\"Latest\"],\"xaxis\":\"x\",\"y\":[3787000000.0,3247000000.0,3804000000.0,5442000000.0],\"yaxis\":\"y\",\"type\":\"scatter\"},{\"hovertemplate\":\"variable=AMD<br>index=%{x}<br>value=%{y}<extra></extra>\",\"legendgroup\":\"AMD\",\"line\":{\"color\":\"#FECB52\",\"dash\":\"solid\"},\"marker\":{\"symbol\":\"circle\"},\"mode\":\"lines\",\"name\":\"AMD\",\"orientation\":\"v\",\"showlegend\":true,\"x\":[\"4th_latest\",\"3rd_latest\",\"2nd_latest\",\"Latest\"],\"xaxis\":\"x\",\"y\":[34000000.0,493000000.0,1071000000.0,3521000000.0],\"yaxis\":\"y\",\"type\":\"scatter\"},{\"hovertemplate\":\"variable=AMGN<br>index=%{x}<br>value=%{y}<extra></extra>\",\"legendgroup\":\"AMGN\",\"line\":{\"color\":\"#636efa\",\"dash\":\"solid\"},\"marker\":{\"symbol\":\"circle\"},\"mode\":\"lines\",\"name\":\"AMGN\",\"orientation\":\"v\",\"showlegend\":true,\"x\":[\"4th_latest\",\"3rd_latest\",\"2nd_latest\",\"Latest\"],\"xaxis\":\"x\",\"y\":[11296000000.0,9150000000.0,10497000000.0,9261000000.0],\"yaxis\":\"y\",\"type\":\"scatter\"},{\"hovertemplate\":\"variable=AMZN<br>index=%{x}<br>value=%{y}<extra></extra>\",\"legendgroup\":\"AMZN\",\"line\":{\"color\":\"#EF553B\",\"dash\":\"solid\"},\"marker\":{\"symbol\":\"circle\"},\"mode\":\"lines\",\"name\":\"AMZN\",\"orientation\":\"v\",\"showlegend\":true,\"x\":[\"4th_latest\",\"3rd_latest\",\"2nd_latest\",\"Latest\"],\"xaxis\":\"x\",\"y\":[30723000000.0,38514000000.0,66064000000.0,46327000000.0],\"yaxis\":\"y\",\"type\":\"scatter\"},{\"hovertemplate\":\"variable=ANSS<br>index=%{x}<br>value=%{y}<extra></extra>\",\"legendgroup\":\"ANSS\",\"line\":{\"color\":\"#00cc96\",\"dash\":\"solid\"},\"marker\":{\"symbol\":\"circle\"},\"mode\":\"lines\",\"name\":\"ANSS\",\"orientation\":\"v\",\"showlegend\":true,\"x\":[\"4th_latest\",\"3rd_latest\",\"2nd_latest\",\"Latest\"],\"xaxis\":\"x\",\"y\":[484988000.0,499936000.0,547310000.0,549482000.0],\"yaxis\":\"y\",\"type\":\"scatter\"},{\"hovertemplate\":\"variable=ASML<br>index=%{x}<br>value=%{y}<extra></extra>\",\"legendgroup\":\"ASML\",\"line\":{\"color\":\"#ab63fa\",\"dash\":\"solid\"},\"marker\":{\"symbol\":\"circle\"},\"mode\":\"lines\",\"name\":\"ASML\",\"orientation\":\"v\",\"showlegend\":true,\"x\":[\"4th_latest\",\"3rd_latest\",\"2nd_latest\",\"Latest\"],\"xaxis\":\"x\",\"y\":[3072700000.0,3276400000.0,4627600000.0,10845800000.0],\"yaxis\":\"y\",\"type\":\"scatter\"},{\"hovertemplate\":\"variable=ATVI<br>index=%{x}<br>value=%{y}<extra></extra>\",\"legendgroup\":\"ATVI\",\"line\":{\"color\":\"#FFA15A\",\"dash\":\"solid\"},\"marker\":{\"symbol\":\"circle\"},\"mode\":\"lines\",\"name\":\"ATVI\",\"orientation\":\"v\",\"showlegend\":true,\"x\":[\"4th_latest\",\"3rd_latest\",\"2nd_latest\",\"Latest\"],\"xaxis\":\"x\",\"y\":[1790000000.0,1831000000.0,2252000000.0,2414000000.0],\"yaxis\":\"y\",\"type\":\"scatter\"},{\"hovertemplate\":\"variable=AVGO<br>index=%{x}<br>value=%{y}<extra></extra>\",\"legendgroup\":\"AVGO\",\"line\":{\"color\":\"#19d3f3\",\"dash\":\"solid\"},\"marker\":{\"symbol\":\"circle\"},\"mode\":\"lines\",\"name\":\"AVGO\",\"orientation\":\"v\",\"showlegend\":true,\"x\":[\"4th_latest\",\"3rd_latest\",\"2nd_latest\",\"Latest\"],\"xaxis\":\"x\",\"y\":[8880000000.0,9697000000.0,12061000000.0,13764000000.0],\"yaxis\":\"y\",\"type\":\"scatter\"},{\"hovertemplate\":\"variable=AZN<br>index=%{x}<br>value=%{y}<extra></extra>\",\"legendgroup\":\"AZN\",\"line\":{\"color\":\"#FF6692\",\"dash\":\"solid\"},\"marker\":{\"symbol\":\"circle\"},\"mode\":\"lines\",\"name\":\"AZN\",\"orientation\":\"v\",\"showlegend\":true,\"x\":[\"4th_latest\",\"3rd_latest\",\"2nd_latest\",\"Latest\"],\"xaxis\":\"x\",\"y\":[2618000000.0,2969000000.0,4799000000.0,5963000000.0],\"yaxis\":\"y\",\"type\":\"scatter\"},{\"hovertemplate\":\"variable=BIDU<br>index=%{x}<br>value=%{y}<extra></extra>\",\"legendgroup\":\"BIDU\",\"line\":{\"color\":\"#B6E880\",\"dash\":\"solid\"},\"marker\":{\"symbol\":\"circle\"},\"mode\":\"lines\",\"name\":\"BIDU\",\"orientation\":\"v\",\"showlegend\":true,\"x\":[\"4th_latest\",\"3rd_latest\",\"2nd_latest\",\"Latest\"],\"xaxis\":\"x\",\"y\":[35967000000.0,28458000000.0,24200000000.0,20122000000.0],\"yaxis\":\"y\",\"type\":\"scatter\"},{\"hovertemplate\":\"variable=BIIB<br>index=%{x}<br>value=%{y}<extra></extra>\",\"legendgroup\":\"BIIB\",\"line\":{\"color\":\"#FF97FF\",\"dash\":\"solid\"},\"marker\":{\"symbol\":\"circle\"},\"mode\":\"lines\",\"name\":\"BIIB\",\"orientation\":\"v\",\"showlegend\":true,\"x\":[\"4th_latest\",\"3rd_latest\",\"2nd_latest\",\"Latest\"],\"xaxis\":\"x\",\"y\":[6187700000.0,7078600000.0,4229800000.0,3639900000.0],\"yaxis\":\"y\",\"type\":\"scatter\"},{\"hovertemplate\":\"variable=BKNG<br>index=%{x}<br>value=%{y}<extra></extra>\",\"legendgroup\":\"BKNG\",\"line\":{\"color\":\"#FECB52\",\"dash\":\"solid\"},\"marker\":{\"symbol\":\"circle\"},\"mode\":\"lines\",\"name\":\"BKNG\",\"orientation\":\"v\",\"showlegend\":true,\"x\":[\"4th_latest\",\"3rd_latest\",\"2nd_latest\",\"Latest\"],\"xaxis\":\"x\",\"y\":[5338000000.0,4865000000.0,85000000.0,2820000000.0],\"yaxis\":\"y\",\"type\":\"scatter\"},{\"hovertemplate\":\"variable=CDNS<br>index=%{x}<br>value=%{y}<extra></extra>\",\"legendgroup\":\"CDNS\",\"line\":{\"color\":\"#636efa\",\"dash\":\"solid\"},\"marker\":{\"symbol\":\"circle\"},\"mode\":\"lines\",\"name\":\"CDNS\",\"orientation\":\"v\",\"showlegend\":true,\"x\":[\"4th_latest\",\"3rd_latest\",\"2nd_latest\",\"Latest\"],\"xaxis\":\"x\",\"y\":[604751000.0,729600000.0,904922000.0,1100958000.0],\"yaxis\":\"y\",\"type\":\"scatter\"},{\"hovertemplate\":\"variable=CEG<br>index=%{x}<br>value=%{y}<extra></extra>\",\"legendgroup\":\"CEG\",\"line\":{\"color\":\"#EF553B\",\"dash\":\"solid\"},\"marker\":{\"symbol\":\"circle\"},\"mode\":\"lines\",\"name\":\"CEG\",\"orientation\":\"v\",\"showlegend\":true,\"x\":[\"4th_latest\",\"3rd_latest\",\"2nd_latest\",\"Latest\"],\"xaxis\":\"x\",\"y\":[3861000000.0,2873000000.0,584000000.0,-1338000000.0],\"yaxis\":\"y\",\"type\":\"scatter\"},{\"hovertemplate\":\"variable=CHTR<br>index=%{x}<br>value=%{y}<extra></extra>\",\"legendgroup\":\"CHTR\",\"line\":{\"color\":\"#00cc96\",\"dash\":\"solid\"},\"marker\":{\"symbol\":\"circle\"},\"mode\":\"lines\",\"name\":\"CHTR\",\"orientation\":\"v\",\"showlegend\":true,\"x\":[\"4th_latest\",\"3rd_latest\",\"2nd_latest\",\"Latest\"],\"xaxis\":\"x\",\"y\":[11767000000.0,11748000000.0,14562000000.0,16239000000.0],\"yaxis\":\"y\",\"type\":\"scatter\"},{\"hovertemplate\":\"variable=CMCSA<br>index=%{x}<br>value=%{y}<extra></extra>\",\"legendgroup\":\"CMCSA\",\"line\":{\"color\":\"#ab63fa\",\"dash\":\"solid\"},\"marker\":{\"symbol\":\"circle\"},\"mode\":\"lines\",\"name\":\"CMCSA\",\"orientation\":\"v\",\"showlegend\":true,\"x\":[\"4th_latest\",\"3rd_latest\",\"2nd_latest\",\"Latest\"],\"xaxis\":\"x\",\"y\":[24297000000.0,25697000000.0,24737000000.0,29146000000.0],\"yaxis\":\"y\",\"type\":\"scatter\"},{\"hovertemplate\":\"variable=COST<br>index=%{x}<br>value=%{y}<extra></extra>\",\"legendgroup\":\"COST\",\"line\":{\"color\":\"#FFA15A\",\"dash\":\"solid\"},\"marker\":{\"symbol\":\"circle\"},\"mode\":\"lines\",\"name\":\"COST\",\"orientation\":\"v\",\"showlegend\":true,\"x\":[\"4th_latest\",\"3rd_latest\",\"2nd_latest\",\"Latest\"],\"xaxis\":\"x\",\"y\":[6356000000.0,8861000000.0,8958000000.0,null],\"yaxis\":\"y\",\"type\":\"scatter\"},{\"hovertemplate\":\"variable=CPRT<br>index=%{x}<br>value=%{y}<extra></extra>\",\"legendgroup\":\"CPRT\",\"line\":{\"color\":\"#19d3f3\",\"dash\":\"solid\"},\"marker\":{\"symbol\":\"circle\"},\"mode\":\"lines\",\"name\":\"CPRT\",\"orientation\":\"v\",\"showlegend\":true,\"x\":[\"4th_latest\",\"3rd_latest\",\"2nd_latest\",\"Latest\"],\"xaxis\":\"x\",\"y\":[646646000.0,917885000.0,990891000.0,1176683000.0],\"yaxis\":\"y\",\"type\":\"scatter\"},{\"hovertemplate\":\"variable=CRWD<br>index=%{x}<br>value=%{y}<extra></extra>\",\"legendgroup\":\"CRWD\",\"line\":{\"color\":\"#FF6692\",\"dash\":\"solid\"},\"marker\":{\"symbol\":\"circle\"},\"mode\":\"lines\",\"name\":\"CRWD\",\"orientation\":\"v\",\"showlegend\":true,\"x\":[\"4th_latest\",\"3rd_latest\",\"2nd_latest\",\"Latest\"],\"xaxis\":\"x\",\"y\":[-22968000.0,99943000.0,356566000.0,574784000.0],\"yaxis\":\"y\",\"type\":\"scatter\"},{\"hovertemplate\":\"variable=CSCO<br>index=%{x}<br>value=%{y}<extra></extra>\",\"legendgroup\":\"CSCO\",\"line\":{\"color\":\"#B6E880\",\"dash\":\"solid\"},\"marker\":{\"symbol\":\"circle\"},\"mode\":\"lines\",\"name\":\"CSCO\",\"orientation\":\"v\",\"showlegend\":true,\"x\":[\"4th_latest\",\"3rd_latest\",\"2nd_latest\",\"Latest\"],\"xaxis\":\"x\",\"y\":[15831000000.0,15426000000.0,15454000000.0,13226000000.0],\"yaxis\":\"y\",\"type\":\"scatter\"},{\"hovertemplate\":\"variable=CSX<br>index=%{x}<br>value=%{y}<extra></extra>\",\"legendgroup\":\"CSX\",\"line\":{\"color\":\"#FF97FF\",\"dash\":\"solid\"},\"marker\":{\"symbol\":\"circle\"},\"mode\":\"lines\",\"name\":\"CSX\",\"orientation\":\"v\",\"showlegend\":true,\"x\":[\"4th_latest\",\"3rd_latest\",\"2nd_latest\",\"Latest\"],\"xaxis\":\"x\",\"y\":[4641000000.0,4850000000.0,4263000000.0,5099000000.0],\"yaxis\":\"y\",\"type\":\"scatter\"},{\"hovertemplate\":\"variable=CTAS<br>index=%{x}<br>value=%{y}<extra></extra>\",\"legendgroup\":\"CTAS\",\"line\":{\"color\":\"#FECB52\",\"dash\":\"solid\"},\"marker\":{\"symbol\":\"circle\"},\"mode\":\"lines\",\"name\":\"CTAS\",\"orientation\":\"v\",\"showlegend\":true,\"x\":[\"4th_latest\",\"3rd_latest\",\"2nd_latest\",\"Latest\"],\"xaxis\":\"x\",\"y\":[1067862000.0,1291483000.0,1360740000.0,1537625000.0],\"yaxis\":\"y\",\"type\":\"scatter\"},{\"hovertemplate\":\"variable=CTSH<br>index=%{x}<br>value=%{y}<extra></extra>\",\"legendgroup\":\"CTSH\",\"line\":{\"color\":\"#636efa\",\"dash\":\"solid\"},\"marker\":{\"symbol\":\"circle\"},\"mode\":\"lines\",\"name\":\"CTSH\",\"orientation\":\"v\",\"showlegend\":true,\"x\":[\"4th_latest\",\"3rd_latest\",\"2nd_latest\",\"Latest\"],\"xaxis\":\"x\",\"y\":[2592000000.0,2499000000.0,3299000000.0,2495000000.0],\"yaxis\":\"y\",\"type\":\"scatter\"},{\"hovertemplate\":\"variable=DDOG<br>index=%{x}<br>value=%{y}<extra></extra>\",\"legendgroup\":\"DDOG\",\"line\":{\"color\":\"#EF553B\",\"dash\":\"solid\"},\"marker\":{\"symbol\":\"circle\"},\"mode\":\"lines\",\"name\":\"DDOG\",\"orientation\":\"v\",\"showlegend\":true,\"x\":[\"4th_latest\",\"3rd_latest\",\"2nd_latest\",\"Latest\"],\"xaxis\":\"x\",\"y\":[10829000.0,24234000.0,109091000.0,286545000.0],\"yaxis\":\"y\",\"type\":\"scatter\"},{\"hovertemplate\":\"variable=DLTR<br>index=%{x}<br>value=%{y}<extra></extra>\",\"legendgroup\":\"DLTR\",\"line\":{\"color\":\"#00cc96\",\"dash\":\"solid\"},\"marker\":{\"symbol\":\"circle\"},\"mode\":\"lines\",\"name\":\"DLTR\",\"orientation\":\"v\",\"showlegend\":true,\"x\":[\"4th_latest\",\"3rd_latest\",\"2nd_latest\",\"Latest\"],\"xaxis\":\"x\",\"y\":[1766000000.0,1869800000.0,2716300000.0,1431500000.0],\"yaxis\":\"y\",\"type\":\"scatter\"},{\"hovertemplate\":\"variable=DOCU<br>index=%{x}<br>value=%{y}<extra></extra>\",\"legendgroup\":\"DOCU\",\"line\":{\"color\":\"#ab63fa\",\"dash\":\"solid\"},\"marker\":{\"symbol\":\"circle\"},\"mode\":\"lines\",\"name\":\"DOCU\",\"orientation\":\"v\",\"showlegend\":true,\"x\":[\"4th_latest\",\"3rd_latest\",\"2nd_latest\",\"Latest\"],\"xaxis\":\"x\",\"y\":[76086000.0,115696000.0,296954000.0,506467000.0],\"yaxis\":\"y\",\"type\":\"scatter\"},{\"hovertemplate\":\"variable=DXCM<br>index=%{x}<br>value=%{y}<extra></extra>\",\"legendgroup\":\"DXCM\",\"line\":{\"color\":\"#FFA15A\",\"dash\":\"solid\"},\"marker\":{\"symbol\":\"circle\"},\"mode\":\"lines\",\"name\":\"DXCM\",\"orientation\":\"v\",\"showlegend\":true,\"x\":[\"4th_latest\",\"3rd_latest\",\"2nd_latest\",\"Latest\"],\"xaxis\":\"x\",\"y\":[123200000.0,314500000.0,475600000.0,442500000.0],\"yaxis\":\"y\",\"type\":\"scatter\"},{\"hovertemplate\":\"variable=EA<br>index=%{x}<br>value=%{y}<extra></extra>\",\"legendgroup\":\"EA\",\"line\":{\"color\":\"#19d3f3\",\"dash\":\"solid\"},\"marker\":{\"symbol\":\"circle\"},\"mode\":\"lines\",\"name\":\"EA\",\"orientation\":\"v\",\"showlegend\":true,\"x\":[\"4th_latest\",\"3rd_latest\",\"2nd_latest\",\"Latest\"],\"xaxis\":\"x\",\"y\":[1547000000.0,1797000000.0,1934000000.0,1899000000.0],\"yaxis\":\"y\",\"type\":\"scatter\"},{\"hovertemplate\":\"variable=EBAY<br>index=%{x}<br>value=%{y}<extra></extra>\",\"legendgroup\":\"EBAY\",\"line\":{\"color\":\"#FF6692\",\"dash\":\"solid\"},\"marker\":{\"symbol\":\"circle\"},\"mode\":\"lines\",\"name\":\"EBAY\",\"orientation\":\"v\",\"showlegend\":true,\"x\":[\"4th_latest\",\"3rd_latest\",\"2nd_latest\",\"Latest\"],\"xaxis\":\"x\",\"y\":[2658000000.0,3114000000.0,2419000000.0,2657000000.0],\"yaxis\":\"y\",\"type\":\"scatter\"},{\"hovertemplate\":\"variable=EXC<br>index=%{x}<br>value=%{y}<extra></extra>\",\"legendgroup\":\"EXC\",\"line\":{\"color\":\"#B6E880\",\"dash\":\"solid\"},\"marker\":{\"symbol\":\"circle\"},\"mode\":\"lines\",\"name\":\"EXC\",\"orientation\":\"v\",\"showlegend\":true,\"x\":[\"4th_latest\",\"3rd_latest\",\"2nd_latest\",\"Latest\"],\"xaxis\":\"x\",\"y\":[8644000000.0,6659000000.0,4235000000.0,3012000000.0],\"yaxis\":\"y\",\"type\":\"scatter\"},{\"hovertemplate\":\"variable=FAST<br>index=%{x}<br>value=%{y}<extra></extra>\",\"legendgroup\":\"FAST\",\"line\":{\"color\":\"#FF97FF\",\"dash\":\"solid\"},\"marker\":{\"symbol\":\"circle\"},\"mode\":\"lines\",\"name\":\"FAST\",\"orientation\":\"v\",\"showlegend\":true,\"x\":[\"4th_latest\",\"3rd_latest\",\"2nd_latest\",\"Latest\"],\"xaxis\":\"x\",\"y\":[674200000.0,842700000.0,1101800000.0,770100000.0],\"yaxis\":\"y\",\"type\":\"scatter\"},{\"hovertemplate\":\"variable=FISV<br>index=%{x}<br>value=%{y}<extra></extra>\",\"legendgroup\":\"FISV\",\"line\":{\"color\":\"#FECB52\",\"dash\":\"solid\"},\"marker\":{\"symbol\":\"circle\"},\"mode\":\"lines\",\"name\":\"FISV\",\"orientation\":\"v\",\"showlegend\":true,\"x\":[\"4th_latest\",\"3rd_latest\",\"2nd_latest\",\"Latest\"],\"xaxis\":\"x\",\"y\":[1595000000.0,2928000000.0,4147000000.0,4034000000.0],\"yaxis\":\"y\",\"type\":\"scatter\"},{\"hovertemplate\":\"variable=FTNT<br>index=%{x}<br>value=%{y}<extra></extra>\",\"legendgroup\":\"FTNT\",\"line\":{\"color\":\"#636efa\",\"dash\":\"solid\"},\"marker\":{\"symbol\":\"circle\"},\"mode\":\"lines\",\"name\":\"FTNT\",\"orientation\":\"v\",\"showlegend\":true,\"x\":[\"4th_latest\",\"3rd_latest\",\"2nd_latest\",\"Latest\"],\"xaxis\":\"x\",\"y\":[638900000.0,808000000.0,1083700000.0,1499700000.0],\"yaxis\":\"y\",\"type\":\"scatter\"},{\"hovertemplate\":\"variable=GILD<br>index=%{x}<br>value=%{y}<extra></extra>\",\"legendgroup\":\"GILD\",\"line\":{\"color\":\"#EF553B\",\"dash\":\"solid\"},\"marker\":{\"symbol\":\"circle\"},\"mode\":\"lines\",\"name\":\"GILD\",\"orientation\":\"v\",\"showlegend\":true,\"x\":[\"4th_latest\",\"3rd_latest\",\"2nd_latest\",\"Latest\"],\"xaxis\":\"x\",\"y\":[8400000000.0,9144000000.0,8168000000.0,11384000000.0],\"yaxis\":\"y\",\"type\":\"scatter\"},{\"hovertemplate\":\"variable=GOOG<br>index=%{x}<br>value=%{y}<extra></extra>\",\"legendgroup\":\"GOOG\",\"line\":{\"color\":\"#00cc96\",\"dash\":\"solid\"},\"marker\":{\"symbol\":\"circle\"},\"mode\":\"lines\",\"name\":\"GOOG\",\"orientation\":\"v\",\"showlegend\":true,\"x\":[\"4th_latest\",\"3rd_latest\",\"2nd_latest\",\"Latest\"],\"xaxis\":\"x\",\"y\":[47971000000.0,54520000000.0,65124000000.0,91652000000.0],\"yaxis\":\"y\",\"type\":\"scatter\"},{\"hovertemplate\":\"variable=GOOGL<br>index=%{x}<br>value=%{y}<extra></extra>\",\"legendgroup\":\"GOOGL\",\"line\":{\"color\":\"#ab63fa\",\"dash\":\"solid\"},\"marker\":{\"symbol\":\"circle\"},\"mode\":\"lines\",\"name\":\"GOOGL\",\"orientation\":\"v\",\"showlegend\":true,\"x\":[\"4th_latest\",\"3rd_latest\",\"2nd_latest\",\"Latest\"],\"xaxis\":\"x\",\"y\":[47971000000.0,54520000000.0,65124000000.0,91652000000.0],\"yaxis\":\"y\",\"type\":\"scatter\"},{\"hovertemplate\":\"variable=HON<br>index=%{x}<br>value=%{y}<extra></extra>\",\"legendgroup\":\"HON\",\"line\":{\"color\":\"#FFA15A\",\"dash\":\"solid\"},\"marker\":{\"symbol\":\"circle\"},\"mode\":\"lines\",\"name\":\"HON\",\"orientation\":\"v\",\"showlegend\":true,\"x\":[\"4th_latest\",\"3rd_latest\",\"2nd_latest\",\"Latest\"],\"xaxis\":\"x\",\"y\":[6434000000.0,6897000000.0,6208000000.0,6038000000.0],\"yaxis\":\"y\",\"type\":\"scatter\"},{\"hovertemplate\":\"variable=IDXX<br>index=%{x}<br>value=%{y}<extra></extra>\",\"legendgroup\":\"IDXX\",\"line\":{\"color\":\"#19d3f3\",\"dash\":\"solid\"},\"marker\":{\"symbol\":\"circle\"},\"mode\":\"lines\",\"name\":\"IDXX\",\"orientation\":\"v\",\"showlegend\":true,\"x\":[\"4th_latest\",\"3rd_latest\",\"2nd_latest\",\"Latest\"],\"xaxis\":\"x\",\"y\":[400084000.0,459158000.0,648063000.0,755546000.0],\"yaxis\":\"y\",\"type\":\"scatter\"},{\"hovertemplate\":\"variable=ILMN<br>index=%{x}<br>value=%{y}<extra></extra>\",\"legendgroup\":\"ILMN\",\"line\":{\"color\":\"#FF6692\",\"dash\":\"solid\"},\"marker\":{\"symbol\":\"circle\"},\"mode\":\"lines\",\"name\":\"ILMN\",\"orientation\":\"v\",\"showlegend\":true,\"x\":[\"4th_latest\",\"3rd_latest\",\"2nd_latest\",\"Latest\"],\"xaxis\":\"x\",\"y\":[1142000000.0,1051000000.0,1080000000.0,545000000.0],\"yaxis\":\"y\",\"type\":\"scatter\"},{\"hovertemplate\":\"variable=INTC<br>index=%{x}<br>value=%{y}<extra></extra>\",\"legendgroup\":\"INTC\",\"line\":{\"color\":\"#B6E880\",\"dash\":\"solid\"},\"marker\":{\"symbol\":\"circle\"},\"mode\":\"lines\",\"name\":\"INTC\",\"orientation\":\"v\",\"showlegend\":true,\"x\":[\"4th_latest\",\"3rd_latest\",\"2nd_latest\",\"Latest\"],\"xaxis\":\"x\",\"y\":[29432000000.0,33145000000.0,35384000000.0,29991000000.0],\"yaxis\":\"y\",\"type\":\"scatter\"},{\"hovertemplate\":\"variable=INTU<br>index=%{x}<br>value=%{y}<extra></extra>\",\"legendgroup\":\"INTU\",\"line\":{\"color\":\"#FF97FF\",\"dash\":\"solid\"},\"marker\":{\"symbol\":\"circle\"},\"mode\":\"lines\",\"name\":\"INTU\",\"orientation\":\"v\",\"showlegend\":true,\"x\":[\"4th_latest\",\"3rd_latest\",\"2nd_latest\",\"Latest\"],\"xaxis\":\"x\",\"y\":[2324000000.0,2414000000.0,3250000000.0,3889000000.0],\"yaxis\":\"y\",\"type\":\"scatter\"},{\"hovertemplate\":\"variable=ISRG<br>index=%{x}<br>value=%{y}<extra></extra>\",\"legendgroup\":\"ISRG\",\"line\":{\"color\":\"#FECB52\",\"dash\":\"solid\"},\"marker\":{\"symbol\":\"circle\"},\"mode\":\"lines\",\"name\":\"ISRG\",\"orientation\":\"v\",\"showlegend\":true,\"x\":[\"4th_latest\",\"3rd_latest\",\"2nd_latest\",\"Latest\"],\"xaxis\":\"x\",\"y\":[1169600000.0,1598200000.0,1484800000.0,2089400000.0],\"yaxis\":\"y\",\"type\":\"scatter\"},{\"hovertemplate\":\"variable=JD<br>index=%{x}<br>value=%{y}<extra></extra>\",\"legendgroup\":\"JD\",\"line\":{\"color\":\"#636efa\",\"dash\":\"solid\"},\"marker\":{\"symbol\":\"circle\"},\"mode\":\"lines\",\"name\":\"JD\",\"orientation\":\"v\",\"showlegend\":true,\"x\":[\"4th_latest\",\"3rd_latest\",\"2nd_latest\",\"Latest\"],\"xaxis\":\"x\",\"y\":[20881422000.0,24781000000.0,42544000000.0,42301000000.0],\"yaxis\":\"y\",\"type\":\"scatter\"},{\"hovertemplate\":\"variable=KDP<br>index=%{x}<br>value=%{y}<extra></extra>\",\"legendgroup\":\"KDP\",\"line\":{\"color\":\"#EF553B\",\"dash\":\"solid\"},\"marker\":{\"symbol\":\"circle\"},\"mode\":\"lines\",\"name\":\"KDP\",\"orientation\":\"v\",\"showlegend\":true,\"x\":[\"4th_latest\",\"3rd_latest\",\"2nd_latest\",\"Latest\"],\"xaxis\":\"x\",\"y\":[1613000000.0,2474000000.0,2456000000.0,2874000000.0],\"yaxis\":\"y\",\"type\":\"scatter\"},{\"hovertemplate\":\"variable=KHC<br>index=%{x}<br>value=%{y}<extra></extra>\",\"legendgroup\":\"KHC\",\"line\":{\"color\":\"#00cc96\",\"dash\":\"solid\"},\"marker\":{\"symbol\":\"circle\"},\"mode\":\"lines\",\"name\":\"KHC\",\"orientation\":\"v\",\"showlegend\":true,\"x\":[\"4th_latest\",\"3rd_latest\",\"2nd_latest\",\"Latest\"],\"xaxis\":\"x\",\"y\":[2574000000.0,3552000000.0,4929000000.0,5364000000.0],\"yaxis\":\"y\",\"type\":\"scatter\"},{\"hovertemplate\":\"variable=KLAC<br>index=%{x}<br>value=%{y}<extra></extra>\",\"legendgroup\":\"KLAC\",\"line\":{\"color\":\"#ab63fa\",\"dash\":\"solid\"},\"marker\":{\"symbol\":\"circle\"},\"mode\":\"lines\",\"name\":\"KLAC\",\"orientation\":\"v\",\"showlegend\":true,\"x\":[\"4th_latest\",\"3rd_latest\",\"2nd_latest\",\"Latest\"],\"xaxis\":\"x\",\"y\":[1152632000.0,1778850000.0,2185026000.0,3312702000.0],\"yaxis\":\"y\",\"type\":\"scatter\"},{\"hovertemplate\":\"variable=LCID<br>index=%{x}<br>value=%{y}<extra></extra>\",\"legendgroup\":\"LCID\",\"line\":{\"color\":\"#FFA15A\",\"dash\":\"solid\"},\"marker\":{\"symbol\":\"circle\"},\"mode\":\"lines\",\"name\":\"LCID\",\"orientation\":\"v\",\"showlegend\":true,\"x\":[\"4th_latest\",\"3rd_latest\",\"2nd_latest\",\"Latest\"],\"xaxis\":\"x\",\"y\":[null,-235299000.0,-570196000.0,-1058133000.0],\"yaxis\":\"y\",\"type\":\"scatter\"},{\"hovertemplate\":\"variable=LRCX<br>index=%{x}<br>value=%{y}<extra></extra>\",\"legendgroup\":\"LRCX\",\"line\":{\"color\":\"#19d3f3\",\"dash\":\"solid\"},\"marker\":{\"symbol\":\"circle\"},\"mode\":\"lines\",\"name\":\"LRCX\",\"orientation\":\"v\",\"showlegend\":true,\"x\":[\"4th_latest\",\"3rd_latest\",\"2nd_latest\",\"Latest\"],\"xaxis\":\"x\",\"y\":[3176013000.0,2126451000.0,3588163000.0,3099674000.0],\"yaxis\":\"y\",\"type\":\"scatter\"},{\"hovertemplate\":\"variable=LULU<br>index=%{x}<br>value=%{y}<extra></extra>\",\"legendgroup\":\"LULU\",\"line\":{\"color\":\"#FF6692\",\"dash\":\"solid\"},\"marker\":{\"symbol\":\"circle\"},\"mode\":\"lines\",\"name\":\"LULU\",\"orientation\":\"v\",\"showlegend\":true,\"x\":[\"4th_latest\",\"3rd_latest\",\"2nd_latest\",\"Latest\"],\"xaxis\":\"x\",\"y\":[742779000.0,669316000.0,803336000.0,1389108000.0],\"yaxis\":\"y\",\"type\":\"scatter\"},{\"hovertemplate\":\"variable=MAR<br>index=%{x}<br>value=%{y}<extra></extra>\",\"legendgroup\":\"MAR\",\"line\":{\"color\":\"#B6E880\",\"dash\":\"solid\"},\"marker\":{\"symbol\":\"circle\"},\"mode\":\"lines\",\"name\":\"MAR\",\"orientation\":\"v\",\"showlegend\":true,\"x\":[\"4th_latest\",\"3rd_latest\",\"2nd_latest\",\"Latest\"],\"xaxis\":\"x\",\"y\":[2357000000.0,1685000000.0,1639000000.0,1177000000.0],\"yaxis\":\"y\",\"type\":\"scatter\"},{\"hovertemplate\":\"variable=MCHP<br>index=%{x}<br>value=%{y}<extra></extra>\",\"legendgroup\":\"MCHP\",\"line\":{\"color\":\"#FF97FF\",\"dash\":\"solid\"},\"marker\":{\"symbol\":\"circle\"},\"mode\":\"lines\",\"name\":\"MCHP\",\"orientation\":\"v\",\"showlegend\":true,\"x\":[\"4th_latest\",\"3rd_latest\",\"2nd_latest\",\"Latest\"],\"xaxis\":\"x\",\"y\":[1674800000.0,1543800000.0,1916500000.0,2842700000.0],\"yaxis\":\"y\",\"type\":\"scatter\"},{\"hovertemplate\":\"variable=MDLZ<br>index=%{x}<br>value=%{y}<extra></extra>\",\"legendgroup\":\"MDLZ\",\"line\":{\"color\":\"#FECB52\",\"dash\":\"solid\"},\"marker\":{\"symbol\":\"circle\"},\"mode\":\"lines\",\"name\":\"MDLZ\",\"orientation\":\"v\",\"showlegend\":true,\"x\":[\"4th_latest\",\"3rd_latest\",\"2nd_latest\",\"Latest\"],\"xaxis\":\"x\",\"y\":[3948000000.0,3965000000.0,3964000000.0,4141000000.0],\"yaxis\":\"y\",\"type\":\"scatter\"},{\"hovertemplate\":\"variable=MELI<br>index=%{x}<br>value=%{y}<extra></extra>\",\"legendgroup\":\"MELI\",\"line\":{\"color\":\"#636efa\",\"dash\":\"solid\"},\"marker\":{\"symbol\":\"circle\"},\"mode\":\"lines\",\"name\":\"MELI\",\"orientation\":\"v\",\"showlegend\":true,\"x\":[\"4th_latest\",\"3rd_latest\",\"2nd_latest\",\"Latest\"],\"xaxis\":\"x\",\"y\":[230907000.0,451091000.0,1182552000.0,965043000.0],\"yaxis\":\"y\",\"type\":\"scatter\"},{\"hovertemplate\":\"variable=META<br>index=%{x}<br>value=%{y}<extra></extra>\",\"legendgroup\":\"META\",\"line\":{\"color\":\"#EF553B\",\"dash\":\"solid\"},\"marker\":{\"symbol\":\"circle\"},\"mode\":\"lines\",\"name\":\"META\",\"orientation\":\"v\",\"showlegend\":true,\"x\":[\"4th_latest\",\"3rd_latest\",\"2nd_latest\",\"Latest\"],\"xaxis\":\"x\",\"y\":[29274000000.0,36314000000.0,38747000000.0,57683000000.0],\"yaxis\":\"y\",\"type\":\"scatter\"},{\"hovertemplate\":\"variable=MNST<br>index=%{x}<br>value=%{y}<extra></extra>\",\"legendgroup\":\"MNST\",\"line\":{\"color\":\"#00cc96\",\"dash\":\"solid\"},\"marker\":{\"symbol\":\"circle\"},\"mode\":\"lines\",\"name\":\"MNST\",\"orientation\":\"v\",\"showlegend\":true,\"x\":[\"4th_latest\",\"3rd_latest\",\"2nd_latest\",\"Latest\"],\"xaxis\":\"x\",\"y\":[1161881000.0,1113762000.0,1364163000.0,1155741000.0],\"yaxis\":\"y\",\"type\":\"scatter\"},{\"hovertemplate\":\"variable=MRNA<br>index=%{x}<br>value=%{y}<extra></extra>\",\"legendgroup\":\"MRNA\",\"line\":{\"color\":\"#ab63fa\",\"dash\":\"solid\"},\"marker\":{\"symbol\":\"circle\"},\"mode\":\"lines\",\"name\":\"MRNA\",\"orientation\":\"v\",\"showlegend\":true,\"x\":[\"4th_latest\",\"3rd_latest\",\"2nd_latest\",\"Latest\"],\"xaxis\":\"x\",\"y\":[-330865000.0,-459000000.0,2027000000.0,13620000000.0],\"yaxis\":\"y\",\"type\":\"scatter\"},{\"hovertemplate\":\"variable=MRVL<br>index=%{x}<br>value=%{y}<extra></extra>\",\"legendgroup\":\"MRVL\",\"line\":{\"color\":\"#FFA15A\",\"dash\":\"solid\"},\"marker\":{\"symbol\":\"circle\"},\"mode\":\"lines\",\"name\":\"MRVL\",\"orientation\":\"v\",\"showlegend\":true,\"x\":[\"4th_latest\",\"3rd_latest\",\"2nd_latest\",\"Latest\"],\"xaxis\":\"x\",\"y\":[596744000.0,360297000.0,817287000.0,819368000.0],\"yaxis\":\"y\",\"type\":\"scatter\"},{\"hovertemplate\":\"variable=MSFT<br>index=%{x}<br>value=%{y}<extra></extra>\",\"legendgroup\":\"MSFT\",\"line\":{\"color\":\"#19d3f3\",\"dash\":\"solid\"},\"marker\":{\"symbol\":\"circle\"},\"mode\":\"lines\",\"name\":\"MSFT\",\"orientation\":\"v\",\"showlegend\":true,\"x\":[\"4th_latest\",\"3rd_latest\",\"2nd_latest\",\"Latest\"],\"xaxis\":\"x\",\"y\":[52185000000.0,60675000000.0,76740000000.0,89035000000.0],\"yaxis\":\"y\",\"type\":\"scatter\"},{\"hovertemplate\":\"variable=MTCH<br>index=%{x}<br>value=%{y}<extra></extra>\",\"legendgroup\":\"MTCH\",\"line\":{\"color\":\"#FF6692\",\"dash\":\"solid\"},\"marker\":{\"symbol\":\"circle\"},\"mode\":\"lines\",\"name\":\"MTCH\",\"orientation\":\"v\",\"showlegend\":true,\"x\":[\"4th_latest\",\"3rd_latest\",\"2nd_latest\",\"Latest\"],\"xaxis\":\"x\",\"y\":[988127000.0,937938000.0,802182000.0,912499000.0],\"yaxis\":\"y\",\"type\":\"scatter\"},{\"hovertemplate\":\"variable=MU<br>index=%{x}<br>value=%{y}<extra></extra>\",\"legendgroup\":\"MU\",\"line\":{\"color\":\"#B6E880\",\"dash\":\"solid\"},\"marker\":{\"symbol\":\"circle\"},\"mode\":\"lines\",\"name\":\"MU\",\"orientation\":\"v\",\"showlegend\":true,\"x\":[\"4th_latest\",\"3rd_latest\",\"2nd_latest\",\"Latest\"],\"xaxis\":\"x\",\"y\":[17400000000.0,13189000000.0,8306000000.0,12468000000.0],\"yaxis\":\"y\",\"type\":\"scatter\"},{\"hovertemplate\":\"variable=NFLX<br>index=%{x}<br>value=%{y}<extra></extra>\",\"legendgroup\":\"NFLX\",\"line\":{\"color\":\"#FF97FF\",\"dash\":\"solid\"},\"marker\":{\"symbol\":\"circle\"},\"mode\":\"lines\",\"name\":\"NFLX\",\"orientation\":\"v\",\"showlegend\":true,\"x\":[\"4th_latest\",\"3rd_latest\",\"2nd_latest\",\"Latest\"],\"xaxis\":\"x\",\"y\":[-2680479000.0,-2887322000.0,2427077000.0,392610000.0],\"yaxis\":\"y\",\"type\":\"scatter\"},{\"hovertemplate\":\"variable=NTES<br>index=%{x}<br>value=%{y}<extra></extra>\",\"legendgroup\":\"NTES\",\"line\":{\"color\":\"#FECB52\",\"dash\":\"solid\"},\"marker\":{\"symbol\":\"circle\"},\"mode\":\"lines\",\"name\":\"NTES\",\"orientation\":\"v\",\"showlegend\":true,\"x\":[\"4th_latest\",\"3rd_latest\",\"2nd_latest\",\"Latest\"],\"xaxis\":\"x\",\"y\":[13415877000.0,17216458000.0,24888171000.0,24926727000.0],\"yaxis\":\"y\",\"type\":\"scatter\"},{\"hovertemplate\":\"variable=NVDA<br>index=%{x}<br>value=%{y}<extra></extra>\",\"legendgroup\":\"NVDA\",\"line\":{\"color\":\"#636efa\",\"dash\":\"solid\"},\"marker\":{\"symbol\":\"circle\"},\"mode\":\"lines\",\"name\":\"NVDA\",\"orientation\":\"v\",\"showlegend\":true,\"x\":[\"4th_latest\",\"3rd_latest\",\"2nd_latest\",\"Latest\"],\"xaxis\":\"x\",\"y\":[3743000000.0,4761000000.0,5822000000.0,9108000000.0],\"yaxis\":\"y\",\"type\":\"scatter\"},{\"hovertemplate\":\"variable=NXPI<br>index=%{x}<br>value=%{y}<extra></extra>\",\"legendgroup\":\"NXPI\",\"line\":{\"color\":\"#EF553B\",\"dash\":\"solid\"},\"marker\":{\"symbol\":\"circle\"},\"mode\":\"lines\",\"name\":\"NXPI\",\"orientation\":\"v\",\"showlegend\":true,\"x\":[\"4th_latest\",\"3rd_latest\",\"2nd_latest\",\"Latest\"],\"xaxis\":\"x\",\"y\":[4369000000.0,2373000000.0,2482000000.0,3077000000.0],\"yaxis\":\"y\",\"type\":\"scatter\"},{\"hovertemplate\":\"variable=ODFL<br>index=%{x}<br>value=%{y}<extra></extra>\",\"legendgroup\":\"ODFL\",\"line\":{\"color\":\"#00cc96\",\"dash\":\"solid\"},\"marker\":{\"symbol\":\"circle\"},\"mode\":\"lines\",\"name\":\"ODFL\",\"orientation\":\"v\",\"showlegend\":true,\"x\":[\"4th_latest\",\"3rd_latest\",\"2nd_latest\",\"Latest\"],\"xaxis\":\"x\",\"y\":[900116000.0,983888000.0,933024000.0,1212606000.0],\"yaxis\":\"y\",\"type\":\"scatter\"},{\"hovertemplate\":\"variable=OKTA<br>index=%{x}<br>value=%{y}<extra></extra>\",\"legendgroup\":\"OKTA\",\"line\":{\"color\":\"#ab63fa\",\"dash\":\"solid\"},\"marker\":{\"symbol\":\"circle\"},\"mode\":\"lines\",\"name\":\"OKTA\",\"orientation\":\"v\",\"showlegend\":true,\"x\":[\"4th_latest\",\"3rd_latest\",\"2nd_latest\",\"Latest\"],\"xaxis\":\"x\",\"y\":[15172000.0,55603000.0,127962000.0,104119000.0],\"yaxis\":\"y\",\"type\":\"scatter\"},{\"hovertemplate\":\"variable=ORLY<br>index=%{x}<br>value=%{y}<extra></extra>\",\"legendgroup\":\"ORLY\",\"line\":{\"color\":\"#FFA15A\",\"dash\":\"solid\"},\"marker\":{\"symbol\":\"circle\"},\"mode\":\"lines\",\"name\":\"ORLY\",\"orientation\":\"v\",\"showlegend\":true,\"x\":[\"4th_latest\",\"3rd_latest\",\"2nd_latest\",\"Latest\"],\"xaxis\":\"x\",\"y\":[1727555000.0,1708479000.0,2836603000.0,3207310000.0],\"yaxis\":\"y\",\"type\":\"scatter\"},{\"hovertemplate\":\"variable=PANW<br>index=%{x}<br>value=%{y}<extra></extra>\",\"legendgroup\":\"PANW\",\"line\":{\"color\":\"#19d3f3\",\"dash\":\"solid\"},\"marker\":{\"symbol\":\"circle\"},\"mode\":\"lines\",\"name\":\"PANW\",\"orientation\":\"v\",\"showlegend\":true,\"x\":[\"4th_latest\",\"3rd_latest\",\"2nd_latest\",\"Latest\"],\"xaxis\":\"x\",\"y\":[1055600000.0,1035700000.0,1503000000.0,1984700000.0],\"yaxis\":\"y\",\"type\":\"scatter\"},{\"hovertemplate\":\"variable=PAYX<br>index=%{x}<br>value=%{y}<extra></extra>\",\"legendgroup\":\"PAYX\",\"line\":{\"color\":\"#FF6692\",\"dash\":\"solid\"},\"marker\":{\"symbol\":\"circle\"},\"mode\":\"lines\",\"name\":\"PAYX\",\"orientation\":\"v\",\"showlegend\":true,\"x\":[\"4th_latest\",\"3rd_latest\",\"2nd_latest\",\"Latest\"],\"xaxis\":\"x\",\"y\":[1271500000.0,1440900000.0,1260300000.0,1505500000.0],\"yaxis\":\"y\",\"type\":\"scatter\"},{\"hovertemplate\":\"variable=PCAR<br>index=%{x}<br>value=%{y}<extra></extra>\",\"legendgroup\":\"PCAR\",\"line\":{\"color\":\"#B6E880\",\"dash\":\"solid\"},\"marker\":{\"symbol\":\"circle\"},\"mode\":\"lines\",\"name\":\"PCAR\",\"orientation\":\"v\",\"showlegend\":true,\"x\":[\"4th_latest\",\"3rd_latest\",\"2nd_latest\",\"Latest\"],\"xaxis\":\"x\",\"y\":[2992300000.0,2860300000.0,2987200000.0,2186700000.0],\"yaxis\":\"y\",\"type\":\"scatter\"},{\"hovertemplate\":\"variable=PDD<br>index=%{x}<br>value=%{y}<extra></extra>\",\"legendgroup\":\"PDD\",\"line\":{\"color\":\"#FF97FF\",\"dash\":\"solid\"},\"marker\":{\"symbol\":\"circle\"},\"mode\":\"lines\",\"name\":\"PDD\",\"orientation\":\"v\",\"showlegend\":true,\"x\":[\"4th_latest\",\"3rd_latest\",\"2nd_latest\",\"Latest\"],\"xaxis\":\"x\",\"y\":[7767927000.0,14820976000.0,28196627000.0,28783011000.0],\"yaxis\":\"y\",\"type\":\"scatter\"},{\"hovertemplate\":\"variable=PEP<br>index=%{x}<br>value=%{y}<extra></extra>\",\"legendgroup\":\"PEP\",\"line\":{\"color\":\"#FECB52\",\"dash\":\"solid\"},\"marker\":{\"symbol\":\"circle\"},\"mode\":\"lines\",\"name\":\"PEP\",\"orientation\":\"v\",\"showlegend\":true,\"x\":[\"4th_latest\",\"3rd_latest\",\"2nd_latest\",\"Latest\"],\"xaxis\":\"x\",\"y\":[9415000000.0,9649000000.0,10613000000.0,11616000000.0],\"yaxis\":\"y\",\"type\":\"scatter\"},{\"hovertemplate\":\"variable=PYPL<br>index=%{x}<br>value=%{y}<extra></extra>\",\"legendgroup\":\"PYPL\",\"line\":{\"color\":\"#636efa\",\"dash\":\"solid\"},\"marker\":{\"symbol\":\"circle\"},\"mode\":\"lines\",\"name\":\"PYPL\",\"orientation\":\"v\",\"showlegend\":true,\"x\":[\"4th_latest\",\"3rd_latest\",\"2nd_latest\",\"Latest\"],\"xaxis\":\"x\",\"y\":[5480000000.0,4071000000.0,5854000000.0,6340000000.0],\"yaxis\":\"y\",\"type\":\"scatter\"},{\"hovertemplate\":\"variable=QCOM<br>index=%{x}<br>value=%{y}<extra></extra>\",\"legendgroup\":\"QCOM\",\"line\":{\"color\":\"#EF553B\",\"dash\":\"solid\"},\"marker\":{\"symbol\":\"circle\"},\"mode\":\"lines\",\"name\":\"QCOM\",\"orientation\":\"v\",\"showlegend\":true,\"x\":[\"4th_latest\",\"3rd_latest\",\"2nd_latest\",\"Latest\"],\"xaxis\":\"x\",\"y\":[3908000000.0,7286000000.0,5814000000.0,10536000000.0],\"yaxis\":\"y\",\"type\":\"scatter\"},{\"hovertemplate\":\"variable=REGN<br>index=%{x}<br>value=%{y}<extra></extra>\",\"legendgroup\":\"REGN\",\"line\":{\"color\":\"#00cc96\",\"dash\":\"solid\"},\"marker\":{\"symbol\":\"circle\"},\"mode\":\"lines\",\"name\":\"REGN\",\"orientation\":\"v\",\"showlegend\":true,\"x\":[\"4th_latest\",\"3rd_latest\",\"2nd_latest\",\"Latest\"],\"xaxis\":\"x\",\"y\":[2195100000.0,2430000000.0,2618100000.0,7081300000.0],\"yaxis\":\"y\",\"type\":\"scatter\"},{\"hovertemplate\":\"variable=ROST<br>index=%{x}<br>value=%{y}<extra></extra>\",\"legendgroup\":\"ROST\",\"line\":{\"color\":\"#ab63fa\",\"dash\":\"solid\"},\"marker\":{\"symbol\":\"circle\"},\"mode\":\"lines\",\"name\":\"ROST\",\"orientation\":\"v\",\"showlegend\":true,\"x\":[\"4th_latest\",\"3rd_latest\",\"2nd_latest\",\"Latest\"],\"xaxis\":\"x\",\"y\":[2066677000.0,2171546000.0,2245933000.0,1738849000.0],\"yaxis\":\"y\",\"type\":\"scatter\"},{\"hovertemplate\":\"variable=SBUX<br>index=%{x}<br>value=%{y}<extra></extra>\",\"legendgroup\":\"SBUX\",\"line\":{\"color\":\"#FFA15A\",\"dash\":\"solid\"},\"marker\":{\"symbol\":\"circle\"},\"mode\":\"lines\",\"name\":\"SBUX\",\"orientation\":\"v\",\"showlegend\":true,\"x\":[\"4th_latest\",\"3rd_latest\",\"2nd_latest\",\"Latest\"],\"xaxis\":\"x\",\"y\":[11937800000.0,5047000000.0,1597800000.0,5989100000.0],\"yaxis\":\"y\",\"type\":\"scatter\"},{\"hovertemplate\":\"variable=SGEN<br>index=%{x}<br>value=%{y}<extra></extra>\",\"legendgroup\":\"SGEN\",\"line\":{\"color\":\"#19d3f3\",\"dash\":\"solid\"},\"marker\":{\"symbol\":\"circle\"},\"mode\":\"lines\",\"name\":\"SGEN\",\"orientation\":\"v\",\"showlegend\":true,\"x\":[\"4th_latest\",\"3rd_latest\",\"2nd_latest\",\"Latest\"],\"xaxis\":\"x\",\"y\":[-203536000.0,-163737000.0,856568000.0,-499007000.0],\"yaxis\":\"y\",\"type\":\"scatter\"},{\"hovertemplate\":\"variable=SIRI<br>index=%{x}<br>value=%{y}<extra></extra>\",\"legendgroup\":\"SIRI\",\"line\":{\"color\":\"#FF6692\",\"dash\":\"solid\"},\"marker\":{\"symbol\":\"circle\"},\"mode\":\"lines\",\"name\":\"SIRI\",\"orientation\":\"v\",\"showlegend\":true,\"x\":[\"4th_latest\",\"3rd_latest\",\"2nd_latest\",\"Latest\"],\"xaxis\":\"x\",\"y\":[1880000000.0,2017000000.0,2018000000.0,1998000000.0],\"yaxis\":\"y\",\"type\":\"scatter\"},{\"hovertemplate\":\"variable=SNPS<br>index=%{x}<br>value=%{y}<extra></extra>\",\"legendgroup\":\"SNPS\",\"line\":{\"color\":\"#B6E880\",\"dash\":\"solid\"},\"marker\":{\"symbol\":\"circle\"},\"mode\":\"lines\",\"name\":\"SNPS\",\"orientation\":\"v\",\"showlegend\":true,\"x\":[\"4th_latest\",\"3rd_latest\",\"2nd_latest\",\"Latest\"],\"xaxis\":\"x\",\"y\":[424399000.0,800513000.0,991313000.0,1492622000.0],\"yaxis\":\"y\",\"type\":\"scatter\"},{\"hovertemplate\":\"variable=SPLK<br>index=%{x}<br>value=%{y}<extra></extra>\",\"legendgroup\":\"SPLK\",\"line\":{\"color\":\"#FF97FF\",\"dash\":\"solid\"},\"marker\":{\"symbol\":\"circle\"},\"mode\":\"lines\",\"name\":\"SPLK\",\"orientation\":\"v\",\"showlegend\":true,\"x\":[\"4th_latest\",\"3rd_latest\",\"2nd_latest\",\"Latest\"],\"xaxis\":\"x\",\"y\":[296454000.0,-287636000.0,-190862000.0,128048000.0],\"yaxis\":\"y\",\"type\":\"scatter\"},{\"hovertemplate\":\"variable=SWKS<br>index=%{x}<br>value=%{y}<extra></extra>\",\"legendgroup\":\"SWKS\",\"line\":{\"color\":\"#FECB52\",\"dash\":\"solid\"},\"marker\":{\"symbol\":\"circle\"},\"mode\":\"lines\",\"name\":\"SWKS\",\"orientation\":\"v\",\"showlegend\":true,\"x\":[\"4th_latest\",\"3rd_latest\",\"2nd_latest\",\"Latest\"],\"xaxis\":\"x\",\"y\":[1260600000.0,1367400000.0,1204500000.0,1772000000.0],\"yaxis\":\"y\",\"type\":\"scatter\"},{\"hovertemplate\":\"variable=TEAM<br>index=%{x}<br>value=%{y}<extra></extra>\",\"legendgroup\":\"TEAM\",\"line\":{\"color\":\"#636efa\",\"dash\":\"solid\"},\"marker\":{\"symbol\":\"circle\"},\"mode\":\"lines\",\"name\":\"TEAM\",\"orientation\":\"v\",\"showlegend\":true,\"x\":[\"4th_latest\",\"3rd_latest\",\"2nd_latest\",\"Latest\"],\"xaxis\":\"x\",\"y\":[466342000.0,574210000.0,841330000.0,883496000.0],\"yaxis\":\"y\",\"type\":\"scatter\"},{\"hovertemplate\":\"variable=TMUS<br>index=%{x}<br>value=%{y}<extra></extra>\",\"legendgroup\":\"TMUS\",\"line\":{\"color\":\"#EF553B\",\"dash\":\"solid\"},\"marker\":{\"symbol\":\"circle\"},\"mode\":\"lines\",\"name\":\"TMUS\",\"orientation\":\"v\",\"showlegend\":true,\"x\":[\"4th_latest\",\"3rd_latest\",\"2nd_latest\",\"Latest\"],\"xaxis\":\"x\",\"y\":[3899000000.0,6824000000.0,8640000000.0,13917000000.0],\"yaxis\":\"y\",\"type\":\"scatter\"},{\"hovertemplate\":\"variable=TSLA<br>index=%{x}<br>value=%{y}<extra></extra>\",\"legendgroup\":\"TSLA\",\"line\":{\"color\":\"#00cc96\",\"dash\":\"solid\"},\"marker\":{\"symbol\":\"circle\"},\"mode\":\"lines\",\"name\":\"TSLA\",\"orientation\":\"v\",\"showlegend\":true,\"x\":[\"4th_latest\",\"3rd_latest\",\"2nd_latest\",\"Latest\"],\"xaxis\":\"x\",\"y\":[2098000000.0,2405000000.0,5943000000.0,11497000000.0],\"yaxis\":\"y\",\"type\":\"scatter\"},{\"hovertemplate\":\"variable=TXN<br>index=%{x}<br>value=%{y}<extra></extra>\",\"legendgroup\":\"TXN\",\"line\":{\"color\":\"#ab63fa\",\"dash\":\"solid\"},\"marker\":{\"symbol\":\"circle\"},\"mode\":\"lines\",\"name\":\"TXN\",\"orientation\":\"v\",\"showlegend\":true,\"x\":[\"4th_latest\",\"3rd_latest\",\"2nd_latest\",\"Latest\"],\"xaxis\":\"x\",\"y\":[7189000000.0,6649000000.0,6139000000.0,8756000000.0],\"yaxis\":\"y\",\"type\":\"scatter\"},{\"hovertemplate\":\"variable=VRSK<br>index=%{x}<br>value=%{y}<extra></extra>\",\"legendgroup\":\"VRSK\",\"line\":{\"color\":\"#FFA15A\",\"dash\":\"solid\"},\"marker\":{\"symbol\":\"circle\"},\"mode\":\"lines\",\"name\":\"VRSK\",\"orientation\":\"v\",\"showlegend\":true,\"x\":[\"4th_latest\",\"3rd_latest\",\"2nd_latest\",\"Latest\"],\"xaxis\":\"x\",\"y\":[934400000.0,956300000.0,1068200000.0,1155700000.0],\"yaxis\":\"y\",\"type\":\"scatter\"},{\"hovertemplate\":\"variable=VRSN<br>index=%{x}<br>value=%{y}<extra></extra>\",\"legendgroup\":\"VRSN\",\"line\":{\"color\":\"#19d3f3\",\"dash\":\"solid\"},\"marker\":{\"symbol\":\"circle\"},\"mode\":\"lines\",\"name\":\"VRSN\",\"orientation\":\"v\",\"showlegend\":true,\"x\":[\"4th_latest\",\"3rd_latest\",\"2nd_latest\",\"Latest\"],\"xaxis\":\"x\",\"y\":[697767000.0,753892000.0,730183000.0,807152000.0],\"yaxis\":\"y\",\"type\":\"scatter\"},{\"hovertemplate\":\"variable=VRTX<br>index=%{x}<br>value=%{y}<extra></extra>\",\"legendgroup\":\"VRTX\",\"line\":{\"color\":\"#FF6692\",\"dash\":\"solid\"},\"marker\":{\"symbol\":\"circle\"},\"mode\":\"lines\",\"name\":\"VRTX\",\"orientation\":\"v\",\"showlegend\":true,\"x\":[\"4th_latest\",\"3rd_latest\",\"2nd_latest\",\"Latest\"],\"xaxis\":\"x\",\"y\":[1270286000.0,1569300000.0,3253500000.0,2643500000.0],\"yaxis\":\"y\",\"type\":\"scatter\"},{\"hovertemplate\":\"variable=WBA<br>index=%{x}<br>value=%{y}<extra></extra>\",\"legendgroup\":\"WBA\",\"line\":{\"color\":\"#B6E880\",\"dash\":\"solid\"},\"marker\":{\"symbol\":\"circle\"},\"mode\":\"lines\",\"name\":\"WBA\",\"orientation\":\"v\",\"showlegend\":true,\"x\":[\"4th_latest\",\"3rd_latest\",\"2nd_latest\",\"Latest\"],\"xaxis\":\"x\",\"y\":[8263000000.0,5594000000.0,5484000000.0,5555000000.0],\"yaxis\":\"y\",\"type\":\"scatter\"},{\"hovertemplate\":\"variable=WDAY<br>index=%{x}<br>value=%{y}<extra></extra>\",\"legendgroup\":\"WDAY\",\"line\":{\"color\":\"#FF97FF\",\"dash\":\"solid\"},\"marker\":{\"symbol\":\"circle\"},\"mode\":\"lines\",\"name\":\"WDAY\",\"orientation\":\"v\",\"showlegend\":true,\"x\":[\"4th_latest\",\"3rd_latest\",\"2nd_latest\",\"Latest\"],\"xaxis\":\"x\",\"y\":[606658000.0,864598000.0,1268441000.0,1650704000.0],\"yaxis\":\"y\",\"type\":\"scatter\"},{\"hovertemplate\":\"variable=XEL<br>index=%{x}<br>value=%{y}<extra></extra>\",\"legendgroup\":\"XEL\",\"line\":{\"color\":\"#FECB52\",\"dash\":\"solid\"},\"marker\":{\"symbol\":\"circle\"},\"mode\":\"lines\",\"name\":\"XEL\",\"orientation\":\"v\",\"showlegend\":true,\"x\":[\"4th_latest\",\"3rd_latest\",\"2nd_latest\",\"Latest\"],\"xaxis\":\"x\",\"y\":[3122000000.0,3263000000.0,2848000000.0,2189000000.0],\"yaxis\":\"y\",\"type\":\"scatter\"},{\"hovertemplate\":\"variable=ZM<br>index=%{x}<br>value=%{y}<extra></extra>\",\"legendgroup\":\"ZM\",\"line\":{\"color\":\"#636efa\",\"dash\":\"solid\"},\"marker\":{\"symbol\":\"circle\"},\"mode\":\"lines\",\"name\":\"ZM\",\"orientation\":\"v\",\"showlegend\":true,\"x\":[\"4th_latest\",\"3rd_latest\",\"2nd_latest\",\"Latest\"],\"xaxis\":\"x\",\"y\":[51332000.0,151892000.0,1471177000.0,1605266000.0],\"yaxis\":\"y\",\"type\":\"scatter\"},{\"hovertemplate\":\"variable=ZS<br>index=%{x}<br>value=%{y}<extra></extra>\",\"legendgroup\":\"ZS\",\"line\":{\"color\":\"#EF553B\",\"dash\":\"solid\"},\"marker\":{\"symbol\":\"circle\"},\"mode\":\"lines\",\"name\":\"ZS\",\"orientation\":\"v\",\"showlegend\":true,\"x\":[\"4th_latest\",\"3rd_latest\",\"2nd_latest\",\"Latest\"],\"xaxis\":\"x\",\"y\":[17307000.0,58027000.0,79317000.0,202040000.0],\"yaxis\":\"y\",\"type\":\"scatter\"}],                        {\"template\":{\"data\":{\"bar\":[{\"error_x\":{\"color\":\"#2a3f5f\"},\"error_y\":{\"color\":\"#2a3f5f\"},\"marker\":{\"line\":{\"color\":\"#E5ECF6\",\"width\":0.5},\"pattern\":{\"fillmode\":\"overlay\",\"size\":10,\"solidity\":0.2}},\"type\":\"bar\"}],\"barpolar\":[{\"marker\":{\"line\":{\"color\":\"#E5ECF6\",\"width\":0.5},\"pattern\":{\"fillmode\":\"overlay\",\"size\":10,\"solidity\":0.2}},\"type\":\"barpolar\"}],\"carpet\":[{\"aaxis\":{\"endlinecolor\":\"#2a3f5f\",\"gridcolor\":\"white\",\"linecolor\":\"white\",\"minorgridcolor\":\"white\",\"startlinecolor\":\"#2a3f5f\"},\"baxis\":{\"endlinecolor\":\"#2a3f5f\",\"gridcolor\":\"white\",\"linecolor\":\"white\",\"minorgridcolor\":\"white\",\"startlinecolor\":\"#2a3f5f\"},\"type\":\"carpet\"}],\"choropleth\":[{\"colorbar\":{\"outlinewidth\":0,\"ticks\":\"\"},\"type\":\"choropleth\"}],\"contour\":[{\"colorbar\":{\"outlinewidth\":0,\"ticks\":\"\"},\"colorscale\":[[0.0,\"#0d0887\"],[0.1111111111111111,\"#46039f\"],[0.2222222222222222,\"#7201a8\"],[0.3333333333333333,\"#9c179e\"],[0.4444444444444444,\"#bd3786\"],[0.5555555555555556,\"#d8576b\"],[0.6666666666666666,\"#ed7953\"],[0.7777777777777778,\"#fb9f3a\"],[0.8888888888888888,\"#fdca26\"],[1.0,\"#f0f921\"]],\"type\":\"contour\"}],\"contourcarpet\":[{\"colorbar\":{\"outlinewidth\":0,\"ticks\":\"\"},\"type\":\"contourcarpet\"}],\"heatmap\":[{\"colorbar\":{\"outlinewidth\":0,\"ticks\":\"\"},\"colorscale\":[[0.0,\"#0d0887\"],[0.1111111111111111,\"#46039f\"],[0.2222222222222222,\"#7201a8\"],[0.3333333333333333,\"#9c179e\"],[0.4444444444444444,\"#bd3786\"],[0.5555555555555556,\"#d8576b\"],[0.6666666666666666,\"#ed7953\"],[0.7777777777777778,\"#fb9f3a\"],[0.8888888888888888,\"#fdca26\"],[1.0,\"#f0f921\"]],\"type\":\"heatmap\"}],\"heatmapgl\":[{\"colorbar\":{\"outlinewidth\":0,\"ticks\":\"\"},\"colorscale\":[[0.0,\"#0d0887\"],[0.1111111111111111,\"#46039f\"],[0.2222222222222222,\"#7201a8\"],[0.3333333333333333,\"#9c179e\"],[0.4444444444444444,\"#bd3786\"],[0.5555555555555556,\"#d8576b\"],[0.6666666666666666,\"#ed7953\"],[0.7777777777777778,\"#fb9f3a\"],[0.8888888888888888,\"#fdca26\"],[1.0,\"#f0f921\"]],\"type\":\"heatmapgl\"}],\"histogram\":[{\"marker\":{\"pattern\":{\"fillmode\":\"overlay\",\"size\":10,\"solidity\":0.2}},\"type\":\"histogram\"}],\"histogram2d\":[{\"colorbar\":{\"outlinewidth\":0,\"ticks\":\"\"},\"colorscale\":[[0.0,\"#0d0887\"],[0.1111111111111111,\"#46039f\"],[0.2222222222222222,\"#7201a8\"],[0.3333333333333333,\"#9c179e\"],[0.4444444444444444,\"#bd3786\"],[0.5555555555555556,\"#d8576b\"],[0.6666666666666666,\"#ed7953\"],[0.7777777777777778,\"#fb9f3a\"],[0.8888888888888888,\"#fdca26\"],[1.0,\"#f0f921\"]],\"type\":\"histogram2d\"}],\"histogram2dcontour\":[{\"colorbar\":{\"outlinewidth\":0,\"ticks\":\"\"},\"colorscale\":[[0.0,\"#0d0887\"],[0.1111111111111111,\"#46039f\"],[0.2222222222222222,\"#7201a8\"],[0.3333333333333333,\"#9c179e\"],[0.4444444444444444,\"#bd3786\"],[0.5555555555555556,\"#d8576b\"],[0.6666666666666666,\"#ed7953\"],[0.7777777777777778,\"#fb9f3a\"],[0.8888888888888888,\"#fdca26\"],[1.0,\"#f0f921\"]],\"type\":\"histogram2dcontour\"}],\"mesh3d\":[{\"colorbar\":{\"outlinewidth\":0,\"ticks\":\"\"},\"type\":\"mesh3d\"}],\"parcoords\":[{\"line\":{\"colorbar\":{\"outlinewidth\":0,\"ticks\":\"\"}},\"type\":\"parcoords\"}],\"pie\":[{\"automargin\":true,\"type\":\"pie\"}],\"scatter\":[{\"marker\":{\"colorbar\":{\"outlinewidth\":0,\"ticks\":\"\"}},\"type\":\"scatter\"}],\"scatter3d\":[{\"line\":{\"colorbar\":{\"outlinewidth\":0,\"ticks\":\"\"}},\"marker\":{\"colorbar\":{\"outlinewidth\":0,\"ticks\":\"\"}},\"type\":\"scatter3d\"}],\"scattercarpet\":[{\"marker\":{\"colorbar\":{\"outlinewidth\":0,\"ticks\":\"\"}},\"type\":\"scattercarpet\"}],\"scattergeo\":[{\"marker\":{\"colorbar\":{\"outlinewidth\":0,\"ticks\":\"\"}},\"type\":\"scattergeo\"}],\"scattergl\":[{\"marker\":{\"colorbar\":{\"outlinewidth\":0,\"ticks\":\"\"}},\"type\":\"scattergl\"}],\"scattermapbox\":[{\"marker\":{\"colorbar\":{\"outlinewidth\":0,\"ticks\":\"\"}},\"type\":\"scattermapbox\"}],\"scatterpolar\":[{\"marker\":{\"colorbar\":{\"outlinewidth\":0,\"ticks\":\"\"}},\"type\":\"scatterpolar\"}],\"scatterpolargl\":[{\"marker\":{\"colorbar\":{\"outlinewidth\":0,\"ticks\":\"\"}},\"type\":\"scatterpolargl\"}],\"scatterternary\":[{\"marker\":{\"colorbar\":{\"outlinewidth\":0,\"ticks\":\"\"}},\"type\":\"scatterternary\"}],\"surface\":[{\"colorbar\":{\"outlinewidth\":0,\"ticks\":\"\"},\"colorscale\":[[0.0,\"#0d0887\"],[0.1111111111111111,\"#46039f\"],[0.2222222222222222,\"#7201a8\"],[0.3333333333333333,\"#9c179e\"],[0.4444444444444444,\"#bd3786\"],[0.5555555555555556,\"#d8576b\"],[0.6666666666666666,\"#ed7953\"],[0.7777777777777778,\"#fb9f3a\"],[0.8888888888888888,\"#fdca26\"],[1.0,\"#f0f921\"]],\"type\":\"surface\"}],\"table\":[{\"cells\":{\"fill\":{\"color\":\"#EBF0F8\"},\"line\":{\"color\":\"white\"}},\"header\":{\"fill\":{\"color\":\"#C8D4E3\"},\"line\":{\"color\":\"white\"}},\"type\":\"table\"}]},\"layout\":{\"annotationdefaults\":{\"arrowcolor\":\"#2a3f5f\",\"arrowhead\":0,\"arrowwidth\":1},\"autotypenumbers\":\"strict\",\"coloraxis\":{\"colorbar\":{\"outlinewidth\":0,\"ticks\":\"\"}},\"colorscale\":{\"diverging\":[[0,\"#8e0152\"],[0.1,\"#c51b7d\"],[0.2,\"#de77ae\"],[0.3,\"#f1b6da\"],[0.4,\"#fde0ef\"],[0.5,\"#f7f7f7\"],[0.6,\"#e6f5d0\"],[0.7,\"#b8e186\"],[0.8,\"#7fbc41\"],[0.9,\"#4d9221\"],[1,\"#276419\"]],\"sequential\":[[0.0,\"#0d0887\"],[0.1111111111111111,\"#46039f\"],[0.2222222222222222,\"#7201a8\"],[0.3333333333333333,\"#9c179e\"],[0.4444444444444444,\"#bd3786\"],[0.5555555555555556,\"#d8576b\"],[0.6666666666666666,\"#ed7953\"],[0.7777777777777778,\"#fb9f3a\"],[0.8888888888888888,\"#fdca26\"],[1.0,\"#f0f921\"]],\"sequentialminus\":[[0.0,\"#0d0887\"],[0.1111111111111111,\"#46039f\"],[0.2222222222222222,\"#7201a8\"],[0.3333333333333333,\"#9c179e\"],[0.4444444444444444,\"#bd3786\"],[0.5555555555555556,\"#d8576b\"],[0.6666666666666666,\"#ed7953\"],[0.7777777777777778,\"#fb9f3a\"],[0.8888888888888888,\"#fdca26\"],[1.0,\"#f0f921\"]]},\"colorway\":[\"#636efa\",\"#EF553B\",\"#00cc96\",\"#ab63fa\",\"#FFA15A\",\"#19d3f3\",\"#FF6692\",\"#B6E880\",\"#FF97FF\",\"#FECB52\"],\"font\":{\"color\":\"#2a3f5f\"},\"geo\":{\"bgcolor\":\"white\",\"lakecolor\":\"white\",\"landcolor\":\"#E5ECF6\",\"showlakes\":true,\"showland\":true,\"subunitcolor\":\"white\"},\"hoverlabel\":{\"align\":\"left\"},\"hovermode\":\"closest\",\"mapbox\":{\"style\":\"light\"},\"paper_bgcolor\":\"white\",\"plot_bgcolor\":\"#E5ECF6\",\"polar\":{\"angularaxis\":{\"gridcolor\":\"white\",\"linecolor\":\"white\",\"ticks\":\"\"},\"bgcolor\":\"#E5ECF6\",\"radialaxis\":{\"gridcolor\":\"white\",\"linecolor\":\"white\",\"ticks\":\"\"}},\"scene\":{\"xaxis\":{\"backgroundcolor\":\"#E5ECF6\",\"gridcolor\":\"white\",\"gridwidth\":2,\"linecolor\":\"white\",\"showbackground\":true,\"ticks\":\"\",\"zerolinecolor\":\"white\"},\"yaxis\":{\"backgroundcolor\":\"#E5ECF6\",\"gridcolor\":\"white\",\"gridwidth\":2,\"linecolor\":\"white\",\"showbackground\":true,\"ticks\":\"\",\"zerolinecolor\":\"white\"},\"zaxis\":{\"backgroundcolor\":\"#E5ECF6\",\"gridcolor\":\"white\",\"gridwidth\":2,\"linecolor\":\"white\",\"showbackground\":true,\"ticks\":\"\",\"zerolinecolor\":\"white\"}},\"shapedefaults\":{\"line\":{\"color\":\"#2a3f5f\"}},\"ternary\":{\"aaxis\":{\"gridcolor\":\"white\",\"linecolor\":\"white\",\"ticks\":\"\"},\"baxis\":{\"gridcolor\":\"white\",\"linecolor\":\"white\",\"ticks\":\"\"},\"bgcolor\":\"#E5ECF6\",\"caxis\":{\"gridcolor\":\"white\",\"linecolor\":\"white\",\"ticks\":\"\"}},\"title\":{\"x\":0.05},\"xaxis\":{\"automargin\":true,\"gridcolor\":\"white\",\"linecolor\":\"white\",\"ticks\":\"\",\"title\":{\"standoff\":15},\"zerolinecolor\":\"white\",\"zerolinewidth\":2},\"yaxis\":{\"automargin\":true,\"gridcolor\":\"white\",\"linecolor\":\"white\",\"ticks\":\"\",\"title\":{\"standoff\":15},\"zerolinecolor\":\"white\",\"zerolinewidth\":2}}},\"xaxis\":{\"anchor\":\"y\",\"domain\":[0.0,1.0],\"title\":{\"text\":\"index\"}},\"yaxis\":{\"anchor\":\"x\",\"domain\":[0.0,1.0],\"title\":{\"text\":\"value\"}},\"legend\":{\"title\":{\"text\":\"variable\"},\"tracegroupgap\":0},\"margin\":{\"t\":60}},                        {\"responsive\": true}                    ).then(function(){\n",
              "                            \n",
              "var gd = document.getElementById('7f5e4b47-0ef6-4696-90ad-9400199c0307');\n",
              "var x = new MutationObserver(function (mutations, observer) {{\n",
              "        var display = window.getComputedStyle(gd).display;\n",
              "        if (!display || display === 'none') {{\n",
              "            console.log([gd, 'removed!']);\n",
              "            Plotly.purge(gd);\n",
              "            observer.disconnect();\n",
              "        }}\n",
              "}});\n",
              "\n",
              "// Listen for the removal of the full notebook cells\n",
              "var notebookContainer = gd.closest('#notebook-container');\n",
              "if (notebookContainer) {{\n",
              "    x.observe(notebookContainer, {childList: true});\n",
              "}}\n",
              "\n",
              "// Listen for the clearing of the current output cell\n",
              "var outputEl = gd.closest('.output');\n",
              "if (outputEl) {{\n",
              "    x.observe(outputEl, {childList: true});\n",
              "}}\n",
              "\n",
              "                        })                };                            </script>        </div>\n",
              "</body>\n",
              "</html>"
            ]
          },
          "metadata": {}
        }
      ]
    },
    {
      "cell_type": "code",
      "source": [
        "import requests\n",
        "url_link = 'https://sg.finance.yahoo.com/quote/%5EHSI/components/'\n",
        "r = requests.get(url_link,headers = {'User-Agent':'Mozilla/5.0 (Windows NT 10.0; Win64; x64) AppleWebKit/537.36 (KHTML, like Gecko) Chrome/91.0.4472.124 Safari/537.36'})\n",
        "df = pd.read_html(r.text)[0]\n"
      ],
      "metadata": {
        "id": "8HEviRuc3cE6"
      },
      "execution_count": null,
      "outputs": []
    },
    {
      "cell_type": "code",
      "source": [
        "list_hsi = df['Symbol'].to_list()"
      ],
      "metadata": {
        "id": "JV_WMc944Y6t"
      },
      "execution_count": null,
      "outputs": []
    },
    {
      "cell_type": "code",
      "source": [
        "data_hsi = []\n",
        "for i in list_hsi:\n",
        "  opcf = si.get_cash_flow(i, yearly = True).transpose()\n",
        "  value1 = opcf['totalCashFromOperatingActivities'].to_list()\n",
        "  data_hsi.append(value1)"
      ],
      "metadata": {
        "id": "h7syCWP_JAEP"
      },
      "execution_count": null,
      "outputs": []
    },
    {
      "cell_type": "code",
      "source": [
        "df_hsi = pd.DataFrame(data_hsi, index = list_hsi, columns = ['Latest', '2nd_latest', '3rd_latest', '4th_latest'])\n",
        "df_hsi = df_hsi[['4th_latest','3rd_latest','2nd_latest','Latest']]\n",
        "hsi = df_hsi.transpose()\n",
        "fig = px.line(hsi)\n",
        "fig.show()"
      ],
      "metadata": {
        "colab": {
          "base_uri": "https://localhost:8080/",
          "height": 542
        },
        "id": "sdrohJ0447Hb",
        "outputId": "6a942a82-bd16-4597-cace-7043a4472f89"
      },
      "execution_count": null,
      "outputs": [
        {
          "output_type": "display_data",
          "data": {
            "text/html": [
              "<html>\n",
              "<head><meta charset=\"utf-8\" /></head>\n",
              "<body>\n",
              "    <div>            <script src=\"https://cdnjs.cloudflare.com/ajax/libs/mathjax/2.7.5/MathJax.js?config=TeX-AMS-MML_SVG\"></script><script type=\"text/javascript\">if (window.MathJax) {MathJax.Hub.Config({SVG: {font: \"STIX-Web\"}});}</script>                <script type=\"text/javascript\">window.PlotlyConfig = {MathJaxConfig: 'local'};</script>\n",
              "        <script src=\"https://cdn.plot.ly/plotly-2.8.3.min.js\"></script>                <div id=\"91aea506-ee79-4438-b80a-9c7cc827fa63\" class=\"plotly-graph-div\" style=\"height:525px; width:100%;\"></div>            <script type=\"text/javascript\">                                    window.PLOTLYENV=window.PLOTLYENV || {};                                    if (document.getElementById(\"91aea506-ee79-4438-b80a-9c7cc827fa63\")) {                    Plotly.newPlot(                        \"91aea506-ee79-4438-b80a-9c7cc827fa63\",                        [{\"hovertemplate\":\"variable=0669.HK<br>index=%{x}<br>value=%{y}<extra></extra>\",\"legendgroup\":\"0669.HK\",\"line\":{\"color\":\"#636efa\",\"dash\":\"solid\"},\"marker\":{\"symbol\":\"circle\"},\"mode\":\"lines\",\"name\":\"0669.HK\",\"orientation\":\"v\",\"showlegend\":true,\"x\":[\"4th_latest\",\"3rd_latest\",\"2nd_latest\",\"Latest\"],\"xaxis\":\"x\",\"y\":[793640000.0,724273000.0,1159065000.0,-100945000.0],\"yaxis\":\"y\",\"type\":\"scatter\"},{\"hovertemplate\":\"variable=0012.HK<br>index=%{x}<br>value=%{y}<extra></extra>\",\"legendgroup\":\"0012.HK\",\"line\":{\"color\":\"#EF553B\",\"dash\":\"solid\"},\"marker\":{\"symbol\":\"circle\"},\"mode\":\"lines\",\"name\":\"0012.HK\",\"orientation\":\"v\",\"showlegend\":true,\"x\":[\"4th_latest\",\"3rd_latest\",\"2nd_latest\",\"Latest\"],\"xaxis\":\"x\",\"y\":[3824000000.0,6744000000.0,7072000000.0,685000000.0],\"yaxis\":\"y\",\"type\":\"scatter\"},{\"hovertemplate\":\"variable=0002.HK<br>index=%{x}<br>value=%{y}<extra></extra>\",\"legendgroup\":\"0002.HK\",\"line\":{\"color\":\"#00cc96\",\"dash\":\"solid\"},\"marker\":{\"symbol\":\"circle\"},\"mode\":\"lines\",\"name\":\"0002.HK\",\"orientation\":\"v\",\"showlegend\":true,\"x\":[\"4th_latest\",\"3rd_latest\",\"2nd_latest\",\"Latest\"],\"xaxis\":\"x\",\"y\":[23951000000.0,21345000000.0,22374000000.0,18078000000.0],\"yaxis\":\"y\",\"type\":\"scatter\"},{\"hovertemplate\":\"variable=6098.HK<br>index=%{x}<br>value=%{y}<extra></extra>\",\"legendgroup\":\"6098.HK\",\"line\":{\"color\":\"#ab63fa\",\"dash\":\"solid\"},\"marker\":{\"symbol\":\"circle\"},\"mode\":\"lines\",\"name\":\"6098.HK\",\"orientation\":\"v\",\"showlegend\":true,\"x\":[\"4th_latest\",\"3rd_latest\",\"2nd_latest\",\"Latest\"],\"xaxis\":\"x\",\"y\":[1548676000.0,3257206000.0,3613664000.0,3407373000.0],\"yaxis\":\"y\",\"type\":\"scatter\"},{\"hovertemplate\":\"variable=0003.HK<br>index=%{x}<br>value=%{y}<extra></extra>\",\"legendgroup\":\"0003.HK\",\"line\":{\"color\":\"#FFA15A\",\"dash\":\"solid\"},\"marker\":{\"symbol\":\"circle\"},\"mode\":\"lines\",\"name\":\"0003.HK\",\"orientation\":\"v\",\"showlegend\":true,\"x\":[\"4th_latest\",\"3rd_latest\",\"2nd_latest\",\"Latest\"],\"xaxis\":\"x\",\"y\":[9438900000.0,9912400000.0,9910200000.0,10469500000.0],\"yaxis\":\"y\",\"type\":\"scatter\"},{\"hovertemplate\":\"variable=0101.HK<br>index=%{x}<br>value=%{y}<extra></extra>\",\"legendgroup\":\"0101.HK\",\"line\":{\"color\":\"#19d3f3\",\"dash\":\"solid\"},\"marker\":{\"symbol\":\"circle\"},\"mode\":\"lines\",\"name\":\"0101.HK\",\"orientation\":\"v\",\"showlegend\":true,\"x\":[\"4th_latest\",\"3rd_latest\",\"2nd_latest\",\"Latest\"],\"xaxis\":\"x\",\"y\":[5738000000.0,5319000000.0,3413000000.0,2732000000.0],\"yaxis\":\"y\",\"type\":\"scatter\"},{\"hovertemplate\":\"variable=2269.HK<br>index=%{x}<br>value=%{y}<extra></extra>\",\"legendgroup\":\"2269.HK\",\"line\":{\"color\":\"#FF6692\",\"dash\":\"solid\"},\"marker\":{\"symbol\":\"circle\"},\"mode\":\"lines\",\"name\":\"2269.HK\",\"orientation\":\"v\",\"showlegend\":true,\"x\":[\"4th_latest\",\"3rd_latest\",\"2nd_latest\",\"Latest\"],\"xaxis\":\"x\",\"y\":[761607000.0,1208079000.0,1881276000.0,3431258000.0],\"yaxis\":\"y\",\"type\":\"scatter\"},{\"hovertemplate\":\"variable=0241.HK<br>index=%{x}<br>value=%{y}<extra></extra>\",\"legendgroup\":\"0241.HK\",\"line\":{\"color\":\"#B6E880\",\"dash\":\"solid\"},\"marker\":{\"symbol\":\"circle\"},\"mode\":\"lines\",\"name\":\"0241.HK\",\"orientation\":\"v\",\"showlegend\":true,\"x\":[\"4th_latest\",\"3rd_latest\",\"2nd_latest\",\"Latest\"],\"xaxis\":\"x\",\"y\":[396370000.0,583615000.0,1009427000.0,424363000.0],\"yaxis\":\"y\",\"type\":\"scatter\"},{\"hovertemplate\":\"variable=1810.HK<br>index=%{x}<br>value=%{y}<extra></extra>\",\"legendgroup\":\"1810.HK\",\"line\":{\"color\":\"#FF97FF\",\"dash\":\"solid\"},\"marker\":{\"symbol\":\"circle\"},\"mode\":\"lines\",\"name\":\"1810.HK\",\"orientation\":\"v\",\"showlegend\":true,\"x\":[\"4th_latest\",\"3rd_latest\",\"2nd_latest\",\"Latest\"],\"xaxis\":\"x\",\"y\":[-1414571000.0,23810354000.0,21878500000.0,9785288000.0],\"yaxis\":\"y\",\"type\":\"scatter\"},{\"hovertemplate\":\"variable=1044.HK<br>index=%{x}<br>value=%{y}<extra></extra>\",\"legendgroup\":\"1044.HK\",\"line\":{\"color\":\"#FECB52\",\"dash\":\"solid\"},\"marker\":{\"symbol\":\"circle\"},\"mode\":\"lines\",\"name\":\"1044.HK\",\"orientation\":\"v\",\"showlegend\":true,\"x\":[\"4th_latest\",\"3rd_latest\",\"2nd_latest\",\"Latest\"],\"xaxis\":\"x\",\"y\":[3961901000.0,3415858000.0,5041666000.0,4603606000.0],\"yaxis\":\"y\",\"type\":\"scatter\"},{\"hovertemplate\":\"variable=0960.HK<br>index=%{x}<br>value=%{y}<extra></extra>\",\"legendgroup\":\"0960.HK\",\"line\":{\"color\":\"#636efa\",\"dash\":\"solid\"},\"marker\":{\"symbol\":\"circle\"},\"mode\":\"lines\",\"name\":\"0960.HK\",\"orientation\":\"v\",\"showlegend\":true,\"x\":[\"4th_latest\",\"3rd_latest\",\"2nd_latest\",\"Latest\"],\"xaxis\":\"x\",\"y\":[63191600000.0,34276402000.0,36729846000.0,28532206000.0],\"yaxis\":\"y\",\"type\":\"scatter\"},{\"hovertemplate\":\"variable=2319.HK<br>index=%{x}<br>value=%{y}<extra></extra>\",\"legendgroup\":\"2319.HK\",\"line\":{\"color\":\"#EF553B\",\"dash\":\"solid\"},\"marker\":{\"symbol\":\"circle\"},\"mode\":\"lines\",\"name\":\"2319.HK\",\"orientation\":\"v\",\"showlegend\":true,\"x\":[\"4th_latest\",\"3rd_latest\",\"2nd_latest\",\"Latest\"],\"xaxis\":\"x\",\"y\":[6363454000.0,6307159000.0,5347678000.0,7544679000.0],\"yaxis\":\"y\",\"type\":\"scatter\"},{\"hovertemplate\":\"variable=1038.HK<br>index=%{x}<br>value=%{y}<extra></extra>\",\"legendgroup\":\"1038.HK\",\"line\":{\"color\":\"#00cc96\",\"dash\":\"solid\"},\"marker\":{\"symbol\":\"circle\"},\"mode\":\"lines\",\"name\":\"1038.HK\",\"orientation\":\"v\",\"showlegend\":true,\"x\":[\"4th_latest\",\"3rd_latest\",\"2nd_latest\",\"Latest\"],\"xaxis\":\"x\",\"y\":[3882000000.0,3236000000.0,2825000000.0,3055000000.0],\"yaxis\":\"y\",\"type\":\"scatter\"},{\"hovertemplate\":\"variable=2688.HK<br>index=%{x}<br>value=%{y}<extra></extra>\",\"legendgroup\":\"2688.HK\",\"line\":{\"color\":\"#ab63fa\",\"dash\":\"solid\"},\"marker\":{\"symbol\":\"circle\"},\"mode\":\"lines\",\"name\":\"2688.HK\",\"orientation\":\"v\",\"showlegend\":true,\"x\":[\"4th_latest\",\"3rd_latest\",\"2nd_latest\",\"Latest\"],\"xaxis\":\"x\",\"y\":[8294000000.0,11690000000.0,9696000000.0,10466000000.0],\"yaxis\":\"y\",\"type\":\"scatter\"},{\"hovertemplate\":\"variable=0883.HK<br>index=%{x}<br>value=%{y}<extra></extra>\",\"legendgroup\":\"0883.HK\",\"line\":{\"color\":\"#FFA15A\",\"dash\":\"solid\"},\"marker\":{\"symbol\":\"circle\"},\"mode\":\"lines\",\"name\":\"0883.HK\",\"orientation\":\"v\",\"showlegend\":true,\"x\":[\"4th_latest\",\"3rd_latest\",\"2nd_latest\",\"Latest\"],\"xaxis\":\"x\",\"y\":[124398000000.0,123521000000.0,82338000000.0,147893000000.0],\"yaxis\":\"y\",\"type\":\"scatter\"},{\"hovertemplate\":\"variable=0017.HK<br>index=%{x}<br>value=%{y}<extra></extra>\",\"legendgroup\":\"0017.HK\",\"line\":{\"color\":\"#19d3f3\",\"dash\":\"solid\"},\"marker\":{\"symbol\":\"circle\"},\"mode\":\"lines\",\"name\":\"0017.HK\",\"orientation\":\"v\",\"showlegend\":true,\"x\":[\"4th_latest\",\"3rd_latest\",\"2nd_latest\",\"Latest\"],\"xaxis\":\"x\",\"y\":[7010800000.0,-10289700000.0,9646300000.0,null],\"yaxis\":\"y\",\"type\":\"scatter\"},{\"hovertemplate\":\"variable=9988.HK<br>index=%{x}<br>value=%{y}<extra></extra>\",\"legendgroup\":\"9988.HK\",\"line\":{\"color\":\"#FF6692\",\"dash\":\"solid\"},\"marker\":{\"symbol\":\"circle\"},\"mode\":\"lines\",\"name\":\"9988.HK\",\"orientation\":\"v\",\"showlegend\":true,\"x\":[\"4th_latest\",\"3rd_latest\",\"2nd_latest\",\"Latest\"],\"xaxis\":\"x\",\"y\":[150975000000.0,180607000000.0,231786000000.0,142759000000.0],\"yaxis\":\"y\",\"type\":\"scatter\"},{\"hovertemplate\":\"variable=9633.HK<br>index=%{x}<br>value=%{y}<extra></extra>\",\"legendgroup\":\"9633.HK\",\"line\":{\"color\":\"#B6E880\",\"dash\":\"solid\"},\"marker\":{\"symbol\":\"circle\"},\"mode\":\"lines\",\"name\":\"9633.HK\",\"orientation\":\"v\",\"showlegend\":true,\"x\":[\"4th_latest\",\"3rd_latest\",\"2nd_latest\",\"Latest\"],\"xaxis\":\"x\",\"y\":[4629726000.0,7471839000.0,8429173000.0,11400270000.0],\"yaxis\":\"y\",\"type\":\"scatter\"},{\"hovertemplate\":\"variable=9618.HK<br>index=%{x}<br>value=%{y}<extra></extra>\",\"legendgroup\":\"9618.HK\",\"line\":{\"color\":\"#FF97FF\",\"dash\":\"solid\"},\"marker\":{\"symbol\":\"circle\"},\"mode\":\"lines\",\"name\":\"9618.HK\",\"orientation\":\"v\",\"showlegend\":true,\"x\":[\"4th_latest\",\"3rd_latest\",\"2nd_latest\",\"Latest\"],\"xaxis\":\"x\",\"y\":[20881422000.0,24781000000.0,42544000000.0,42301000000.0],\"yaxis\":\"y\",\"type\":\"scatter\"},{\"hovertemplate\":\"variable=0267.HK<br>index=%{x}<br>value=%{y}<extra></extra>\",\"legendgroup\":\"0267.HK\",\"line\":{\"color\":\"#FECB52\",\"dash\":\"solid\"},\"marker\":{\"symbol\":\"circle\"},\"mode\":\"lines\",\"name\":\"0267.HK\",\"orientation\":\"v\",\"showlegend\":true,\"x\":[\"4th_latest\",\"3rd_latest\",\"2nd_latest\",\"Latest\"],\"xaxis\":\"x\",\"y\":[151899000000.0,160082000000.0,193225000000.0,-40694000000.0],\"yaxis\":\"y\",\"type\":\"scatter\"},{\"hovertemplate\":\"variable=1109.HK<br>index=%{x}<br>value=%{y}<extra></extra>\",\"legendgroup\":\"1109.HK\",\"line\":{\"color\":\"#636efa\",\"dash\":\"solid\"},\"marker\":{\"symbol\":\"circle\"},\"mode\":\"lines\",\"name\":\"1109.HK\",\"orientation\":\"v\",\"showlegend\":true,\"x\":[\"4th_latest\",\"3rd_latest\",\"2nd_latest\",\"Latest\"],\"xaxis\":\"x\",\"y\":[27234933000.0,33796750000.0,22327730000.0,7028263000.0],\"yaxis\":\"y\",\"type\":\"scatter\"},{\"hovertemplate\":\"variable=0992.HK<br>index=%{x}<br>value=%{y}<extra></extra>\",\"legendgroup\":\"0992.HK\",\"line\":{\"color\":\"#EF553B\",\"dash\":\"solid\"},\"marker\":{\"symbol\":\"circle\"},\"mode\":\"lines\",\"name\":\"0992.HK\",\"orientation\":\"v\",\"showlegend\":true,\"x\":[\"4th_latest\",\"3rd_latest\",\"2nd_latest\",\"Latest\"],\"xaxis\":\"x\",\"y\":[1472573000.0,2209923000.0,3652773000.0,4076979000.0],\"yaxis\":\"y\",\"type\":\"scatter\"},{\"hovertemplate\":\"variable=0027.HK<br>index=%{x}<br>value=%{y}<extra></extra>\",\"legendgroup\":\"0027.HK\",\"line\":{\"color\":\"#00cc96\",\"dash\":\"solid\"},\"marker\":{\"symbol\":\"circle\"},\"mode\":\"lines\",\"name\":\"0027.HK\",\"orientation\":\"v\",\"showlegend\":true,\"x\":[\"4th_latest\",\"3rd_latest\",\"2nd_latest\",\"Latest\"],\"xaxis\":\"x\",\"y\":[13783715000.0,19442269000.0,-7631338000.0,-3487213000.0],\"yaxis\":\"y\",\"type\":\"scatter\"},{\"hovertemplate\":\"variable=2628.HK<br>index=%{x}<br>value=%{y}<extra></extra>\",\"legendgroup\":\"2628.HK\",\"line\":{\"color\":\"#ab63fa\",\"dash\":\"solid\"},\"marker\":{\"symbol\":\"circle\"},\"mode\":\"lines\",\"name\":\"2628.HK\",\"orientation\":\"v\",\"showlegend\":true,\"x\":[\"4th_latest\",\"3rd_latest\",\"2nd_latest\",\"Latest\"],\"xaxis\":\"x\",\"y\":[147552000000.0,286032000000.0,304019000000.0,286448000000.0],\"yaxis\":\"y\",\"type\":\"scatter\"},{\"hovertemplate\":\"variable=0386.HK<br>index=%{x}<br>value=%{y}<extra></extra>\",\"legendgroup\":\"0386.HK\",\"line\":{\"color\":\"#FFA15A\",\"dash\":\"solid\"},\"marker\":{\"symbol\":\"circle\"},\"mode\":\"lines\",\"name\":\"0386.HK\",\"orientation\":\"v\",\"showlegend\":true,\"x\":[\"4th_latest\",\"3rd_latest\",\"2nd_latest\",\"Latest\"],\"xaxis\":\"x\",\"y\":[175868000000.0,153619000000.0,168520000000.0,225174000000.0],\"yaxis\":\"y\",\"type\":\"scatter\"},{\"hovertemplate\":\"variable=3690.HK<br>index=%{x}<br>value=%{y}<extra></extra>\",\"legendgroup\":\"3690.HK\",\"line\":{\"color\":\"#19d3f3\",\"dash\":\"solid\"},\"marker\":{\"symbol\":\"circle\"},\"mode\":\"lines\",\"name\":\"3690.HK\",\"orientation\":\"v\",\"showlegend\":true,\"x\":[\"4th_latest\",\"3rd_latest\",\"2nd_latest\",\"Latest\"],\"xaxis\":\"x\",\"y\":[-9179818000.0,5574220000.0,8475013000.0,-4011457000.0],\"yaxis\":\"y\",\"type\":\"scatter\"},{\"hovertemplate\":\"variable=1398.HK<br>index=%{x}<br>value=%{y}<extra></extra>\",\"legendgroup\":\"1398.HK\",\"line\":{\"color\":\"#FF6692\",\"dash\":\"solid\"},\"marker\":{\"symbol\":\"circle\"},\"mode\":\"lines\",\"name\":\"1398.HK\",\"orientation\":\"v\",\"showlegend\":true,\"x\":[\"4th_latest\",\"3rd_latest\",\"2nd_latest\",\"Latest\"],\"xaxis\":\"x\",\"y\":[724133000000.0,-1062164000000.0,1557616000000.0,360882000000.0],\"yaxis\":\"y\",\"type\":\"scatter\"},{\"hovertemplate\":\"variable=1093.HK<br>index=%{x}<br>value=%{y}<extra></extra>\",\"legendgroup\":\"1093.HK\",\"line\":{\"color\":\"#B6E880\",\"dash\":\"solid\"},\"marker\":{\"symbol\":\"circle\"},\"mode\":\"lines\",\"name\":\"1093.HK\",\"orientation\":\"v\",\"showlegend\":true,\"x\":[\"4th_latest\",\"3rd_latest\",\"2nd_latest\",\"Latest\"],\"xaxis\":\"x\",\"y\":[3795293000.0,3783900000.0,6739610000.0,4636627000.0],\"yaxis\":\"y\",\"type\":\"scatter\"},{\"hovertemplate\":\"variable=2020.HK<br>index=%{x}<br>value=%{y}<extra></extra>\",\"legendgroup\":\"2020.HK\",\"line\":{\"color\":\"#FF97FF\",\"dash\":\"solid\"},\"marker\":{\"symbol\":\"circle\"},\"mode\":\"lines\",\"name\":\"2020.HK\",\"orientation\":\"v\",\"showlegend\":true,\"x\":[\"4th_latest\",\"3rd_latest\",\"2nd_latest\",\"Latest\"],\"xaxis\":\"x\",\"y\":[4439710000.0,7485000000.0,7458000000.0,11861000000.0],\"yaxis\":\"y\",\"type\":\"scatter\"},{\"hovertemplate\":\"variable=2331.HK<br>index=%{x}<br>value=%{y}<extra></extra>\",\"legendgroup\":\"2331.HK\",\"line\":{\"color\":\"#FECB52\",\"dash\":\"solid\"},\"marker\":{\"symbol\":\"circle\"},\"mode\":\"lines\",\"name\":\"2331.HK\",\"orientation\":\"v\",\"showlegend\":true,\"x\":[\"4th_latest\",\"3rd_latest\",\"2nd_latest\",\"Latest\"],\"xaxis\":\"x\",\"y\":[1671869000.0,3503469000.0,2763336000.0,6525335000.0],\"yaxis\":\"y\",\"type\":\"scatter\"}],                        {\"template\":{\"data\":{\"bar\":[{\"error_x\":{\"color\":\"#2a3f5f\"},\"error_y\":{\"color\":\"#2a3f5f\"},\"marker\":{\"line\":{\"color\":\"#E5ECF6\",\"width\":0.5},\"pattern\":{\"fillmode\":\"overlay\",\"size\":10,\"solidity\":0.2}},\"type\":\"bar\"}],\"barpolar\":[{\"marker\":{\"line\":{\"color\":\"#E5ECF6\",\"width\":0.5},\"pattern\":{\"fillmode\":\"overlay\",\"size\":10,\"solidity\":0.2}},\"type\":\"barpolar\"}],\"carpet\":[{\"aaxis\":{\"endlinecolor\":\"#2a3f5f\",\"gridcolor\":\"white\",\"linecolor\":\"white\",\"minorgridcolor\":\"white\",\"startlinecolor\":\"#2a3f5f\"},\"baxis\":{\"endlinecolor\":\"#2a3f5f\",\"gridcolor\":\"white\",\"linecolor\":\"white\",\"minorgridcolor\":\"white\",\"startlinecolor\":\"#2a3f5f\"},\"type\":\"carpet\"}],\"choropleth\":[{\"colorbar\":{\"outlinewidth\":0,\"ticks\":\"\"},\"type\":\"choropleth\"}],\"contour\":[{\"colorbar\":{\"outlinewidth\":0,\"ticks\":\"\"},\"colorscale\":[[0.0,\"#0d0887\"],[0.1111111111111111,\"#46039f\"],[0.2222222222222222,\"#7201a8\"],[0.3333333333333333,\"#9c179e\"],[0.4444444444444444,\"#bd3786\"],[0.5555555555555556,\"#d8576b\"],[0.6666666666666666,\"#ed7953\"],[0.7777777777777778,\"#fb9f3a\"],[0.8888888888888888,\"#fdca26\"],[1.0,\"#f0f921\"]],\"type\":\"contour\"}],\"contourcarpet\":[{\"colorbar\":{\"outlinewidth\":0,\"ticks\":\"\"},\"type\":\"contourcarpet\"}],\"heatmap\":[{\"colorbar\":{\"outlinewidth\":0,\"ticks\":\"\"},\"colorscale\":[[0.0,\"#0d0887\"],[0.1111111111111111,\"#46039f\"],[0.2222222222222222,\"#7201a8\"],[0.3333333333333333,\"#9c179e\"],[0.4444444444444444,\"#bd3786\"],[0.5555555555555556,\"#d8576b\"],[0.6666666666666666,\"#ed7953\"],[0.7777777777777778,\"#fb9f3a\"],[0.8888888888888888,\"#fdca26\"],[1.0,\"#f0f921\"]],\"type\":\"heatmap\"}],\"heatmapgl\":[{\"colorbar\":{\"outlinewidth\":0,\"ticks\":\"\"},\"colorscale\":[[0.0,\"#0d0887\"],[0.1111111111111111,\"#46039f\"],[0.2222222222222222,\"#7201a8\"],[0.3333333333333333,\"#9c179e\"],[0.4444444444444444,\"#bd3786\"],[0.5555555555555556,\"#d8576b\"],[0.6666666666666666,\"#ed7953\"],[0.7777777777777778,\"#fb9f3a\"],[0.8888888888888888,\"#fdca26\"],[1.0,\"#f0f921\"]],\"type\":\"heatmapgl\"}],\"histogram\":[{\"marker\":{\"pattern\":{\"fillmode\":\"overlay\",\"size\":10,\"solidity\":0.2}},\"type\":\"histogram\"}],\"histogram2d\":[{\"colorbar\":{\"outlinewidth\":0,\"ticks\":\"\"},\"colorscale\":[[0.0,\"#0d0887\"],[0.1111111111111111,\"#46039f\"],[0.2222222222222222,\"#7201a8\"],[0.3333333333333333,\"#9c179e\"],[0.4444444444444444,\"#bd3786\"],[0.5555555555555556,\"#d8576b\"],[0.6666666666666666,\"#ed7953\"],[0.7777777777777778,\"#fb9f3a\"],[0.8888888888888888,\"#fdca26\"],[1.0,\"#f0f921\"]],\"type\":\"histogram2d\"}],\"histogram2dcontour\":[{\"colorbar\":{\"outlinewidth\":0,\"ticks\":\"\"},\"colorscale\":[[0.0,\"#0d0887\"],[0.1111111111111111,\"#46039f\"],[0.2222222222222222,\"#7201a8\"],[0.3333333333333333,\"#9c179e\"],[0.4444444444444444,\"#bd3786\"],[0.5555555555555556,\"#d8576b\"],[0.6666666666666666,\"#ed7953\"],[0.7777777777777778,\"#fb9f3a\"],[0.8888888888888888,\"#fdca26\"],[1.0,\"#f0f921\"]],\"type\":\"histogram2dcontour\"}],\"mesh3d\":[{\"colorbar\":{\"outlinewidth\":0,\"ticks\":\"\"},\"type\":\"mesh3d\"}],\"parcoords\":[{\"line\":{\"colorbar\":{\"outlinewidth\":0,\"ticks\":\"\"}},\"type\":\"parcoords\"}],\"pie\":[{\"automargin\":true,\"type\":\"pie\"}],\"scatter\":[{\"marker\":{\"colorbar\":{\"outlinewidth\":0,\"ticks\":\"\"}},\"type\":\"scatter\"}],\"scatter3d\":[{\"line\":{\"colorbar\":{\"outlinewidth\":0,\"ticks\":\"\"}},\"marker\":{\"colorbar\":{\"outlinewidth\":0,\"ticks\":\"\"}},\"type\":\"scatter3d\"}],\"scattercarpet\":[{\"marker\":{\"colorbar\":{\"outlinewidth\":0,\"ticks\":\"\"}},\"type\":\"scattercarpet\"}],\"scattergeo\":[{\"marker\":{\"colorbar\":{\"outlinewidth\":0,\"ticks\":\"\"}},\"type\":\"scattergeo\"}],\"scattergl\":[{\"marker\":{\"colorbar\":{\"outlinewidth\":0,\"ticks\":\"\"}},\"type\":\"scattergl\"}],\"scattermapbox\":[{\"marker\":{\"colorbar\":{\"outlinewidth\":0,\"ticks\":\"\"}},\"type\":\"scattermapbox\"}],\"scatterpolar\":[{\"marker\":{\"colorbar\":{\"outlinewidth\":0,\"ticks\":\"\"}},\"type\":\"scatterpolar\"}],\"scatterpolargl\":[{\"marker\":{\"colorbar\":{\"outlinewidth\":0,\"ticks\":\"\"}},\"type\":\"scatterpolargl\"}],\"scatterternary\":[{\"marker\":{\"colorbar\":{\"outlinewidth\":0,\"ticks\":\"\"}},\"type\":\"scatterternary\"}],\"surface\":[{\"colorbar\":{\"outlinewidth\":0,\"ticks\":\"\"},\"colorscale\":[[0.0,\"#0d0887\"],[0.1111111111111111,\"#46039f\"],[0.2222222222222222,\"#7201a8\"],[0.3333333333333333,\"#9c179e\"],[0.4444444444444444,\"#bd3786\"],[0.5555555555555556,\"#d8576b\"],[0.6666666666666666,\"#ed7953\"],[0.7777777777777778,\"#fb9f3a\"],[0.8888888888888888,\"#fdca26\"],[1.0,\"#f0f921\"]],\"type\":\"surface\"}],\"table\":[{\"cells\":{\"fill\":{\"color\":\"#EBF0F8\"},\"line\":{\"color\":\"white\"}},\"header\":{\"fill\":{\"color\":\"#C8D4E3\"},\"line\":{\"color\":\"white\"}},\"type\":\"table\"}]},\"layout\":{\"annotationdefaults\":{\"arrowcolor\":\"#2a3f5f\",\"arrowhead\":0,\"arrowwidth\":1},\"autotypenumbers\":\"strict\",\"coloraxis\":{\"colorbar\":{\"outlinewidth\":0,\"ticks\":\"\"}},\"colorscale\":{\"diverging\":[[0,\"#8e0152\"],[0.1,\"#c51b7d\"],[0.2,\"#de77ae\"],[0.3,\"#f1b6da\"],[0.4,\"#fde0ef\"],[0.5,\"#f7f7f7\"],[0.6,\"#e6f5d0\"],[0.7,\"#b8e186\"],[0.8,\"#7fbc41\"],[0.9,\"#4d9221\"],[1,\"#276419\"]],\"sequential\":[[0.0,\"#0d0887\"],[0.1111111111111111,\"#46039f\"],[0.2222222222222222,\"#7201a8\"],[0.3333333333333333,\"#9c179e\"],[0.4444444444444444,\"#bd3786\"],[0.5555555555555556,\"#d8576b\"],[0.6666666666666666,\"#ed7953\"],[0.7777777777777778,\"#fb9f3a\"],[0.8888888888888888,\"#fdca26\"],[1.0,\"#f0f921\"]],\"sequentialminus\":[[0.0,\"#0d0887\"],[0.1111111111111111,\"#46039f\"],[0.2222222222222222,\"#7201a8\"],[0.3333333333333333,\"#9c179e\"],[0.4444444444444444,\"#bd3786\"],[0.5555555555555556,\"#d8576b\"],[0.6666666666666666,\"#ed7953\"],[0.7777777777777778,\"#fb9f3a\"],[0.8888888888888888,\"#fdca26\"],[1.0,\"#f0f921\"]]},\"colorway\":[\"#636efa\",\"#EF553B\",\"#00cc96\",\"#ab63fa\",\"#FFA15A\",\"#19d3f3\",\"#FF6692\",\"#B6E880\",\"#FF97FF\",\"#FECB52\"],\"font\":{\"color\":\"#2a3f5f\"},\"geo\":{\"bgcolor\":\"white\",\"lakecolor\":\"white\",\"landcolor\":\"#E5ECF6\",\"showlakes\":true,\"showland\":true,\"subunitcolor\":\"white\"},\"hoverlabel\":{\"align\":\"left\"},\"hovermode\":\"closest\",\"mapbox\":{\"style\":\"light\"},\"paper_bgcolor\":\"white\",\"plot_bgcolor\":\"#E5ECF6\",\"polar\":{\"angularaxis\":{\"gridcolor\":\"white\",\"linecolor\":\"white\",\"ticks\":\"\"},\"bgcolor\":\"#E5ECF6\",\"radialaxis\":{\"gridcolor\":\"white\",\"linecolor\":\"white\",\"ticks\":\"\"}},\"scene\":{\"xaxis\":{\"backgroundcolor\":\"#E5ECF6\",\"gridcolor\":\"white\",\"gridwidth\":2,\"linecolor\":\"white\",\"showbackground\":true,\"ticks\":\"\",\"zerolinecolor\":\"white\"},\"yaxis\":{\"backgroundcolor\":\"#E5ECF6\",\"gridcolor\":\"white\",\"gridwidth\":2,\"linecolor\":\"white\",\"showbackground\":true,\"ticks\":\"\",\"zerolinecolor\":\"white\"},\"zaxis\":{\"backgroundcolor\":\"#E5ECF6\",\"gridcolor\":\"white\",\"gridwidth\":2,\"linecolor\":\"white\",\"showbackground\":true,\"ticks\":\"\",\"zerolinecolor\":\"white\"}},\"shapedefaults\":{\"line\":{\"color\":\"#2a3f5f\"}},\"ternary\":{\"aaxis\":{\"gridcolor\":\"white\",\"linecolor\":\"white\",\"ticks\":\"\"},\"baxis\":{\"gridcolor\":\"white\",\"linecolor\":\"white\",\"ticks\":\"\"},\"bgcolor\":\"#E5ECF6\",\"caxis\":{\"gridcolor\":\"white\",\"linecolor\":\"white\",\"ticks\":\"\"}},\"title\":{\"x\":0.05},\"xaxis\":{\"automargin\":true,\"gridcolor\":\"white\",\"linecolor\":\"white\",\"ticks\":\"\",\"title\":{\"standoff\":15},\"zerolinecolor\":\"white\",\"zerolinewidth\":2},\"yaxis\":{\"automargin\":true,\"gridcolor\":\"white\",\"linecolor\":\"white\",\"ticks\":\"\",\"title\":{\"standoff\":15},\"zerolinecolor\":\"white\",\"zerolinewidth\":2}}},\"xaxis\":{\"anchor\":\"y\",\"domain\":[0.0,1.0],\"title\":{\"text\":\"index\"}},\"yaxis\":{\"anchor\":\"x\",\"domain\":[0.0,1.0],\"title\":{\"text\":\"value\"}},\"legend\":{\"title\":{\"text\":\"variable\"},\"tracegroupgap\":0},\"margin\":{\"t\":60}},                        {\"responsive\": true}                    ).then(function(){\n",
              "                            \n",
              "var gd = document.getElementById('91aea506-ee79-4438-b80a-9c7cc827fa63');\n",
              "var x = new MutationObserver(function (mutations, observer) {{\n",
              "        var display = window.getComputedStyle(gd).display;\n",
              "        if (!display || display === 'none') {{\n",
              "            console.log([gd, 'removed!']);\n",
              "            Plotly.purge(gd);\n",
              "            observer.disconnect();\n",
              "        }}\n",
              "}});\n",
              "\n",
              "// Listen for the removal of the full notebook cells\n",
              "var notebookContainer = gd.closest('#notebook-container');\n",
              "if (notebookContainer) {{\n",
              "    x.observe(notebookContainer, {childList: true});\n",
              "}}\n",
              "\n",
              "// Listen for the clearing of the current output cell\n",
              "var outputEl = gd.closest('.output');\n",
              "if (outputEl) {{\n",
              "    x.observe(outputEl, {childList: true});\n",
              "}}\n",
              "\n",
              "                        })                };                            </script>        </div>\n",
              "</body>\n",
              "</html>"
            ]
          },
          "metadata": {}
        }
      ]
    }
  ]
}